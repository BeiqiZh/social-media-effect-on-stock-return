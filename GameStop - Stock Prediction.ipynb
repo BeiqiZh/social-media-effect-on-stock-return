{
 "cells": [
  {
   "cell_type": "markdown",
   "id": "buried-north",
   "metadata": {},
   "source": [
    "# Stock Prediction - Using Only Stock Data (5 Years Timeframe)"
   ]
  },
  {
   "cell_type": "code",
   "execution_count": 75,
   "id": "entitled-effectiveness",
   "metadata": {},
   "outputs": [],
   "source": [
    "import talib\n",
    "import numpy as np\n",
    "import random\n",
    "random.seed(42)"
   ]
  },
  {
   "cell_type": "code",
   "execution_count": 76,
   "id": "failing-circle",
   "metadata": {},
   "outputs": [],
   "source": [
    "from pandas_datareader import data\n",
    "import matplotlib.pyplot as plt\n",
    "import pandas as pd\n",
    "\n",
    "tickers = ['GME']\n",
    "\n",
    "# We would like all available data from 01/01/2000 until 12/31/2016.\n",
    "start_date = '2016-02-26'\n",
    "end_date = '2021-02-26'\n",
    "\n",
    "# User pandas_reader.data.DataReader to load the desired data. As simple as that.\n",
    "panel_data = data.DataReader('GME', 'yahoo', start_date, end_date).reset_index()"
   ]
  },
  {
   "cell_type": "code",
   "execution_count": 77,
   "id": "violent-playlist",
   "metadata": {},
   "outputs": [
    {
     "data": {
      "text/html": [
       "<div>\n",
       "<style scoped>\n",
       "    .dataframe tbody tr th:only-of-type {\n",
       "        vertical-align: middle;\n",
       "    }\n",
       "\n",
       "    .dataframe tbody tr th {\n",
       "        vertical-align: top;\n",
       "    }\n",
       "\n",
       "    .dataframe thead th {\n",
       "        text-align: right;\n",
       "    }\n",
       "</style>\n",
       "<table border=\"1\" class=\"dataframe\">\n",
       "  <thead>\n",
       "    <tr style=\"text-align: right;\">\n",
       "      <th></th>\n",
       "      <th>Date</th>\n",
       "      <th>High</th>\n",
       "      <th>Low</th>\n",
       "      <th>Open</th>\n",
       "      <th>Close</th>\n",
       "      <th>Volume</th>\n",
       "      <th>Adj Close</th>\n",
       "    </tr>\n",
       "  </thead>\n",
       "  <tbody>\n",
       "    <tr>\n",
       "      <th>0</th>\n",
       "      <td>2016-02-26</td>\n",
       "      <td>30.610001</td>\n",
       "      <td>29.930000</td>\n",
       "      <td>30.110001</td>\n",
       "      <td>30.540001</td>\n",
       "      <td>1693900.0</td>\n",
       "      <td>23.569849</td>\n",
       "    </tr>\n",
       "    <tr>\n",
       "      <th>1</th>\n",
       "      <td>2016-02-29</td>\n",
       "      <td>31.090000</td>\n",
       "      <td>30.020000</td>\n",
       "      <td>30.440001</td>\n",
       "      <td>30.820000</td>\n",
       "      <td>2350400.0</td>\n",
       "      <td>23.785942</td>\n",
       "    </tr>\n",
       "    <tr>\n",
       "      <th>2</th>\n",
       "      <td>2016-03-01</td>\n",
       "      <td>31.240000</td>\n",
       "      <td>30.490000</td>\n",
       "      <td>31.049999</td>\n",
       "      <td>30.940001</td>\n",
       "      <td>2130100.0</td>\n",
       "      <td>23.878555</td>\n",
       "    </tr>\n",
       "    <tr>\n",
       "      <th>3</th>\n",
       "      <td>2016-03-02</td>\n",
       "      <td>31.680000</td>\n",
       "      <td>29.160000</td>\n",
       "      <td>30.879999</td>\n",
       "      <td>31.290001</td>\n",
       "      <td>4113100.0</td>\n",
       "      <td>24.148674</td>\n",
       "    </tr>\n",
       "    <tr>\n",
       "      <th>4</th>\n",
       "      <td>2016-03-03</td>\n",
       "      <td>32.950001</td>\n",
       "      <td>31.280001</td>\n",
       "      <td>31.360001</td>\n",
       "      <td>32.709999</td>\n",
       "      <td>3549000.0</td>\n",
       "      <td>25.244589</td>\n",
       "    </tr>\n",
       "  </tbody>\n",
       "</table>\n",
       "</div>"
      ],
      "text/plain": [
       "        Date       High        Low       Open      Close     Volume  Adj Close\n",
       "0 2016-02-26  30.610001  29.930000  30.110001  30.540001  1693900.0  23.569849\n",
       "1 2016-02-29  31.090000  30.020000  30.440001  30.820000  2350400.0  23.785942\n",
       "2 2016-03-01  31.240000  30.490000  31.049999  30.940001  2130100.0  23.878555\n",
       "3 2016-03-02  31.680000  29.160000  30.879999  31.290001  4113100.0  24.148674\n",
       "4 2016-03-03  32.950001  31.280001  31.360001  32.709999  3549000.0  25.244589"
      ]
     },
     "execution_count": 77,
     "metadata": {},
     "output_type": "execute_result"
    }
   ],
   "source": [
    "panel_data.head()"
   ]
  },
  {
   "cell_type": "code",
   "execution_count": 78,
   "id": "rational-cisco",
   "metadata": {},
   "outputs": [
    {
     "data": {
      "text/plain": [
       "(1260, 7)"
      ]
     },
     "execution_count": 78,
     "metadata": {},
     "output_type": "execute_result"
    }
   ],
   "source": [
    "panel_data.shape"
   ]
  },
  {
   "cell_type": "code",
   "execution_count": 79,
   "id": "written-drove",
   "metadata": {},
   "outputs": [],
   "source": [
    "dataset = panel_data.dropna()\n",
    "#dataset = dataset[['Open', 'High', 'Low', 'Close']]"
   ]
  },
  {
   "cell_type": "markdown",
   "id": "changed-burton",
   "metadata": {},
   "source": [
    "New columns\n",
    "- High minus Low price\n",
    "- Close minus Open price\n",
    "- Three day moving average\n",
    "- Ten day moving average\n",
    "- 30 day moving average\n",
    "- Standard deviation for a period of 5 days\n",
    "- Relative Strength Index (RSI): chart the current and historical strength or weakness of a stock or market based on the closing prices of a recent trading period.\n",
    "- Williams %R: technical analysis oscillator showing the current closing price in relation to the high and low of the past N days."
   ]
  },
  {
   "cell_type": "code",
   "execution_count": 80,
   "id": "transsexual-request",
   "metadata": {},
   "outputs": [],
   "source": [
    "dataset['H-L'] = dataset['High'] - dataset['Low']\n",
    "dataset['O-C'] = dataset['Close'] - dataset['Open']\n",
    "dataset['3day MA'] = dataset['Close'].shift(1).rolling(window = 3).mean()\n",
    "dataset['10day MA'] = dataset['Close'].shift(1).rolling(window = 10).mean()\n",
    "dataset['30day MA'] = dataset['Close'].shift(1).rolling(window = 30).mean()\n",
    "dataset['Std_dev']= dataset['Close'].rolling(5).std()\n",
    "dataset['RSI'] = talib.RSI(dataset['Close'].values, timeperiod = 9)\n",
    "dataset['Williams %R'] = talib.WILLR(dataset['High'].values, dataset['Low'].values, dataset['Close'].values, 7)"
   ]
  },
  {
   "cell_type": "markdown",
   "id": "willing-humanitarian",
   "metadata": {},
   "source": [
    "We then define the output value as price rise, which is a binary variable storing 1 when the closing price of tomorrow is greater than the closing price of today.\n",
    "- Price Rise"
   ]
  },
  {
   "cell_type": "code",
   "execution_count": 81,
   "id": "affected-shopping",
   "metadata": {},
   "outputs": [],
   "source": [
    "dataset['Price_Rise'] = np.where(dataset['Close'].shift(-1) > dataset['Close'], 1, 0)"
   ]
  },
  {
   "cell_type": "code",
   "execution_count": 82,
   "id": "sought-invasion",
   "metadata": {},
   "outputs": [],
   "source": [
    "#drop nan\n",
    "dataset = dataset.dropna()"
   ]
  },
  {
   "cell_type": "code",
   "execution_count": 83,
   "id": "tight-activity",
   "metadata": {
    "scrolled": true
   },
   "outputs": [
    {
     "data": {
      "text/html": [
       "<div>\n",
       "<style scoped>\n",
       "    .dataframe tbody tr th:only-of-type {\n",
       "        vertical-align: middle;\n",
       "    }\n",
       "\n",
       "    .dataframe tbody tr th {\n",
       "        vertical-align: top;\n",
       "    }\n",
       "\n",
       "    .dataframe thead th {\n",
       "        text-align: right;\n",
       "    }\n",
       "</style>\n",
       "<table border=\"1\" class=\"dataframe\">\n",
       "  <thead>\n",
       "    <tr style=\"text-align: right;\">\n",
       "      <th></th>\n",
       "      <th>Date</th>\n",
       "      <th>High</th>\n",
       "      <th>Low</th>\n",
       "      <th>Open</th>\n",
       "      <th>Close</th>\n",
       "      <th>Volume</th>\n",
       "      <th>Adj Close</th>\n",
       "      <th>H-L</th>\n",
       "      <th>O-C</th>\n",
       "      <th>3day MA</th>\n",
       "      <th>10day MA</th>\n",
       "      <th>30day MA</th>\n",
       "      <th>Std_dev</th>\n",
       "      <th>RSI</th>\n",
       "      <th>Williams %R</th>\n",
       "      <th>Price_Rise</th>\n",
       "    </tr>\n",
       "  </thead>\n",
       "  <tbody>\n",
       "    <tr>\n",
       "      <th>30</th>\n",
       "      <td>2016-04-11</td>\n",
       "      <td>30.620001</td>\n",
       "      <td>29.719999</td>\n",
       "      <td>29.740000</td>\n",
       "      <td>29.879999</td>\n",
       "      <td>2045300.0</td>\n",
       "      <td>23.324310</td>\n",
       "      <td>0.900002</td>\n",
       "      <td>0.139999</td>\n",
       "      <td>29.566667</td>\n",
       "      <td>30.635</td>\n",
       "      <td>30.847667</td>\n",
       "      <td>0.470563</td>\n",
       "      <td>43.065726</td>\n",
       "      <td>-68.115975</td>\n",
       "      <td>1</td>\n",
       "    </tr>\n",
       "    <tr>\n",
       "      <th>31</th>\n",
       "      <td>2016-04-12</td>\n",
       "      <td>30.469999</td>\n",
       "      <td>29.709999</td>\n",
       "      <td>30.000000</td>\n",
       "      <td>30.090000</td>\n",
       "      <td>1960100.0</td>\n",
       "      <td>23.488241</td>\n",
       "      <td>0.760000</td>\n",
       "      <td>0.090000</td>\n",
       "      <td>29.496667</td>\n",
       "      <td>30.614</td>\n",
       "      <td>30.825667</td>\n",
       "      <td>0.421699</td>\n",
       "      <td>45.932418</td>\n",
       "      <td>-54.958673</td>\n",
       "      <td>1</td>\n",
       "    </tr>\n",
       "    <tr>\n",
       "      <th>32</th>\n",
       "      <td>2016-04-13</td>\n",
       "      <td>31.600000</td>\n",
       "      <td>30.190001</td>\n",
       "      <td>30.250000</td>\n",
       "      <td>31.469999</td>\n",
       "      <td>2172900.0</td>\n",
       "      <td>24.565464</td>\n",
       "      <td>1.410000</td>\n",
       "      <td>1.219999</td>\n",
       "      <td>29.820000</td>\n",
       "      <td>30.472</td>\n",
       "      <td>30.801334</td>\n",
       "      <td>0.896855</td>\n",
       "      <td>60.598891</td>\n",
       "      <td>-5.000040</td>\n",
       "      <td>1</td>\n",
       "    </tr>\n",
       "    <tr>\n",
       "      <th>33</th>\n",
       "      <td>2016-04-14</td>\n",
       "      <td>31.730000</td>\n",
       "      <td>30.610001</td>\n",
       "      <td>31.360001</td>\n",
       "      <td>31.650000</td>\n",
       "      <td>2564900.0</td>\n",
       "      <td>24.705973</td>\n",
       "      <td>1.119999</td>\n",
       "      <td>0.289999</td>\n",
       "      <td>30.480000</td>\n",
       "      <td>30.443</td>\n",
       "      <td>30.819000</td>\n",
       "      <td>0.979122</td>\n",
       "      <td>62.107207</td>\n",
       "      <td>-2.930401</td>\n",
       "      <td>1</td>\n",
       "    </tr>\n",
       "    <tr>\n",
       "      <th>34</th>\n",
       "      <td>2016-04-15</td>\n",
       "      <td>32.139999</td>\n",
       "      <td>31.510000</td>\n",
       "      <td>31.750000</td>\n",
       "      <td>31.790001</td>\n",
       "      <td>2585500.0</td>\n",
       "      <td>24.815258</td>\n",
       "      <td>0.629999</td>\n",
       "      <td>0.040001</td>\n",
       "      <td>31.070000</td>\n",
       "      <td>30.435</td>\n",
       "      <td>30.831000</td>\n",
       "      <td>0.914757</td>\n",
       "      <td>63.335333</td>\n",
       "      <td>-11.146450</td>\n",
       "      <td>1</td>\n",
       "    </tr>\n",
       "  </tbody>\n",
       "</table>\n",
       "</div>"
      ],
      "text/plain": [
       "         Date       High        Low       Open      Close     Volume  \\\n",
       "30 2016-04-11  30.620001  29.719999  29.740000  29.879999  2045300.0   \n",
       "31 2016-04-12  30.469999  29.709999  30.000000  30.090000  1960100.0   \n",
       "32 2016-04-13  31.600000  30.190001  30.250000  31.469999  2172900.0   \n",
       "33 2016-04-14  31.730000  30.610001  31.360001  31.650000  2564900.0   \n",
       "34 2016-04-15  32.139999  31.510000  31.750000  31.790001  2585500.0   \n",
       "\n",
       "    Adj Close       H-L       O-C    3day MA  10day MA   30day MA   Std_dev  \\\n",
       "30  23.324310  0.900002  0.139999  29.566667    30.635  30.847667  0.470563   \n",
       "31  23.488241  0.760000  0.090000  29.496667    30.614  30.825667  0.421699   \n",
       "32  24.565464  1.410000  1.219999  29.820000    30.472  30.801334  0.896855   \n",
       "33  24.705973  1.119999  0.289999  30.480000    30.443  30.819000  0.979122   \n",
       "34  24.815258  0.629999  0.040001  31.070000    30.435  30.831000  0.914757   \n",
       "\n",
       "          RSI  Williams %R  Price_Rise  \n",
       "30  43.065726   -68.115975           1  \n",
       "31  45.932418   -54.958673           1  \n",
       "32  60.598891    -5.000040           1  \n",
       "33  62.107207    -2.930401           1  \n",
       "34  63.335333   -11.146450           1  "
      ]
     },
     "execution_count": 83,
     "metadata": {},
     "output_type": "execute_result"
    }
   ],
   "source": [
    "#from 2020-12-28 to 2021-02-26\n",
    "dataset.head()"
   ]
  },
  {
   "cell_type": "code",
   "execution_count": 84,
   "id": "religious-lyric",
   "metadata": {},
   "outputs": [],
   "source": [
    "X = dataset.iloc[:, 5:-1]\n",
    "y = dataset.iloc[:, -1]"
   ]
  },
  {
   "cell_type": "code",
   "execution_count": 85,
   "id": "killing-buying",
   "metadata": {},
   "outputs": [
    {
     "data": {
      "text/plain": [
       "(1230, 10)"
      ]
     },
     "execution_count": 85,
     "metadata": {},
     "output_type": "execute_result"
    }
   ],
   "source": [
    "X.shape"
   ]
  },
  {
   "cell_type": "code",
   "execution_count": 86,
   "id": "constitutional-sociology",
   "metadata": {},
   "outputs": [
    {
     "data": {
      "text/plain": [
       "(1230,)"
      ]
     },
     "execution_count": 86,
     "metadata": {},
     "output_type": "execute_result"
    }
   ],
   "source": [
    "y.shape"
   ]
  },
  {
   "cell_type": "code",
   "execution_count": 87,
   "id": "assisted-infection",
   "metadata": {},
   "outputs": [],
   "source": [
    "#split the dataset\n",
    "split = int(len(dataset)*0.8)\n",
    "X_train, X_test, y_train, y_test = X[:split], X[split:], y[:split], y[split:]"
   ]
  },
  {
   "cell_type": "code",
   "execution_count": 88,
   "id": "exclusive-tokyo",
   "metadata": {},
   "outputs": [],
   "source": [
    "#Feature Scaling\n",
    "from sklearn.preprocessing import StandardScaler\n",
    "sc = StandardScaler()\n",
    "X_train = sc.fit_transform(X_train)\n",
    "X_test = sc.transform(X_test)"
   ]
  },
  {
   "cell_type": "markdown",
   "id": "better-canberra",
   "metadata": {},
   "source": [
    "## 1. Building the Artificial Neural Network"
   ]
  },
  {
   "cell_type": "code",
   "execution_count": 89,
   "id": "unknown-marine",
   "metadata": {},
   "outputs": [],
   "source": [
    "from keras.models import Sequential\n",
    "from keras.layers import Dense\n",
    "from keras.layers import Dropout"
   ]
  },
  {
   "cell_type": "code",
   "execution_count": 90,
   "id": "solid-lesson",
   "metadata": {},
   "outputs": [],
   "source": [
    "classifier = Sequential()\n",
    "classifier.add(Dense(units = 128, kernel_initializer = 'uniform', activation = 'relu', input_dim = X.shape[1]))\n",
    "classifier.add(Dense(units = 128, kernel_initializer = 'uniform', activation = 'relu'))\n",
    "classifier.add(Dense(units = 1, kernel_initializer = 'uniform', activation = 'sigmoid'))"
   ]
  },
  {
   "cell_type": "code",
   "execution_count": 91,
   "id": "mechanical-township",
   "metadata": {},
   "outputs": [],
   "source": [
    "classifier.compile(optimizer = 'adam', loss = 'mean_squared_error', metrics = ['accuracy'])"
   ]
  },
  {
   "cell_type": "code",
   "execution_count": 92,
   "id": "nervous-northeast",
   "metadata": {},
   "outputs": [
    {
     "name": "stdout",
     "output_type": "stream",
     "text": [
      "Epoch 1/100\n",
      "99/99 [==============================] - 0s 393us/step - loss: 0.2502 - accuracy: 0.5071\n",
      "Epoch 2/100\n",
      "99/99 [==============================] - 0s 383us/step - loss: 0.2490 - accuracy: 0.5122\n",
      "Epoch 3/100\n",
      "99/99 [==============================] - 0s 373us/step - loss: 0.2494 - accuracy: 0.5122\n",
      "Epoch 4/100\n",
      "99/99 [==============================] - 0s 373us/step - loss: 0.2490 - accuracy: 0.5264\n",
      "Epoch 5/100\n",
      "99/99 [==============================] - 0s 383us/step - loss: 0.2478 - accuracy: 0.5447\n",
      "Epoch 6/100\n",
      "99/99 [==============================] - 0s 373us/step - loss: 0.2475 - accuracy: 0.5518\n",
      "Epoch 7/100\n",
      "99/99 [==============================] - 0s 373us/step - loss: 0.2475 - accuracy: 0.5488\n",
      "Epoch 8/100\n",
      "99/99 [==============================] - 0s 373us/step - loss: 0.2474 - accuracy: 0.5295\n",
      "Epoch 9/100\n",
      "99/99 [==============================] - 0s 373us/step - loss: 0.2452 - accuracy: 0.5518\n",
      "Epoch 10/100\n",
      "99/99 [==============================] - 0s 383us/step - loss: 0.2444 - accuracy: 0.5508\n",
      "Epoch 11/100\n",
      "99/99 [==============================] - 0s 373us/step - loss: 0.2433 - accuracy: 0.5589\n",
      "Epoch 12/100\n",
      "99/99 [==============================] - 0s 373us/step - loss: 0.2419 - accuracy: 0.5752\n",
      "Epoch 13/100\n",
      "99/99 [==============================] - 0s 373us/step - loss: 0.2408 - accuracy: 0.5559\n",
      "Epoch 14/100\n",
      "99/99 [==============================] - 0s 383us/step - loss: 0.2409 - accuracy: 0.5732\n",
      "Epoch 15/100\n",
      "99/99 [==============================] - 0s 383us/step - loss: 0.2393 - accuracy: 0.5711\n",
      "Epoch 16/100\n",
      "99/99 [==============================] - 0s 383us/step - loss: 0.2393 - accuracy: 0.5803\n",
      "Epoch 17/100\n",
      "99/99 [==============================] - 0s 383us/step - loss: 0.2388 - accuracy: 0.5783\n",
      "Epoch 18/100\n",
      "99/99 [==============================] - 0s 383us/step - loss: 0.2369 - accuracy: 0.5874\n",
      "Epoch 19/100\n",
      "99/99 [==============================] - 0s 383us/step - loss: 0.2352 - accuracy: 0.5986\n",
      "Epoch 20/100\n",
      "99/99 [==============================] - 0s 383us/step - loss: 0.2350 - accuracy: 0.6026\n",
      "Epoch 21/100\n",
      "99/99 [==============================] - 0s 383us/step - loss: 0.2336 - accuracy: 0.5925\n",
      "Epoch 22/100\n",
      "99/99 [==============================] - 0s 373us/step - loss: 0.2322 - accuracy: 0.6047\n",
      "Epoch 23/100\n",
      "99/99 [==============================] - 0s 373us/step - loss: 0.2323 - accuracy: 0.6077\n",
      "Epoch 24/100\n",
      "99/99 [==============================] - 0s 383us/step - loss: 0.2305 - accuracy: 0.6098\n",
      "Epoch 25/100\n",
      "99/99 [==============================] - 0s 383us/step - loss: 0.2284 - accuracy: 0.6291\n",
      "Epoch 26/100\n",
      "99/99 [==============================] - 0s 383us/step - loss: 0.2290 - accuracy: 0.6311\n",
      "Epoch 27/100\n",
      "99/99 [==============================] - 0s 373us/step - loss: 0.2292 - accuracy: 0.6280\n",
      "Epoch 28/100\n",
      "99/99 [==============================] - 0s 373us/step - loss: 0.2254 - accuracy: 0.6159\n",
      "Epoch 29/100\n",
      "99/99 [==============================] - 0s 373us/step - loss: 0.2259 - accuracy: 0.6311\n",
      "Epoch 30/100\n",
      "99/99 [==============================] - 0s 383us/step - loss: 0.2225 - accuracy: 0.6453\n",
      "Epoch 31/100\n",
      "99/99 [==============================] - 0s 373us/step - loss: 0.2210 - accuracy: 0.6484\n",
      "Epoch 32/100\n",
      "99/99 [==============================] - 0s 373us/step - loss: 0.2222 - accuracy: 0.6463\n",
      "Epoch 33/100\n",
      "99/99 [==============================] - 0s 363us/step - loss: 0.2194 - accuracy: 0.6453\n",
      "Epoch 34/100\n",
      "99/99 [==============================] - 0s 373us/step - loss: 0.2203 - accuracy: 0.6565\n",
      "Epoch 35/100\n",
      "99/99 [==============================] - 0s 373us/step - loss: 0.2200 - accuracy: 0.6535\n",
      "Epoch 36/100\n",
      "99/99 [==============================] - 0s 373us/step - loss: 0.2197 - accuracy: 0.6514\n",
      "Epoch 37/100\n",
      "99/99 [==============================] - 0s 383us/step - loss: 0.2136 - accuracy: 0.6616\n",
      "Epoch 38/100\n",
      "99/99 [==============================] - 0s 373us/step - loss: 0.2141 - accuracy: 0.6657\n",
      "Epoch 39/100\n",
      "99/99 [==============================] - 0s 373us/step - loss: 0.2124 - accuracy: 0.6646\n",
      "Epoch 40/100\n",
      "99/99 [==============================] - 0s 373us/step - loss: 0.2124 - accuracy: 0.6606\n",
      "Epoch 41/100\n",
      "99/99 [==============================] - 0s 383us/step - loss: 0.2112 - accuracy: 0.6606\n",
      "Epoch 42/100\n",
      "99/99 [==============================] - 0s 373us/step - loss: 0.2109 - accuracy: 0.6596\n",
      "Epoch 43/100\n",
      "99/99 [==============================] - 0s 363us/step - loss: 0.2088 - accuracy: 0.6717\n",
      "Epoch 44/100\n",
      "99/99 [==============================] - 0s 373us/step - loss: 0.2073 - accuracy: 0.6758\n",
      "Epoch 45/100\n",
      "99/99 [==============================] - 0s 373us/step - loss: 0.2055 - accuracy: 0.6555\n",
      "Epoch 46/100\n",
      "99/99 [==============================] - 0s 383us/step - loss: 0.2050 - accuracy: 0.6667\n",
      "Epoch 47/100\n",
      "99/99 [==============================] - 0s 373us/step - loss: 0.2014 - accuracy: 0.6758\n",
      "Epoch 48/100\n",
      "99/99 [==============================] - 0s 373us/step - loss: 0.2013 - accuracy: 0.6931\n",
      "Epoch 49/100\n",
      "99/99 [==============================] - 0s 383us/step - loss: 0.2010 - accuracy: 0.6931\n",
      "Epoch 50/100\n",
      "99/99 [==============================] - 0s 383us/step - loss: 0.1993 - accuracy: 0.6819\n",
      "Epoch 51/100\n",
      "99/99 [==============================] - 0s 383us/step - loss: 0.1967 - accuracy: 0.6941\n",
      "Epoch 52/100\n",
      "99/99 [==============================] - 0s 373us/step - loss: 0.1995 - accuracy: 0.6728\n",
      "Epoch 53/100\n",
      "99/99 [==============================] - 0s 373us/step - loss: 0.1944 - accuracy: 0.6941\n",
      "Epoch 54/100\n",
      "99/99 [==============================] - 0s 373us/step - loss: 0.1952 - accuracy: 0.7012\n",
      "Epoch 55/100\n",
      "99/99 [==============================] - 0s 373us/step - loss: 0.1929 - accuracy: 0.7114\n",
      "Epoch 56/100\n",
      "99/99 [==============================] - 0s 373us/step - loss: 0.1924 - accuracy: 0.7175\n",
      "Epoch 57/100\n",
      "99/99 [==============================] - 0s 373us/step - loss: 0.1924 - accuracy: 0.7053\n",
      "Epoch 58/100\n",
      "99/99 [==============================] - 0s 383us/step - loss: 0.1888 - accuracy: 0.7002\n",
      "Epoch 59/100\n",
      "99/99 [==============================] - 0s 383us/step - loss: 0.1895 - accuracy: 0.7114\n",
      "Epoch 60/100\n",
      "99/99 [==============================] - 0s 383us/step - loss: 0.1868 - accuracy: 0.6972\n",
      "Epoch 61/100\n",
      "99/99 [==============================] - 0s 373us/step - loss: 0.1828 - accuracy: 0.7205\n",
      "Epoch 62/100\n",
      "99/99 [==============================] - 0s 373us/step - loss: 0.1828 - accuracy: 0.7226\n",
      "Epoch 63/100\n",
      "99/99 [==============================] - 0s 373us/step - loss: 0.1832 - accuracy: 0.7327\n",
      "Epoch 64/100\n",
      "99/99 [==============================] - 0s 373us/step - loss: 0.1815 - accuracy: 0.7337\n",
      "Epoch 65/100\n",
      "99/99 [==============================] - 0s 383us/step - loss: 0.1799 - accuracy: 0.7419\n",
      "Epoch 66/100\n",
      "99/99 [==============================] - 0s 383us/step - loss: 0.1814 - accuracy: 0.7276\n",
      "Epoch 67/100\n",
      "99/99 [==============================] - 0s 373us/step - loss: 0.1777 - accuracy: 0.7368\n",
      "Epoch 68/100\n",
      "99/99 [==============================] - 0s 383us/step - loss: 0.1773 - accuracy: 0.7348\n",
      "Epoch 69/100\n",
      "99/99 [==============================] - 0s 383us/step - loss: 0.1729 - accuracy: 0.7551\n",
      "Epoch 70/100\n",
      "99/99 [==============================] - 0s 383us/step - loss: 0.1735 - accuracy: 0.7470\n",
      "Epoch 71/100\n",
      "99/99 [==============================] - 0s 373us/step - loss: 0.1686 - accuracy: 0.7510\n",
      "Epoch 72/100\n",
      "99/99 [==============================] - 0s 373us/step - loss: 0.1698 - accuracy: 0.7470\n",
      "Epoch 73/100\n",
      "99/99 [==============================] - 0s 383us/step - loss: 0.1688 - accuracy: 0.7520\n",
      "Epoch 74/100\n",
      "99/99 [==============================] - 0s 383us/step - loss: 0.1693 - accuracy: 0.7480\n",
      "Epoch 75/100\n",
      "99/99 [==============================] - 0s 373us/step - loss: 0.1724 - accuracy: 0.7439\n",
      "Epoch 76/100\n",
      "99/99 [==============================] - 0s 373us/step - loss: 0.1661 - accuracy: 0.7541\n",
      "Epoch 77/100\n",
      "99/99 [==============================] - 0s 383us/step - loss: 0.1654 - accuracy: 0.7470\n",
      "Epoch 78/100\n",
      "99/99 [==============================] - 0s 373us/step - loss: 0.1612 - accuracy: 0.7774\n",
      "Epoch 79/100\n",
      "99/99 [==============================] - 0s 373us/step - loss: 0.1622 - accuracy: 0.7551\n",
      "Epoch 80/100\n",
      "99/99 [==============================] - 0s 383us/step - loss: 0.1632 - accuracy: 0.7683\n",
      "Epoch 81/100\n"
     ]
    },
    {
     "name": "stdout",
     "output_type": "stream",
     "text": [
      "99/99 [==============================] - 0s 383us/step - loss: 0.1621 - accuracy: 0.7652\n",
      "Epoch 82/100\n",
      "99/99 [==============================] - 0s 373us/step - loss: 0.1605 - accuracy: 0.7683\n",
      "Epoch 83/100\n",
      "99/99 [==============================] - 0s 373us/step - loss: 0.1584 - accuracy: 0.7795\n",
      "Epoch 84/100\n",
      "99/99 [==============================] - 0s 373us/step - loss: 0.1601 - accuracy: 0.7713\n",
      "Epoch 85/100\n",
      "99/99 [==============================] - 0s 373us/step - loss: 0.1567 - accuracy: 0.7774\n",
      "Epoch 86/100\n",
      "99/99 [==============================] - 0s 373us/step - loss: 0.1558 - accuracy: 0.7713\n",
      "Epoch 87/100\n",
      "99/99 [==============================] - 0s 373us/step - loss: 0.1524 - accuracy: 0.7795\n",
      "Epoch 88/100\n",
      "99/99 [==============================] - 0s 373us/step - loss: 0.1515 - accuracy: 0.7876\n",
      "Epoch 89/100\n",
      "99/99 [==============================] - 0s 373us/step - loss: 0.1507 - accuracy: 0.7835\n",
      "Epoch 90/100\n",
      "99/99 [==============================] - 0s 373us/step - loss: 0.1467 - accuracy: 0.8039\n",
      "Epoch 91/100\n",
      "99/99 [==============================] - 0s 373us/step - loss: 0.1494 - accuracy: 0.7866\n",
      "Epoch 92/100\n",
      "99/99 [==============================] - 0s 373us/step - loss: 0.1473 - accuracy: 0.7967\n",
      "Epoch 93/100\n",
      "99/99 [==============================] - 0s 383us/step - loss: 0.1495 - accuracy: 0.8039\n",
      "Epoch 94/100\n",
      "99/99 [==============================] - 0s 373us/step - loss: 0.1486 - accuracy: 0.7988\n",
      "Epoch 95/100\n",
      "99/99 [==============================] - 0s 373us/step - loss: 0.1469 - accuracy: 0.7978\n",
      "Epoch 96/100\n",
      "99/99 [==============================] - 0s 373us/step - loss: 0.1462 - accuracy: 0.8028\n",
      "Epoch 97/100\n",
      "99/99 [==============================] - 0s 373us/step - loss: 0.1412 - accuracy: 0.8110\n",
      "Epoch 98/100\n",
      "99/99 [==============================] - 0s 373us/step - loss: 0.1415 - accuracy: 0.8028\n",
      "Epoch 99/100\n",
      "99/99 [==============================] - 0s 373us/step - loss: 0.1405 - accuracy: 0.8008\n",
      "Epoch 100/100\n",
      "99/99 [==============================] - 0s 373us/step - loss: 0.1379 - accuracy: 0.8150\n"
     ]
    },
    {
     "data": {
      "text/plain": [
       "<tensorflow.python.keras.callbacks.History at 0x1cecb3dc0d0>"
      ]
     },
     "execution_count": 92,
     "metadata": {},
     "output_type": "execute_result"
    }
   ],
   "source": [
    "classifier.fit(X_train, y_train, batch_size = 10, epochs = 100)"
   ]
  },
  {
   "cell_type": "markdown",
   "id": "assumed-marina",
   "metadata": {},
   "source": [
    "## 2.Predicting the movement of the stock\n",
    "- True or False depending on whether the predicted value was greater or less than 0.5"
   ]
  },
  {
   "cell_type": "code",
   "execution_count": 93,
   "id": "architectural-documentation",
   "metadata": {},
   "outputs": [],
   "source": [
    "y_pred = classifier.predict(X_test)\n",
    "y_pred = (y_pred > 0.5)"
   ]
  },
  {
   "cell_type": "code",
   "execution_count": 94,
   "id": "public-london",
   "metadata": {},
   "outputs": [],
   "source": [
    "dataset['y_pred'] = np.NaN\n",
    "dataset.iloc[(len(dataset) - len(y_pred)):,-1:] = y_pred\n",
    "trade_dataset = dataset.dropna()"
   ]
  },
  {
   "cell_type": "markdown",
   "id": "fluid-qatar",
   "metadata": {},
   "source": [
    "## 3. Computing Strategy Returns\n",
    "- We will be taking a long position when the predicted value of y is true and will take a short position when the predicted signal is False.\n",
    "- Compute the returns that the strategy will earn if a long position is taken at the end of today, and squared off at the end of the next day"
   ]
  },
  {
   "cell_type": "code",
   "execution_count": 95,
   "id": "through-pathology",
   "metadata": {},
   "outputs": [
    {
     "name": "stderr",
     "output_type": "stream",
     "text": [
      "<ipython-input-95-3098c58b4cf7>:1: SettingWithCopyWarning: \n",
      "A value is trying to be set on a copy of a slice from a DataFrame.\n",
      "Try using .loc[row_indexer,col_indexer] = value instead\n",
      "\n",
      "See the caveats in the documentation: https://pandas.pydata.org/pandas-docs/stable/user_guide/indexing.html#returning-a-view-versus-a-copy\n",
      "  trade_dataset['Tomorrows Returns'] = 0.\n",
      "<ipython-input-95-3098c58b4cf7>:2: SettingWithCopyWarning: \n",
      "A value is trying to be set on a copy of a slice from a DataFrame.\n",
      "Try using .loc[row_indexer,col_indexer] = value instead\n",
      "\n",
      "See the caveats in the documentation: https://pandas.pydata.org/pandas-docs/stable/user_guide/indexing.html#returning-a-view-versus-a-copy\n",
      "  trade_dataset['Tomorrows Returns'] = np.log(trade_dataset['Close']/trade_dataset['Close'].shift(1))\n",
      "<ipython-input-95-3098c58b4cf7>:3: SettingWithCopyWarning: \n",
      "A value is trying to be set on a copy of a slice from a DataFrame.\n",
      "Try using .loc[row_indexer,col_indexer] = value instead\n",
      "\n",
      "See the caveats in the documentation: https://pandas.pydata.org/pandas-docs/stable/user_guide/indexing.html#returning-a-view-versus-a-copy\n",
      "  trade_dataset['Tomorrows Returns'] = trade_dataset['Tomorrows Returns'].shift(-1)\n"
     ]
    }
   ],
   "source": [
    "trade_dataset['Tomorrows Returns'] = 0.\n",
    "trade_dataset['Tomorrows Returns'] = np.log(trade_dataset['Close']/trade_dataset['Close'].shift(1))\n",
    "trade_dataset['Tomorrows Returns'] = trade_dataset['Tomorrows Returns'].shift(-1)"
   ]
  },
  {
   "cell_type": "code",
   "execution_count": 96,
   "id": "exact-johnston",
   "metadata": {},
   "outputs": [
    {
     "name": "stderr",
     "output_type": "stream",
     "text": [
      "<ipython-input-96-c8d278af7601>:1: SettingWithCopyWarning: \n",
      "A value is trying to be set on a copy of a slice from a DataFrame.\n",
      "Try using .loc[row_indexer,col_indexer] = value instead\n",
      "\n",
      "See the caveats in the documentation: https://pandas.pydata.org/pandas-docs/stable/user_guide/indexing.html#returning-a-view-versus-a-copy\n",
      "  trade_dataset['Strategy Returns'] = 0.\n",
      "<ipython-input-96-c8d278af7601>:2: SettingWithCopyWarning: \n",
      "A value is trying to be set on a copy of a slice from a DataFrame.\n",
      "Try using .loc[row_indexer,col_indexer] = value instead\n",
      "\n",
      "See the caveats in the documentation: https://pandas.pydata.org/pandas-docs/stable/user_guide/indexing.html#returning-a-view-versus-a-copy\n",
      "  trade_dataset['Strategy Returns'] = np.where(trade_dataset['y_pred'] == True, trade_dataset['Tomorrows Returns'], - trade_dataset['Tomorrows Returns'])\n"
     ]
    }
   ],
   "source": [
    "trade_dataset['Strategy Returns'] = 0.\n",
    "trade_dataset['Strategy Returns'] = np.where(trade_dataset['y_pred'] == True, trade_dataset['Tomorrows Returns'], - trade_dataset['Tomorrows Returns'])"
   ]
  },
  {
   "cell_type": "code",
   "execution_count": 97,
   "id": "referenced-maldives",
   "metadata": {},
   "outputs": [
    {
     "name": "stderr",
     "output_type": "stream",
     "text": [
      "<ipython-input-97-c41e1247ab30>:1: SettingWithCopyWarning: \n",
      "A value is trying to be set on a copy of a slice from a DataFrame.\n",
      "Try using .loc[row_indexer,col_indexer] = value instead\n",
      "\n",
      "See the caveats in the documentation: https://pandas.pydata.org/pandas-docs/stable/user_guide/indexing.html#returning-a-view-versus-a-copy\n",
      "  trade_dataset['Cumulative Market Returns'] = np.cumsum(trade_dataset['Tomorrows Returns'])\n",
      "<ipython-input-97-c41e1247ab30>:2: SettingWithCopyWarning: \n",
      "A value is trying to be set on a copy of a slice from a DataFrame.\n",
      "Try using .loc[row_indexer,col_indexer] = value instead\n",
      "\n",
      "See the caveats in the documentation: https://pandas.pydata.org/pandas-docs/stable/user_guide/indexing.html#returning-a-view-versus-a-copy\n",
      "  trade_dataset['Cumulative Strategy Returns'] = np.cumsum(trade_dataset['Strategy Returns'])\n"
     ]
    }
   ],
   "source": [
    "trade_dataset['Cumulative Market Returns'] = np.cumsum(trade_dataset['Tomorrows Returns'])\n",
    "trade_dataset['Cumulative Strategy Returns'] = np.cumsum(trade_dataset['Strategy Returns'])"
   ]
  },
  {
   "cell_type": "code",
   "execution_count": 98,
   "id": "usual-phone",
   "metadata": {},
   "outputs": [
    {
     "data": {
      "image/png": "[encoded data removed]",
      "text/plain": [
       "<Figure size 720x360 with 1 Axes>"
      ]
     },
     "metadata": {
      "needs_background": "light"
     },
     "output_type": "display_data"
    }
   ],
   "source": [
    "import matplotlib.pyplot as plt\n",
    "plt.figure(figsize=(10,5))\n",
    "plt.plot(trade_dataset['Cumulative Market Returns'], color='r', label='Cumulative Market Returns')\n",
    "plt.plot(trade_dataset['Cumulative Strategy Returns'], color='g', label='Cumulative Strategy Returns')\n",
    "plt.legend()\n",
    "plt.show()"
   ]
  },
  {
   "cell_type": "code",
   "execution_count": 99,
   "id": "undefined-career",
   "metadata": {
    "scrolled": true
   },
   "outputs": [
    {
     "data": {
      "text/plain": [
       "1014   2020-03-09\n",
       "1015   2020-03-10\n",
       "1016   2020-03-11\n",
       "1017   2020-03-12\n",
       "1018   2020-03-13\n",
       "          ...    \n",
       "1255   2021-02-22\n",
       "1256   2021-02-23\n",
       "1257   2021-02-24\n",
       "1258   2021-02-25\n",
       "1259   2021-02-26\n",
       "Name: Date, Length: 246, dtype: datetime64[ns]"
      ]
     },
     "execution_count": 99,
     "metadata": {},
     "output_type": "execute_result"
    }
   ],
   "source": [
    "trade_dataset[\"Date\"]"
   ]
  },
  {
   "cell_type": "code",
   "execution_count": 100,
   "id": "demanding-devices",
   "metadata": {},
   "outputs": [
    {
     "data": {
      "image/png": "[encoded data removed]",
      "text/plain": [
       "<Figure size 720x360 with 1 Axes>"
      ]
     },
     "metadata": {
      "needs_background": "light"
     },
     "output_type": "display_data"
    }
   ],
   "source": [
    "import matplotlib.pyplot as plt\n",
    "plt.figure(figsize=(10,5))\n",
    "plt.plot(trade_dataset[\"Date\"],trade_dataset['Cumulative Market Returns'], color='r', label='Cumulative Market Returns')\n",
    "plt.plot(trade_dataset[\"Date\"],trade_dataset['Cumulative Strategy Returns'], color='g', label='Cumulative Strategy Returns')\n",
    "plt.xlabel(\"Date\")\n",
    "plt.ylabel(\"Return\")\n",
    "plt.legend()\n",
    "plt.show()"
   ]
  },
  {
   "cell_type": "markdown",
   "id": "handmade-crazy",
   "metadata": {},
   "source": [
    "# Stock Price Prediction -  Using Stock, Sentiment, and Network Data (3 Months Data)"
   ]
  },
  {
   "cell_type": "code",
   "execution_count": 101,
   "id": "equipped-accuracy",
   "metadata": {},
   "outputs": [],
   "source": [
    "sentiment_df = pd.read_csv('C:/Users/becky/OneDrive/Desktop/sentiment_df.csv')\n",
    "network_df = pd.read_csv('C:/Users/becky/OneDrive/Desktop/Features_prediction.csv')"
   ]
  },
  {
   "cell_type": "code",
   "execution_count": 102,
   "id": "prompt-apparel",
   "metadata": {},
   "outputs": [
    {
     "data": {
      "text/html": [
       "<div>\n",
       "<style scoped>\n",
       "    .dataframe tbody tr th:only-of-type {\n",
       "        vertical-align: middle;\n",
       "    }\n",
       "\n",
       "    .dataframe tbody tr th {\n",
       "        vertical-align: top;\n",
       "    }\n",
       "\n",
       "    .dataframe thead th {\n",
       "        text-align: right;\n",
       "    }\n",
       "</style>\n",
       "<table border=\"1\" class=\"dataframe\">\n",
       "  <thead>\n",
       "    <tr style=\"text-align: right;\">\n",
       "      <th></th>\n",
       "      <th>date</th>\n",
       "      <th>sentiment_score</th>\n",
       "    </tr>\n",
       "  </thead>\n",
       "  <tbody>\n",
       "    <tr>\n",
       "      <th>0</th>\n",
       "      <td>2020-12-27</td>\n",
       "      <td>0.358064</td>\n",
       "    </tr>\n",
       "    <tr>\n",
       "      <th>1</th>\n",
       "      <td>2020-12-28</td>\n",
       "      <td>0.280789</td>\n",
       "    </tr>\n",
       "    <tr>\n",
       "      <th>2</th>\n",
       "      <td>2020-12-29</td>\n",
       "      <td>0.214934</td>\n",
       "    </tr>\n",
       "    <tr>\n",
       "      <th>3</th>\n",
       "      <td>2020-12-30</td>\n",
       "      <td>0.505211</td>\n",
       "    </tr>\n",
       "    <tr>\n",
       "      <th>4</th>\n",
       "      <td>2020-12-31</td>\n",
       "      <td>0.353148</td>\n",
       "    </tr>\n",
       "    <tr>\n",
       "      <th>...</th>\n",
       "      <td>...</td>\n",
       "      <td>...</td>\n",
       "    </tr>\n",
       "    <tr>\n",
       "      <th>57</th>\n",
       "      <td>2021-02-22</td>\n",
       "      <td>0.097879</td>\n",
       "    </tr>\n",
       "    <tr>\n",
       "      <th>58</th>\n",
       "      <td>2021-02-23</td>\n",
       "      <td>0.029523</td>\n",
       "    </tr>\n",
       "    <tr>\n",
       "      <th>59</th>\n",
       "      <td>2021-02-24</td>\n",
       "      <td>0.075004</td>\n",
       "    </tr>\n",
       "    <tr>\n",
       "      <th>60</th>\n",
       "      <td>2021-02-25</td>\n",
       "      <td>-0.012352</td>\n",
       "    </tr>\n",
       "    <tr>\n",
       "      <th>61</th>\n",
       "      <td>2021-02-26</td>\n",
       "      <td>0.142344</td>\n",
       "    </tr>\n",
       "  </tbody>\n",
       "</table>\n",
       "<p>62 rows × 2 columns</p>\n",
       "</div>"
      ],
      "text/plain": [
       "          date  sentiment_score\n",
       "0   2020-12-27         0.358064\n",
       "1   2020-12-28         0.280789\n",
       "2   2020-12-29         0.214934\n",
       "3   2020-12-30         0.505211\n",
       "4   2020-12-31         0.353148\n",
       "..         ...              ...\n",
       "57  2021-02-22         0.097879\n",
       "58  2021-02-23         0.029523\n",
       "59  2021-02-24         0.075004\n",
       "60  2021-02-25        -0.012352\n",
       "61  2021-02-26         0.142344\n",
       "\n",
       "[62 rows x 2 columns]"
      ]
     },
     "execution_count": 102,
     "metadata": {},
     "output_type": "execute_result"
    }
   ],
   "source": [
    "#from 2020-12-27 to 2021-02-26\n",
    "#sentiment_df = sentiment_df.iloc[1:,:]\n",
    "sentiment_df"
   ]
  },
  {
   "cell_type": "code",
   "execution_count": 103,
   "id": "western-river",
   "metadata": {},
   "outputs": [],
   "source": [
    "network_df = network_df.iloc[:,1:]"
   ]
  },
  {
   "cell_type": "code",
   "execution_count": 104,
   "id": "valuable-display",
   "metadata": {},
   "outputs": [
    {
     "data": {
      "text/html": [
       "<div>\n",
       "<style scoped>\n",
       "    .dataframe tbody tr th:only-of-type {\n",
       "        vertical-align: middle;\n",
       "    }\n",
       "\n",
       "    .dataframe tbody tr th {\n",
       "        vertical-align: top;\n",
       "    }\n",
       "\n",
       "    .dataframe thead th {\n",
       "        text-align: right;\n",
       "    }\n",
       "</style>\n",
       "<table border=\"1\" class=\"dataframe\">\n",
       "  <thead>\n",
       "    <tr style=\"text-align: right;\">\n",
       "      <th></th>\n",
       "      <th>Datetime</th>\n",
       "      <th>degree</th>\n",
       "      <th>betweenness_centrality</th>\n",
       "      <th>closeness_centrality</th>\n",
       "      <th>listedCount</th>\n",
       "      <th>followersCount</th>\n",
       "    </tr>\n",
       "  </thead>\n",
       "  <tbody>\n",
       "    <tr>\n",
       "      <th>0</th>\n",
       "      <td>2020-12-27</td>\n",
       "      <td>0.000060</td>\n",
       "      <td>0.000000e+00</td>\n",
       "      <td>0.000000</td>\n",
       "      <td>0.500000</td>\n",
       "      <td>202.750000</td>\n",
       "    </tr>\n",
       "    <tr>\n",
       "      <th>1</th>\n",
       "      <td>2020-12-28</td>\n",
       "      <td>0.000057</td>\n",
       "      <td>1.465538e-10</td>\n",
       "      <td>0.000005</td>\n",
       "      <td>1.272727</td>\n",
       "      <td>214.000000</td>\n",
       "    </tr>\n",
       "    <tr>\n",
       "      <th>2</th>\n",
       "      <td>2020-12-29</td>\n",
       "      <td>0.000054</td>\n",
       "      <td>0.000000e+00</td>\n",
       "      <td>0.000000</td>\n",
       "      <td>11.666667</td>\n",
       "      <td>849.333333</td>\n",
       "    </tr>\n",
       "    <tr>\n",
       "      <th>3</th>\n",
       "      <td>2020-12-30</td>\n",
       "      <td>0.000065</td>\n",
       "      <td>4.030228e-10</td>\n",
       "      <td>0.000009</td>\n",
       "      <td>10.400000</td>\n",
       "      <td>3555.000000</td>\n",
       "    </tr>\n",
       "    <tr>\n",
       "      <th>4</th>\n",
       "      <td>2020-12-31</td>\n",
       "      <td>0.000067</td>\n",
       "      <td>0.000000e+00</td>\n",
       "      <td>0.000000</td>\n",
       "      <td>2.647059</td>\n",
       "      <td>160.941176</td>\n",
       "    </tr>\n",
       "    <tr>\n",
       "      <th>...</th>\n",
       "      <td>...</td>\n",
       "      <td>...</td>\n",
       "      <td>...</td>\n",
       "      <td>...</td>\n",
       "      <td>...</td>\n",
       "      <td>...</td>\n",
       "    </tr>\n",
       "    <tr>\n",
       "      <th>57</th>\n",
       "      <td>2021-02-22</td>\n",
       "      <td>0.000050</td>\n",
       "      <td>0.000000e+00</td>\n",
       "      <td>0.000002</td>\n",
       "      <td>68.177419</td>\n",
       "      <td>1506.145161</td>\n",
       "    </tr>\n",
       "    <tr>\n",
       "      <th>58</th>\n",
       "      <td>2021-02-23</td>\n",
       "      <td>0.000067</td>\n",
       "      <td>1.216532e-09</td>\n",
       "      <td>0.000008</td>\n",
       "      <td>111.259259</td>\n",
       "      <td>5861.611111</td>\n",
       "    </tr>\n",
       "    <tr>\n",
       "      <th>59</th>\n",
       "      <td>2021-02-24</td>\n",
       "      <td>0.000064</td>\n",
       "      <td>7.916520e-11</td>\n",
       "      <td>0.000003</td>\n",
       "      <td>50.718750</td>\n",
       "      <td>3266.794643</td>\n",
       "    </tr>\n",
       "    <tr>\n",
       "      <th>60</th>\n",
       "      <td>2021-02-25</td>\n",
       "      <td>0.000054</td>\n",
       "      <td>1.864323e-10</td>\n",
       "      <td>0.000003</td>\n",
       "      <td>39.544218</td>\n",
       "      <td>2580.323129</td>\n",
       "    </tr>\n",
       "    <tr>\n",
       "      <th>61</th>\n",
       "      <td>2021-02-26</td>\n",
       "      <td>0.000051</td>\n",
       "      <td>5.119479e-10</td>\n",
       "      <td>0.000008</td>\n",
       "      <td>68.527027</td>\n",
       "      <td>2515.858108</td>\n",
       "    </tr>\n",
       "  </tbody>\n",
       "</table>\n",
       "<p>62 rows × 6 columns</p>\n",
       "</div>"
      ],
      "text/plain": [
       "      Datetime    degree  betweenness_centrality  closeness_centrality  \\\n",
       "0   2020-12-27  0.000060            0.000000e+00              0.000000   \n",
       "1   2020-12-28  0.000057            1.465538e-10              0.000005   \n",
       "2   2020-12-29  0.000054            0.000000e+00              0.000000   \n",
       "3   2020-12-30  0.000065            4.030228e-10              0.000009   \n",
       "4   2020-12-31  0.000067            0.000000e+00              0.000000   \n",
       "..         ...       ...                     ...                   ...   \n",
       "57  2021-02-22  0.000050            0.000000e+00              0.000002   \n",
       "58  2021-02-23  0.000067            1.216532e-09              0.000008   \n",
       "59  2021-02-24  0.000064            7.916520e-11              0.000003   \n",
       "60  2021-02-25  0.000054            1.864323e-10              0.000003   \n",
       "61  2021-02-26  0.000051            5.119479e-10              0.000008   \n",
       "\n",
       "    listedCount  followersCount  \n",
       "0      0.500000      202.750000  \n",
       "1      1.272727      214.000000  \n",
       "2     11.666667      849.333333  \n",
       "3     10.400000     3555.000000  \n",
       "4      2.647059      160.941176  \n",
       "..          ...             ...  \n",
       "57    68.177419     1506.145161  \n",
       "58   111.259259     5861.611111  \n",
       "59    50.718750     3266.794643  \n",
       "60    39.544218     2580.323129  \n",
       "61    68.527027     2515.858108  \n",
       "\n",
       "[62 rows x 6 columns]"
      ]
     },
     "execution_count": 104,
     "metadata": {},
     "output_type": "execute_result"
    }
   ],
   "source": [
    "network_df"
   ]
  },
  {
   "cell_type": "code",
   "execution_count": 105,
   "id": "authorized-vermont",
   "metadata": {},
   "outputs": [],
   "source": [
    "import talib\n",
    "import numpy as np\n",
    "import random\n",
    "random.seed(42)\n",
    "\n",
    "from pandas_datareader import data\n",
    "import matplotlib.pyplot as plt\n",
    "import pandas as pd\n",
    "\n",
    "tickers = ['GME']\n",
    "\n",
    "# We would like all available data from 01/01/2000 until 12/31/2016.\n",
    "start_date = '2020-11-11'\n",
    "end_date = '2021-02-26'\n",
    "\n",
    "# User pandas_reader.data.DataReader to load the desired data. As simple as that.\n",
    "panel_data = data.DataReader('GME', 'yahoo', start_date, end_date).reset_index()"
   ]
  },
  {
   "cell_type": "code",
   "execution_count": 106,
   "id": "married-joseph",
   "metadata": {},
   "outputs": [
    {
     "data": {
      "text/html": [
       "<div>\n",
       "<style scoped>\n",
       "    .dataframe tbody tr th:only-of-type {\n",
       "        vertical-align: middle;\n",
       "    }\n",
       "\n",
       "    .dataframe tbody tr th {\n",
       "        vertical-align: top;\n",
       "    }\n",
       "\n",
       "    .dataframe thead th {\n",
       "        text-align: right;\n",
       "    }\n",
       "</style>\n",
       "<table border=\"1\" class=\"dataframe\">\n",
       "  <thead>\n",
       "    <tr style=\"text-align: right;\">\n",
       "      <th></th>\n",
       "      <th>Date</th>\n",
       "      <th>High</th>\n",
       "      <th>Low</th>\n",
       "      <th>Open</th>\n",
       "      <th>Close</th>\n",
       "      <th>Volume</th>\n",
       "      <th>Adj Close</th>\n",
       "    </tr>\n",
       "  </thead>\n",
       "  <tbody>\n",
       "    <tr>\n",
       "      <th>0</th>\n",
       "      <td>2020-11-11</td>\n",
       "      <td>11.95</td>\n",
       "      <td>11.21</td>\n",
       "      <td>11.50</td>\n",
       "      <td>11.75</td>\n",
       "      <td>4882600</td>\n",
       "      <td>11.75</td>\n",
       "    </tr>\n",
       "    <tr>\n",
       "      <th>1</th>\n",
       "      <td>2020-11-12</td>\n",
       "      <td>11.87</td>\n",
       "      <td>10.97</td>\n",
       "      <td>11.74</td>\n",
       "      <td>11.13</td>\n",
       "      <td>4353300</td>\n",
       "      <td>11.13</td>\n",
       "    </tr>\n",
       "    <tr>\n",
       "      <th>2</th>\n",
       "      <td>2020-11-13</td>\n",
       "      <td>11.55</td>\n",
       "      <td>11.00</td>\n",
       "      <td>11.36</td>\n",
       "      <td>11.01</td>\n",
       "      <td>3535900</td>\n",
       "      <td>11.01</td>\n",
       "    </tr>\n",
       "    <tr>\n",
       "      <th>3</th>\n",
       "      <td>2020-11-16</td>\n",
       "      <td>12.66</td>\n",
       "      <td>10.72</td>\n",
       "      <td>11.16</td>\n",
       "      <td>12.06</td>\n",
       "      <td>9774800</td>\n",
       "      <td>12.06</td>\n",
       "    </tr>\n",
       "    <tr>\n",
       "      <th>4</th>\n",
       "      <td>2020-11-17</td>\n",
       "      <td>11.92</td>\n",
       "      <td>11.23</td>\n",
       "      <td>11.65</td>\n",
       "      <td>11.63</td>\n",
       "      <td>6678200</td>\n",
       "      <td>11.63</td>\n",
       "    </tr>\n",
       "  </tbody>\n",
       "</table>\n",
       "</div>"
      ],
      "text/plain": [
       "        Date   High    Low   Open  Close   Volume  Adj Close\n",
       "0 2020-11-11  11.95  11.21  11.50  11.75  4882600      11.75\n",
       "1 2020-11-12  11.87  10.97  11.74  11.13  4353300      11.13\n",
       "2 2020-11-13  11.55  11.00  11.36  11.01  3535900      11.01\n",
       "3 2020-11-16  12.66  10.72  11.16  12.06  9774800      12.06\n",
       "4 2020-11-17  11.92  11.23  11.65  11.63  6678200      11.63"
      ]
     },
     "execution_count": 106,
     "metadata": {},
     "output_type": "execute_result"
    }
   ],
   "source": [
    "panel_data.head()"
   ]
  },
  {
   "cell_type": "code",
   "execution_count": 107,
   "id": "elder-heath",
   "metadata": {},
   "outputs": [
    {
     "data": {
      "text/plain": [
       "(73, 7)"
      ]
     },
     "execution_count": 107,
     "metadata": {},
     "output_type": "execute_result"
    }
   ],
   "source": [
    "panel_data.shape"
   ]
  },
  {
   "cell_type": "code",
   "execution_count": 108,
   "id": "pending-aviation",
   "metadata": {},
   "outputs": [],
   "source": [
    "dataset = panel_data.dropna()\n",
    "#dataset = dataset[['Open', 'High', 'Low', 'Close']]"
   ]
  },
  {
   "cell_type": "markdown",
   "id": "adaptive-saskatchewan",
   "metadata": {},
   "source": [
    "New columns\n",
    "- High minus Low price\n",
    "- Close minus Open price\n",
    "- Three day moving average\n",
    "- Ten day moving average\n",
    "- 30 day moving average\n",
    "- Standard deviation for a period of 5 days\n",
    "- Relative Strength Index (RSI): chart the current and historical strength or weakness of a stock or market based on the closing prices of a recent trading period.\n",
    "- Williams %R: technical analysis oscillator showing the current closing price in relation to the high and low of the past N days.\n",
    "- - Price Rise: binary variable storing 1 when the closing price of tomorrow is greater than the closing price of today"
   ]
  },
  {
   "cell_type": "code",
   "execution_count": 109,
   "id": "starting-gravity",
   "metadata": {},
   "outputs": [],
   "source": [
    "dataset['H-L'] = dataset['High'] - dataset['Low']\n",
    "dataset['O-C'] = dataset['Close'] - dataset['Open']\n",
    "dataset['3day MA'] = dataset['Close'].shift(1).rolling(window = 3).mean()\n",
    "dataset['10day MA'] = dataset['Close'].shift(1).rolling(window = 10).mean()\n",
    "dataset['30day MA'] = dataset['Close'].shift(1).rolling(window = 30).mean()\n",
    "dataset['Std_dev']= dataset['Close'].rolling(5).std()\n",
    "dataset['RSI'] = talib.RSI(dataset['Close'].values, timeperiod = 9)\n",
    "dataset['Williams %R'] = talib.WILLR(dataset['High'].values, dataset['Low'].values, dataset['Close'].values, 7)\n",
    "dataset['Price_Rise'] = np.where(dataset['Close'].shift(-1) > dataset['Close'], 1, 0)"
   ]
  },
  {
   "cell_type": "code",
   "execution_count": 110,
   "id": "interested-eagle",
   "metadata": {},
   "outputs": [],
   "source": [
    "#drop nan\n",
    "dataset = dataset.dropna()"
   ]
  },
  {
   "cell_type": "code",
   "execution_count": 111,
   "id": "musical-traveler",
   "metadata": {},
   "outputs": [
    {
     "data": {
      "text/html": [
       "<div>\n",
       "<style scoped>\n",
       "    .dataframe tbody tr th:only-of-type {\n",
       "        vertical-align: middle;\n",
       "    }\n",
       "\n",
       "    .dataframe tbody tr th {\n",
       "        vertical-align: top;\n",
       "    }\n",
       "\n",
       "    .dataframe thead th {\n",
       "        text-align: right;\n",
       "    }\n",
       "</style>\n",
       "<table border=\"1\" class=\"dataframe\">\n",
       "  <thead>\n",
       "    <tr style=\"text-align: right;\">\n",
       "      <th></th>\n",
       "      <th>Date</th>\n",
       "      <th>High</th>\n",
       "      <th>Low</th>\n",
       "      <th>Open</th>\n",
       "      <th>Close</th>\n",
       "      <th>Volume</th>\n",
       "      <th>Adj Close</th>\n",
       "      <th>H-L</th>\n",
       "      <th>O-C</th>\n",
       "      <th>3day MA</th>\n",
       "      <th>10day MA</th>\n",
       "      <th>30day MA</th>\n",
       "      <th>Std_dev</th>\n",
       "      <th>RSI</th>\n",
       "      <th>Williams %R</th>\n",
       "      <th>Price_Rise</th>\n",
       "    </tr>\n",
       "  </thead>\n",
       "  <tbody>\n",
       "    <tr>\n",
       "      <th>30</th>\n",
       "      <td>2020-12-24</td>\n",
       "      <td>21.480000</td>\n",
       "      <td>19.950001</td>\n",
       "      <td>21.010000</td>\n",
       "      <td>20.150000</td>\n",
       "      <td>6262200</td>\n",
       "      <td>20.150000</td>\n",
       "      <td>1.529999</td>\n",
       "      <td>-0.860001</td>\n",
       "      <td>18.520000</td>\n",
       "      <td>15.387</td>\n",
       "      <td>14.516667</td>\n",
       "      <td>2.485844</td>\n",
       "      <td>74.465010</td>\n",
       "      <td>-25.085526</td>\n",
       "      <td>1</td>\n",
       "    </tr>\n",
       "    <tr>\n",
       "      <th>31</th>\n",
       "      <td>2020-12-28</td>\n",
       "      <td>21.969999</td>\n",
       "      <td>20.350000</td>\n",
       "      <td>21.309999</td>\n",
       "      <td>20.990000</td>\n",
       "      <td>8965900</td>\n",
       "      <td>20.990000</td>\n",
       "      <td>1.619999</td>\n",
       "      <td>-0.320000</td>\n",
       "      <td>20.059999</td>\n",
       "      <td>15.990</td>\n",
       "      <td>14.796667</td>\n",
       "      <td>2.203520</td>\n",
       "      <td>76.868946</td>\n",
       "      <td>-15.525121</td>\n",
       "      <td>0</td>\n",
       "    </tr>\n",
       "    <tr>\n",
       "      <th>32</th>\n",
       "      <td>2020-12-29</td>\n",
       "      <td>21.070000</td>\n",
       "      <td>18.559999</td>\n",
       "      <td>20.820000</td>\n",
       "      <td>19.379999</td>\n",
       "      <td>9241400</td>\n",
       "      <td>19.379999</td>\n",
       "      <td>2.510000</td>\n",
       "      <td>-1.440001</td>\n",
       "      <td>20.570000</td>\n",
       "      <td>16.758</td>\n",
       "      <td>15.125333</td>\n",
       "      <td>0.696958</td>\n",
       "      <td>63.897950</td>\n",
       "      <td>-41.422611</td>\n",
       "      <td>0</td>\n",
       "    </tr>\n",
       "    <tr>\n",
       "      <th>33</th>\n",
       "      <td>2020-12-30</td>\n",
       "      <td>20.000000</td>\n",
       "      <td>18.850000</td>\n",
       "      <td>19.379999</td>\n",
       "      <td>19.260000</td>\n",
       "      <td>5934400</td>\n",
       "      <td>19.260000</td>\n",
       "      <td>1.150000</td>\n",
       "      <td>-0.119999</td>\n",
       "      <td>20.173333</td>\n",
       "      <td>17.424</td>\n",
       "      <td>15.404333</td>\n",
       "      <td>0.747496</td>\n",
       "      <td>63.006471</td>\n",
       "      <td>-43.705797</td>\n",
       "      <td>0</td>\n",
       "    </tr>\n",
       "    <tr>\n",
       "      <th>34</th>\n",
       "      <td>2020-12-31</td>\n",
       "      <td>19.799999</td>\n",
       "      <td>18.799999</td>\n",
       "      <td>19.250000</td>\n",
       "      <td>18.840000</td>\n",
       "      <td>6922700</td>\n",
       "      <td>18.840000</td>\n",
       "      <td>1.000000</td>\n",
       "      <td>-0.410000</td>\n",
       "      <td>19.876666</td>\n",
       "      <td>17.965</td>\n",
       "      <td>15.644333</td>\n",
       "      <td>0.851369</td>\n",
       "      <td>59.725454</td>\n",
       "      <td>-56.612900</td>\n",
       "      <td>0</td>\n",
       "    </tr>\n",
       "  </tbody>\n",
       "</table>\n",
       "</div>"
      ],
      "text/plain": [
       "         Date       High        Low       Open      Close   Volume  Adj Close  \\\n",
       "30 2020-12-24  21.480000  19.950001  21.010000  20.150000  6262200  20.150000   \n",
       "31 2020-12-28  21.969999  20.350000  21.309999  20.990000  8965900  20.990000   \n",
       "32 2020-12-29  21.070000  18.559999  20.820000  19.379999  9241400  19.379999   \n",
       "33 2020-12-30  20.000000  18.850000  19.379999  19.260000  5934400  19.260000   \n",
       "34 2020-12-31  19.799999  18.799999  19.250000  18.840000  6922700  18.840000   \n",
       "\n",
       "         H-L       O-C    3day MA  10day MA   30day MA   Std_dev        RSI  \\\n",
       "30  1.529999 -0.860001  18.520000    15.387  14.516667  2.485844  74.465010   \n",
       "31  1.619999 -0.320000  20.059999    15.990  14.796667  2.203520  76.868946   \n",
       "32  2.510000 -1.440001  20.570000    16.758  15.125333  0.696958  63.897950   \n",
       "33  1.150000 -0.119999  20.173333    17.424  15.404333  0.747496  63.006471   \n",
       "34  1.000000 -0.410000  19.876666    17.965  15.644333  0.851369  59.725454   \n",
       "\n",
       "    Williams %R  Price_Rise  \n",
       "30   -25.085526           1  \n",
       "31   -15.525121           0  \n",
       "32   -41.422611           0  \n",
       "33   -43.705797           0  \n",
       "34   -56.612900           0  "
      ]
     },
     "execution_count": 111,
     "metadata": {},
     "output_type": "execute_result"
    }
   ],
   "source": [
    "#from 2020-12-28 to 2021-02-26\n",
    "dataset.head()"
   ]
  },
  {
   "cell_type": "code",
   "execution_count": 112,
   "id": "competitive-engine",
   "metadata": {},
   "outputs": [
    {
     "name": "stdout",
     "output_type": "stream",
     "text": [
      "<class 'pandas.core.frame.DataFrame'>\n",
      "Int64Index: 43 entries, 30 to 72\n",
      "Data columns (total 16 columns):\n",
      " #   Column       Non-Null Count  Dtype         \n",
      "---  ------       --------------  -----         \n",
      " 0   Date         43 non-null     datetime64[ns]\n",
      " 1   High         43 non-null     float64       \n",
      " 2   Low          43 non-null     float64       \n",
      " 3   Open         43 non-null     float64       \n",
      " 4   Close        43 non-null     float64       \n",
      " 5   Volume       43 non-null     int64         \n",
      " 6   Adj Close    43 non-null     float64       \n",
      " 7   H-L          43 non-null     float64       \n",
      " 8   O-C          43 non-null     float64       \n",
      " 9   3day MA      43 non-null     float64       \n",
      " 10  10day MA     43 non-null     float64       \n",
      " 11  30day MA     43 non-null     float64       \n",
      " 12  Std_dev      43 non-null     float64       \n",
      " 13  RSI          43 non-null     float64       \n",
      " 14  Williams %R  43 non-null     float64       \n",
      " 15  Price_Rise   43 non-null     int32         \n",
      "dtypes: datetime64[ns](1), float64(13), int32(1), int64(1)\n",
      "memory usage: 5.5 KB\n"
     ]
    }
   ],
   "source": [
    "dataset.info()"
   ]
  },
  {
   "cell_type": "code",
   "execution_count": 113,
   "id": "practical-cartridge",
   "metadata": {},
   "outputs": [],
   "source": [
    "sentiment_df['date'] = sentiment_df['date'].astype('datetime64')\n",
    "network_df[\"Datetime\"] = network_df[\"Datetime\"].astype('datetime64')"
   ]
  },
  {
   "cell_type": "code",
   "execution_count": 114,
   "id": "numerous-james",
   "metadata": {},
   "outputs": [
    {
     "name": "stdout",
     "output_type": "stream",
     "text": [
      "<class 'pandas.core.frame.DataFrame'>\n",
      "RangeIndex: 62 entries, 0 to 61\n",
      "Data columns (total 2 columns):\n",
      " #   Column           Non-Null Count  Dtype         \n",
      "---  ------           --------------  -----         \n",
      " 0   date             62 non-null     datetime64[ns]\n",
      " 1   sentiment_score  62 non-null     float64       \n",
      "dtypes: datetime64[ns](1), float64(1)\n",
      "memory usage: 1.1 KB\n"
     ]
    }
   ],
   "source": [
    "sentiment_df.info()"
   ]
  },
  {
   "cell_type": "code",
   "execution_count": 115,
   "id": "affiliated-tiger",
   "metadata": {},
   "outputs": [
    {
     "name": "stdout",
     "output_type": "stream",
     "text": [
      "<class 'pandas.core.frame.DataFrame'>\n",
      "RangeIndex: 62 entries, 0 to 61\n",
      "Data columns (total 6 columns):\n",
      " #   Column                  Non-Null Count  Dtype         \n",
      "---  ------                  --------------  -----         \n",
      " 0   Datetime                62 non-null     datetime64[ns]\n",
      " 1   degree                  62 non-null     float64       \n",
      " 2   betweenness_centrality  62 non-null     float64       \n",
      " 3   closeness_centrality    62 non-null     float64       \n",
      " 4   listedCount             62 non-null     float64       \n",
      " 5   followersCount          62 non-null     float64       \n",
      "dtypes: datetime64[ns](1), float64(5)\n",
      "memory usage: 3.0 KB\n"
     ]
    }
   ],
   "source": [
    "network_df.info()"
   ]
  },
  {
   "cell_type": "code",
   "execution_count": 116,
   "id": "preliminary-toyota",
   "metadata": {
    "scrolled": true
   },
   "outputs": [],
   "source": [
    "#merge sentiment df to stock df based on date\n",
    "dataset = dataset.merge(sentiment_df, left_on=\"Date\", right_on=\"date\")"
   ]
  },
  {
   "cell_type": "code",
   "execution_count": 117,
   "id": "pretty-deviation",
   "metadata": {},
   "outputs": [],
   "source": [
    "#merge netowork df to stock df based on date\n",
    "dataset = dataset.merge(network_df, left_on=\"Date\", right_on=\"Datetime\")\n",
    "dataset = dataset[[\"High\",\"Low\",\"Open\",\"Close\",\"Volume\",\"Adj Close\",\"H-L\",\"O-C\",\"3day MA\",\"10day MA\",\"30day MA\",\"Std_dev\",\"RSI\",\"Williams %R\",\"degree\",\"betweenness_centrality\",\"followersCount\",\"sentiment_score\",\"Price_Rise\"]]"
   ]
  },
  {
   "cell_type": "code",
   "execution_count": 118,
   "id": "alternate-abuse",
   "metadata": {},
   "outputs": [
    {
     "data": {
      "text/html": [
       "<div>\n",
       "<style scoped>\n",
       "    .dataframe tbody tr th:only-of-type {\n",
       "        vertical-align: middle;\n",
       "    }\n",
       "\n",
       "    .dataframe tbody tr th {\n",
       "        vertical-align: top;\n",
       "    }\n",
       "\n",
       "    .dataframe thead th {\n",
       "        text-align: right;\n",
       "    }\n",
       "</style>\n",
       "<table border=\"1\" class=\"dataframe\">\n",
       "  <thead>\n",
       "    <tr style=\"text-align: right;\">\n",
       "      <th></th>\n",
       "      <th>High</th>\n",
       "      <th>Low</th>\n",
       "      <th>Open</th>\n",
       "      <th>Close</th>\n",
       "      <th>Volume</th>\n",
       "      <th>Adj Close</th>\n",
       "      <th>H-L</th>\n",
       "      <th>O-C</th>\n",
       "      <th>3day MA</th>\n",
       "      <th>10day MA</th>\n",
       "      <th>30day MA</th>\n",
       "      <th>Std_dev</th>\n",
       "      <th>RSI</th>\n",
       "      <th>Williams %R</th>\n",
       "      <th>degree</th>\n",
       "      <th>betweenness_centrality</th>\n",
       "      <th>followersCount</th>\n",
       "      <th>sentiment_score</th>\n",
       "      <th>Price_Rise</th>\n",
       "    </tr>\n",
       "  </thead>\n",
       "  <tbody>\n",
       "    <tr>\n",
       "      <th>0</th>\n",
       "      <td>21.969999</td>\n",
       "      <td>20.350000</td>\n",
       "      <td>21.309999</td>\n",
       "      <td>20.990000</td>\n",
       "      <td>8965900</td>\n",
       "      <td>20.990000</td>\n",
       "      <td>1.619999</td>\n",
       "      <td>-0.320000</td>\n",
       "      <td>20.059999</td>\n",
       "      <td>15.990</td>\n",
       "      <td>14.796667</td>\n",
       "      <td>2.203520</td>\n",
       "      <td>76.868946</td>\n",
       "      <td>-15.525121</td>\n",
       "      <td>0.000057</td>\n",
       "      <td>1.465538e-10</td>\n",
       "      <td>214.000000</td>\n",
       "      <td>0.280789</td>\n",
       "      <td>0</td>\n",
       "    </tr>\n",
       "    <tr>\n",
       "      <th>1</th>\n",
       "      <td>21.070000</td>\n",
       "      <td>18.559999</td>\n",
       "      <td>20.820000</td>\n",
       "      <td>19.379999</td>\n",
       "      <td>9241400</td>\n",
       "      <td>19.379999</td>\n",
       "      <td>2.510000</td>\n",
       "      <td>-1.440001</td>\n",
       "      <td>20.570000</td>\n",
       "      <td>16.758</td>\n",
       "      <td>15.125333</td>\n",
       "      <td>0.696958</td>\n",
       "      <td>63.897950</td>\n",
       "      <td>-41.422611</td>\n",
       "      <td>0.000054</td>\n",
       "      <td>0.000000e+00</td>\n",
       "      <td>849.333333</td>\n",
       "      <td>0.214934</td>\n",
       "      <td>0</td>\n",
       "    </tr>\n",
       "    <tr>\n",
       "      <th>2</th>\n",
       "      <td>20.000000</td>\n",
       "      <td>18.850000</td>\n",
       "      <td>19.379999</td>\n",
       "      <td>19.260000</td>\n",
       "      <td>5934400</td>\n",
       "      <td>19.260000</td>\n",
       "      <td>1.150000</td>\n",
       "      <td>-0.119999</td>\n",
       "      <td>20.173333</td>\n",
       "      <td>17.424</td>\n",
       "      <td>15.404333</td>\n",
       "      <td>0.747496</td>\n",
       "      <td>63.006471</td>\n",
       "      <td>-43.705797</td>\n",
       "      <td>0.000065</td>\n",
       "      <td>4.030228e-10</td>\n",
       "      <td>3555.000000</td>\n",
       "      <td>0.505211</td>\n",
       "      <td>0</td>\n",
       "    </tr>\n",
       "    <tr>\n",
       "      <th>3</th>\n",
       "      <td>19.799999</td>\n",
       "      <td>18.799999</td>\n",
       "      <td>19.250000</td>\n",
       "      <td>18.840000</td>\n",
       "      <td>6922700</td>\n",
       "      <td>18.840000</td>\n",
       "      <td>1.000000</td>\n",
       "      <td>-0.410000</td>\n",
       "      <td>19.876666</td>\n",
       "      <td>17.965</td>\n",
       "      <td>15.644333</td>\n",
       "      <td>0.851369</td>\n",
       "      <td>59.725454</td>\n",
       "      <td>-56.612900</td>\n",
       "      <td>0.000067</td>\n",
       "      <td>0.000000e+00</td>\n",
       "      <td>160.941176</td>\n",
       "      <td>0.353148</td>\n",
       "      <td>0</td>\n",
       "    </tr>\n",
       "    <tr>\n",
       "      <th>4</th>\n",
       "      <td>19.100000</td>\n",
       "      <td>17.150000</td>\n",
       "      <td>19.000000</td>\n",
       "      <td>17.250000</td>\n",
       "      <td>10022500</td>\n",
       "      <td>17.250000</td>\n",
       "      <td>1.950001</td>\n",
       "      <td>-1.750000</td>\n",
       "      <td>19.160000</td>\n",
       "      <td>18.464</td>\n",
       "      <td>15.884667</td>\n",
       "      <td>1.337584</td>\n",
       "      <td>48.883942</td>\n",
       "      <td>-98.076916</td>\n",
       "      <td>0.000060</td>\n",
       "      <td>0.000000e+00</td>\n",
       "      <td>847.375000</td>\n",
       "      <td>0.257500</td>\n",
       "      <td>1</td>\n",
       "    </tr>\n",
       "  </tbody>\n",
       "</table>\n",
       "</div>"
      ],
      "text/plain": [
       "        High        Low       Open      Close    Volume  Adj Close       H-L  \\\n",
       "0  21.969999  20.350000  21.309999  20.990000   8965900  20.990000  1.619999   \n",
       "1  21.070000  18.559999  20.820000  19.379999   9241400  19.379999  2.510000   \n",
       "2  20.000000  18.850000  19.379999  19.260000   5934400  19.260000  1.150000   \n",
       "3  19.799999  18.799999  19.250000  18.840000   6922700  18.840000  1.000000   \n",
       "4  19.100000  17.150000  19.000000  17.250000  10022500  17.250000  1.950001   \n",
       "\n",
       "        O-C    3day MA  10day MA   30day MA   Std_dev        RSI  Williams %R  \\\n",
       "0 -0.320000  20.059999    15.990  14.796667  2.203520  76.868946   -15.525121   \n",
       "1 -1.440001  20.570000    16.758  15.125333  0.696958  63.897950   -41.422611   \n",
       "2 -0.119999  20.173333    17.424  15.404333  0.747496  63.006471   -43.705797   \n",
       "3 -0.410000  19.876666    17.965  15.644333  0.851369  59.725454   -56.612900   \n",
       "4 -1.750000  19.160000    18.464  15.884667  1.337584  48.883942   -98.076916   \n",
       "\n",
       "     degree  betweenness_centrality  followersCount  sentiment_score  \\\n",
       "0  0.000057            1.465538e-10      214.000000         0.280789   \n",
       "1  0.000054            0.000000e+00      849.333333         0.214934   \n",
       "2  0.000065            4.030228e-10     3555.000000         0.505211   \n",
       "3  0.000067            0.000000e+00      160.941176         0.353148   \n",
       "4  0.000060            0.000000e+00      847.375000         0.257500   \n",
       "\n",
       "   Price_Rise  \n",
       "0           0  \n",
       "1           0  \n",
       "2           0  \n",
       "3           0  \n",
       "4           1  "
      ]
     },
     "execution_count": 118,
     "metadata": {},
     "output_type": "execute_result"
    }
   ],
   "source": [
    "dataset.head()"
   ]
  },
  {
   "cell_type": "code",
   "execution_count": 119,
   "id": "cooperative-clearance",
   "metadata": {},
   "outputs": [],
   "source": [
    "X = dataset.iloc[:, 4:-1]\n",
    "y = dataset.iloc[:, -1]"
   ]
  },
  {
   "cell_type": "code",
   "execution_count": 120,
   "id": "concrete-animation",
   "metadata": {},
   "outputs": [],
   "source": [
    "#split the dataset\n",
    "split = int(len(dataset)*0.8)\n",
    "X_train, X_test, y_train, y_test = X[:split], X[split:], y[:split], y[split:]"
   ]
  },
  {
   "cell_type": "code",
   "execution_count": 121,
   "id": "paperback-summit",
   "metadata": {},
   "outputs": [],
   "source": [
    "#Feature Scaling\n",
    "from sklearn.preprocessing import StandardScaler\n",
    "sc = StandardScaler()\n",
    "X_train = sc.fit_transform(X_train)\n",
    "X_test = sc.transform(X_test)"
   ]
  },
  {
   "cell_type": "markdown",
   "id": "married-vehicle",
   "metadata": {},
   "source": [
    "## 1. Building the Artificial Neural Network"
   ]
  },
  {
   "cell_type": "code",
   "execution_count": 122,
   "id": "sweet-lesson",
   "metadata": {},
   "outputs": [],
   "source": [
    "from keras.models import Sequential\n",
    "from keras.layers import Dense\n",
    "from keras.layers import Dropout"
   ]
  },
  {
   "cell_type": "code",
   "execution_count": 123,
   "id": "floppy-watch",
   "metadata": {},
   "outputs": [],
   "source": [
    "classifier = Sequential()\n",
    "classifier.add(Dense(units = 128, kernel_initializer = 'uniform', activation = 'relu', input_dim = X.shape[1]))\n",
    "classifier.add(Dense(units = 128, kernel_initializer = 'uniform', activation = 'relu'))\n",
    "classifier.add(Dense(units = 1, kernel_initializer = 'uniform', activation = 'sigmoid'))"
   ]
  },
  {
   "cell_type": "code",
   "execution_count": 124,
   "id": "exotic-scheduling",
   "metadata": {},
   "outputs": [],
   "source": [
    "classifier.compile(optimizer = 'adam', loss = 'mean_squared_error', metrics = ['accuracy'])"
   ]
  },
  {
   "cell_type": "code",
   "execution_count": 125,
   "id": "shared-planet",
   "metadata": {},
   "outputs": [
    {
     "name": "stdout",
     "output_type": "stream",
     "text": [
      "Epoch 1/100\n",
      "4/4 [==============================] - 0s 492us/step - loss: 0.2501 - accuracy: 0.5455\n",
      "Epoch 2/100\n",
      "4/4 [==============================] - 0s 492us/step - loss: 0.2483 - accuracy: 0.6061\n",
      "Epoch 3/100\n",
      "4/4 [==============================] - 0s 499us/step - loss: 0.2467 - accuracy: 0.6364\n",
      "Epoch 4/100\n",
      "4/4 [==============================] - 0s 250us/step - loss: 0.2450 - accuracy: 0.6061\n",
      "Epoch 5/100\n",
      "4/4 [==============================] - 0s 249us/step - loss: 0.2427 - accuracy: 0.6667\n",
      "Epoch 6/100\n",
      "4/4 [==============================] - 0s 249us/step - loss: 0.2400 - accuracy: 0.6667\n",
      "Epoch 7/100\n",
      "4/4 [==============================] - 0s 249us/step - loss: 0.2367 - accuracy: 0.6364\n",
      "Epoch 8/100\n",
      "4/4 [==============================] - 0s 249us/step - loss: 0.2309 - accuracy: 0.6970\n",
      "Epoch 9/100\n",
      "4/4 [==============================] - 0s 499us/step - loss: 0.2259 - accuracy: 0.7273\n",
      "Epoch 10/100\n",
      "4/4 [==============================] - 0s 249us/step - loss: 0.2199 - accuracy: 0.6667\n",
      "Epoch 11/100\n",
      "4/4 [==============================] - 0s 499us/step - loss: 0.2135 - accuracy: 0.6970\n",
      "Epoch 12/100\n",
      "4/4 [==============================] - 0s 499us/step - loss: 0.2087 - accuracy: 0.7273\n",
      "Epoch 13/100\n",
      "4/4 [==============================] - 0s 499us/step - loss: 0.2026 - accuracy: 0.7879\n",
      "Epoch 14/100\n",
      "4/4 [==============================] - 0s 499us/step - loss: 0.1969 - accuracy: 0.8182\n",
      "Epoch 15/100\n",
      "4/4 [==============================] - 0s 499us/step - loss: 0.1924 - accuracy: 0.8182\n",
      "Epoch 16/100\n",
      "4/4 [==============================] - 0s 498us/step - loss: 0.1860 - accuracy: 0.8182\n",
      "Epoch 17/100\n",
      "4/4 [==============================] - 0s 499us/step - loss: 0.1811 - accuracy: 0.8182\n",
      "Epoch 18/100\n",
      "4/4 [==============================] - 0s 499us/step - loss: 0.1750 - accuracy: 0.8182\n",
      "Epoch 19/100\n",
      "4/4 [==============================] - 0s 498us/step - loss: 0.1690 - accuracy: 0.8182\n",
      "Epoch 20/100\n",
      "4/4 [==============================] - 0s 499us/step - loss: 0.1622 - accuracy: 0.7879\n",
      "Epoch 21/100\n",
      "4/4 [==============================] - 0s 499us/step - loss: 0.1586 - accuracy: 0.7879\n",
      "Epoch 22/100\n",
      "4/4 [==============================] - 0s 499us/step - loss: 0.1524 - accuracy: 0.7273\n",
      "Epoch 23/100\n",
      "4/4 [==============================] - 0s 499us/step - loss: 0.1470 - accuracy: 0.7273\n",
      "Epoch 24/100\n",
      "4/4 [==============================] - 0s 499us/step - loss: 0.1400 - accuracy: 0.7879\n",
      "Epoch 25/100\n",
      "4/4 [==============================] - 0s 499us/step - loss: 0.1368 - accuracy: 0.8182\n",
      "Epoch 26/100\n",
      "4/4 [==============================] - 0s 499us/step - loss: 0.1301 - accuracy: 0.7879\n",
      "Epoch 27/100\n",
      "4/4 [==============================] - 0s 499us/step - loss: 0.1249 - accuracy: 0.7879\n",
      "Epoch 28/100\n",
      "4/4 [==============================] - 0s 499us/step - loss: 0.1244 - accuracy: 0.8182\n",
      "Epoch 29/100\n",
      "4/4 [==============================] - 0s 499us/step - loss: 0.1216 - accuracy: 0.8485\n",
      "Epoch 30/100\n",
      "4/4 [==============================] - 0s 499us/step - loss: 0.1157 - accuracy: 0.8485\n",
      "Epoch 31/100\n",
      "4/4 [==============================] - 0s 249us/step - loss: 0.1105 - accuracy: 0.8485\n",
      "Epoch 32/100\n",
      "4/4 [==============================] - 0s 250us/step - loss: 0.1080 - accuracy: 0.8485\n",
      "Epoch 33/100\n",
      "4/4 [==============================] - 0s 498us/step - loss: 0.1049 - accuracy: 0.8485\n",
      "Epoch 34/100\n",
      "4/4 [==============================] - 0s 499us/step - loss: 0.1039 - accuracy: 0.8182\n",
      "Epoch 35/100\n",
      "4/4 [==============================] - 0s 249us/step - loss: 0.0999 - accuracy: 0.8485\n",
      "Epoch 36/100\n",
      "4/4 [==============================] - 0s 249us/step - loss: 0.0966 - accuracy: 0.8485\n",
      "Epoch 37/100\n",
      "4/4 [==============================] - 0s 249us/step - loss: 0.0932 - accuracy: 0.8485\n",
      "Epoch 38/100\n",
      "4/4 [==============================] - 0s 249us/step - loss: 0.0901 - accuracy: 0.9091\n",
      "Epoch 39/100\n",
      "4/4 [==============================] - 0s 499us/step - loss: 0.0885 - accuracy: 0.9091\n",
      "Epoch 40/100\n",
      "4/4 [==============================] - 0s 499us/step - loss: 0.0874 - accuracy: 0.8788\n",
      "Epoch 41/100\n",
      "4/4 [==============================] - 0s 498us/step - loss: 0.0857 - accuracy: 0.8788\n",
      "Epoch 42/100\n",
      "4/4 [==============================] - 0s 498us/step - loss: 0.0844 - accuracy: 0.8485\n",
      "Epoch 43/100\n",
      "4/4 [==============================] - 0s 499us/step - loss: 0.0821 - accuracy: 0.8485\n",
      "Epoch 44/100\n",
      "4/4 [==============================] - 0s 499us/step - loss: 0.0800 - accuracy: 0.9091\n",
      "Epoch 45/100\n",
      "4/4 [==============================] - 0s 499us/step - loss: 0.0757 - accuracy: 0.9091\n",
      "Epoch 46/100\n",
      "4/4 [==============================] - 0s 249us/step - loss: 0.0742 - accuracy: 0.8788\n",
      "Epoch 47/100\n",
      "4/4 [==============================] - 0s 249us/step - loss: 0.0719 - accuracy: 0.8788\n",
      "Epoch 48/100\n",
      "4/4 [==============================] - 0s 250us/step - loss: 0.0696 - accuracy: 0.9091\n",
      "Epoch 49/100\n",
      "4/4 [==============================] - 0s 250us/step - loss: 0.0674 - accuracy: 0.9091\n",
      "Epoch 50/100\n",
      "4/4 [==============================] - 0s 498us/step - loss: 0.0668 - accuracy: 0.9394\n",
      "Epoch 51/100\n",
      "4/4 [==============================] - 0s 499us/step - loss: 0.0682 - accuracy: 0.8788\n",
      "Epoch 52/100\n",
      "4/4 [==============================] - 0s 249us/step - loss: 0.0607 - accuracy: 0.9091\n",
      "Epoch 53/100\n",
      "4/4 [==============================] - 0s 499us/step - loss: 0.0633 - accuracy: 0.9091\n",
      "Epoch 54/100\n",
      "4/4 [==============================] - 0s 499us/step - loss: 0.0640 - accuracy: 0.9091\n",
      "Epoch 55/100\n",
      "4/4 [==============================] - 0s 498us/step - loss: 0.0589 - accuracy: 0.9091\n",
      "Epoch 56/100\n",
      "4/4 [==============================] - 0s 256us/step - loss: 0.0559 - accuracy: 0.9394\n",
      "Epoch 57/100\n",
      "4/4 [==============================] - 0s 492us/step - loss: 0.0566 - accuracy: 0.9091\n",
      "Epoch 58/100\n",
      "4/4 [==============================] - 0s 499us/step - loss: 0.0531 - accuracy: 0.9394\n",
      "Epoch 59/100\n",
      "4/4 [==============================] - 0s 242us/step - loss: 0.0521 - accuracy: 0.9394\n",
      "Epoch 60/100\n",
      "4/4 [==============================] - 0s 242us/step - loss: 0.0505 - accuracy: 0.9697\n",
      "Epoch 61/100\n",
      "4/4 [==============================] - 0s 249us/step - loss: 0.0483 - accuracy: 0.9394\n",
      "Epoch 62/100\n",
      "4/4 [==============================] - 0s 249us/step - loss: 0.0463 - accuracy: 0.9697\n",
      "Epoch 63/100\n",
      "4/4 [==============================] - 0s 249us/step - loss: 0.0462 - accuracy: 0.9697\n",
      "Epoch 64/100\n",
      "4/4 [==============================] - 0s 249us/step - loss: 0.0458 - accuracy: 0.9697\n",
      "Epoch 65/100\n",
      "4/4 [==============================] - 0s 249us/step - loss: 0.0419 - accuracy: 0.9697\n",
      "Epoch 66/100\n",
      "4/4 [==============================] - 0s 499us/step - loss: 0.0418 - accuracy: 0.9697\n",
      "Epoch 67/100\n",
      "4/4 [==============================] - 0s 499us/step - loss: 0.0442 - accuracy: 0.9394\n",
      "Epoch 68/100\n",
      "4/4 [==============================] - 0s 498us/step - loss: 0.0418 - accuracy: 0.9394\n",
      "Epoch 69/100\n",
      "4/4 [==============================] - 0s 499us/step - loss: 0.0377 - accuracy: 0.9394\n",
      "Epoch 70/100\n",
      "4/4 [==============================] - 0s 499us/step - loss: 0.0358 - accuracy: 0.9697\n",
      "Epoch 71/100\n",
      "4/4 [==============================] - 0s 249us/step - loss: 0.0344 - accuracy: 1.0000\n",
      "Epoch 72/100\n",
      "4/4 [==============================] - 0s 499us/step - loss: 0.0337 - accuracy: 0.9697\n",
      "Epoch 73/100\n",
      "4/4 [==============================] - 0s 499us/step - loss: 0.0348 - accuracy: 0.9697\n",
      "Epoch 74/100\n",
      "4/4 [==============================] - 0s 499us/step - loss: 0.0335 - accuracy: 0.9697\n",
      "Epoch 75/100\n",
      "4/4 [==============================] - 0s 249us/step - loss: 0.0313 - accuracy: 0.9697\n",
      "Epoch 76/100\n",
      "4/4 [==============================] - 0s 249us/step - loss: 0.0285 - accuracy: 0.9697\n",
      "Epoch 77/100\n",
      "4/4 [==============================] - 0s 249us/step - loss: 0.0289 - accuracy: 1.0000\n",
      "Epoch 78/100\n",
      "4/4 [==============================] - 0s 249us/step - loss: 0.0279 - accuracy: 1.0000\n",
      "Epoch 79/100\n",
      "4/4 [==============================] - 0s 250us/step - loss: 0.0263 - accuracy: 1.0000\n",
      "Epoch 80/100\n",
      "4/4 [==============================] - 0s 250us/step - loss: 0.0270 - accuracy: 0.9697\n",
      "Epoch 81/100\n",
      "4/4 [==============================] - 0s 499us/step - loss: 0.0278 - accuracy: 0.9697\n",
      "Epoch 82/100\n",
      "4/4 [==============================] - 0s 499us/step - loss: 0.0257 - accuracy: 0.9697\n",
      "Epoch 83/100\n"
     ]
    },
    {
     "name": "stdout",
     "output_type": "stream",
     "text": [
      "4/4 [==============================] - 0s 499us/step - loss: 0.0236 - accuracy: 1.0000\n",
      "Epoch 84/100\n",
      "4/4 [==============================] - 0s 499us/step - loss: 0.0230 - accuracy: 1.0000\n",
      "Epoch 85/100\n",
      "4/4 [==============================] - 0s 498us/step - loss: 0.0239 - accuracy: 1.0000\n",
      "Epoch 86/100\n",
      "4/4 [==============================] - 0s 499us/step - loss: 0.0209 - accuracy: 1.0000\n",
      "Epoch 87/100\n",
      "4/4 [==============================] - 0s 499us/step - loss: 0.0197 - accuracy: 1.0000\n",
      "Epoch 88/100\n",
      "4/4 [==============================] - 0s 499us/step - loss: 0.0247 - accuracy: 0.9697\n",
      "Epoch 89/100\n",
      "4/4 [==============================] - 0s 498us/step - loss: 0.0230 - accuracy: 0.9697\n",
      "Epoch 90/100\n",
      "4/4 [==============================] - 0s 498us/step - loss: 0.0210 - accuracy: 1.0000\n",
      "Epoch 91/100\n",
      "4/4 [==============================] - 0s 499us/step - loss: 0.0206 - accuracy: 1.0000\n",
      "Epoch 92/100\n",
      "4/4 [==============================] - 0s 250us/step - loss: 0.0194 - accuracy: 1.0000\n",
      "Epoch 93/100\n",
      "4/4 [==============================] - 0s 249us/step - loss: 0.0202 - accuracy: 0.9697\n",
      "Epoch 94/100\n",
      "4/4 [==============================] - 0s 499us/step - loss: 0.0173 - accuracy: 1.0000\n",
      "Epoch 95/100\n",
      "4/4 [==============================] - 0s 249us/step - loss: 0.0154 - accuracy: 1.0000\n",
      "Epoch 96/100\n",
      "4/4 [==============================] - 0s 249us/step - loss: 0.0162 - accuracy: 1.0000\n",
      "Epoch 97/100\n",
      "4/4 [==============================] - 0s 499us/step - loss: 0.0149 - accuracy: 1.0000\n",
      "Epoch 98/100\n",
      "4/4 [==============================] - 0s 499us/step - loss: 0.0164 - accuracy: 1.0000\n",
      "Epoch 99/100\n",
      "4/4 [==============================] - 0s 499us/step - loss: 0.0131 - accuracy: 1.0000\n",
      "Epoch 100/100\n",
      "4/4 [==============================] - 0s 249us/step - loss: 0.0128 - accuracy: 1.0000\n"
     ]
    },
    {
     "data": {
      "text/plain": [
       "<tensorflow.python.keras.callbacks.History at 0x1cec686ad00>"
      ]
     },
     "execution_count": 125,
     "metadata": {},
     "output_type": "execute_result"
    }
   ],
   "source": [
    "classifier.fit(X_train, y_train, batch_size = 10, epochs = 100)"
   ]
  },
  {
   "cell_type": "markdown",
   "id": "greater-punch",
   "metadata": {},
   "source": [
    "## 2.Predicting the movement of the stock"
   ]
  },
  {
   "cell_type": "code",
   "execution_count": 126,
   "id": "naughty-laundry",
   "metadata": {},
   "outputs": [],
   "source": [
    "y_pred = classifier.predict(X_test)\n",
    "y_pred = (y_pred > 0.5)"
   ]
  },
  {
   "cell_type": "code",
   "execution_count": 127,
   "id": "attempted-internship",
   "metadata": {},
   "outputs": [],
   "source": [
    "dataset['y_pred'] = np.NaN\n",
    "dataset.iloc[(len(dataset) - len(y_pred)):,-1:] = y_pred\n",
    "trade_dataset = dataset.dropna()"
   ]
  },
  {
   "cell_type": "markdown",
   "id": "latin-transfer",
   "metadata": {},
   "source": [
    "## 3. Computing Strategy Returns"
   ]
  },
  {
   "cell_type": "code",
   "execution_count": 128,
   "id": "above-idaho",
   "metadata": {},
   "outputs": [
    {
     "name": "stderr",
     "output_type": "stream",
     "text": [
      "<ipython-input-128-3098c58b4cf7>:1: SettingWithCopyWarning: \n",
      "A value is trying to be set on a copy of a slice from a DataFrame.\n",
      "Try using .loc[row_indexer,col_indexer] = value instead\n",
      "\n",
      "See the caveats in the documentation: https://pandas.pydata.org/pandas-docs/stable/user_guide/indexing.html#returning-a-view-versus-a-copy\n",
      "  trade_dataset['Tomorrows Returns'] = 0.\n",
      "<ipython-input-128-3098c58b4cf7>:2: SettingWithCopyWarning: \n",
      "A value is trying to be set on a copy of a slice from a DataFrame.\n",
      "Try using .loc[row_indexer,col_indexer] = value instead\n",
      "\n",
      "See the caveats in the documentation: https://pandas.pydata.org/pandas-docs/stable/user_guide/indexing.html#returning-a-view-versus-a-copy\n",
      "  trade_dataset['Tomorrows Returns'] = np.log(trade_dataset['Close']/trade_dataset['Close'].shift(1))\n",
      "<ipython-input-128-3098c58b4cf7>:3: SettingWithCopyWarning: \n",
      "A value is trying to be set on a copy of a slice from a DataFrame.\n",
      "Try using .loc[row_indexer,col_indexer] = value instead\n",
      "\n",
      "See the caveats in the documentation: https://pandas.pydata.org/pandas-docs/stable/user_guide/indexing.html#returning-a-view-versus-a-copy\n",
      "  trade_dataset['Tomorrows Returns'] = trade_dataset['Tomorrows Returns'].shift(-1)\n"
     ]
    }
   ],
   "source": [
    "trade_dataset['Tomorrows Returns'] = 0.\n",
    "trade_dataset['Tomorrows Returns'] = np.log(trade_dataset['Close']/trade_dataset['Close'].shift(1))\n",
    "trade_dataset['Tomorrows Returns'] = trade_dataset['Tomorrows Returns'].shift(-1)"
   ]
  },
  {
   "cell_type": "code",
   "execution_count": 129,
   "id": "revised-turtle",
   "metadata": {},
   "outputs": [
    {
     "name": "stderr",
     "output_type": "stream",
     "text": [
      "<ipython-input-129-c8d278af7601>:1: SettingWithCopyWarning: \n",
      "A value is trying to be set on a copy of a slice from a DataFrame.\n",
      "Try using .loc[row_indexer,col_indexer] = value instead\n",
      "\n",
      "See the caveats in the documentation: https://pandas.pydata.org/pandas-docs/stable/user_guide/indexing.html#returning-a-view-versus-a-copy\n",
      "  trade_dataset['Strategy Returns'] = 0.\n",
      "<ipython-input-129-c8d278af7601>:2: SettingWithCopyWarning: \n",
      "A value is trying to be set on a copy of a slice from a DataFrame.\n",
      "Try using .loc[row_indexer,col_indexer] = value instead\n",
      "\n",
      "See the caveats in the documentation: https://pandas.pydata.org/pandas-docs/stable/user_guide/indexing.html#returning-a-view-versus-a-copy\n",
      "  trade_dataset['Strategy Returns'] = np.where(trade_dataset['y_pred'] == True, trade_dataset['Tomorrows Returns'], - trade_dataset['Tomorrows Returns'])\n"
     ]
    }
   ],
   "source": [
    "trade_dataset['Strategy Returns'] = 0.\n",
    "trade_dataset['Strategy Returns'] = np.where(trade_dataset['y_pred'] == True, trade_dataset['Tomorrows Returns'], - trade_dataset['Tomorrows Returns'])"
   ]
  },
  {
   "cell_type": "code",
   "execution_count": 130,
   "id": "yellow-signature",
   "metadata": {},
   "outputs": [
    {
     "name": "stderr",
     "output_type": "stream",
     "text": [
      "<ipython-input-130-c41e1247ab30>:1: SettingWithCopyWarning: \n",
      "A value is trying to be set on a copy of a slice from a DataFrame.\n",
      "Try using .loc[row_indexer,col_indexer] = value instead\n",
      "\n",
      "See the caveats in the documentation: https://pandas.pydata.org/pandas-docs/stable/user_guide/indexing.html#returning-a-view-versus-a-copy\n",
      "  trade_dataset['Cumulative Market Returns'] = np.cumsum(trade_dataset['Tomorrows Returns'])\n",
      "<ipython-input-130-c41e1247ab30>:2: SettingWithCopyWarning: \n",
      "A value is trying to be set on a copy of a slice from a DataFrame.\n",
      "Try using .loc[row_indexer,col_indexer] = value instead\n",
      "\n",
      "See the caveats in the documentation: https://pandas.pydata.org/pandas-docs/stable/user_guide/indexing.html#returning-a-view-versus-a-copy\n",
      "  trade_dataset['Cumulative Strategy Returns'] = np.cumsum(trade_dataset['Strategy Returns'])\n"
     ]
    }
   ],
   "source": [
    "trade_dataset['Cumulative Market Returns'] = np.cumsum(trade_dataset['Tomorrows Returns'])\n",
    "trade_dataset['Cumulative Strategy Returns'] = np.cumsum(trade_dataset['Strategy Returns'])"
   ]
  },
  {
   "cell_type": "code",
   "execution_count": 131,
   "id": "significant-looking",
   "metadata": {},
   "outputs": [
    {
     "data": {
      "image/png": "[encoded data removed]",
      "text/plain": [
       "<Figure size 720x360 with 1 Axes>"
      ]
     },
     "metadata": {
      "needs_background": "light"
     },
     "output_type": "display_data"
    }
   ],
   "source": [
    "import matplotlib.pyplot as plt\n",
    "plt.figure(figsize=(10,5))\n",
    "plt.plot(trade_dataset['Cumulative Market Returns'], color='g', label='Cumulative Market Returns')\n",
    "plt.plot(trade_dataset['Cumulative Strategy Returns'], color='r', label='Cumulative Strategy Returns')\n",
    "plt.xlabel(\"Date\")\n",
    "plt.ylabel(\"Return\")\n",
    "plt.legend()\n",
    "plt.show()"
   ]
  },
  {
   "cell_type": "markdown",
   "id": "pregnant-practitioner",
   "metadata": {},
   "source": [
    "# Stock Price Prediction - Using Only Stock Dataset (3 Months Data)"
   ]
  },
  {
   "cell_type": "code",
   "execution_count": 59,
   "id": "becoming-terry",
   "metadata": {},
   "outputs": [],
   "source": [
    "tickers = ['GME']\n",
    "\n",
    "# We would like all available data from 01/01/2000 until 12/31/2016.\n",
    "start_date = '2020-11-11'\n",
    "end_date = '2021-02-26'\n",
    "\n",
    "# User pandas_reader.data.DataReader to load the desired data. As simple as that.\n",
    "panel_data = data.DataReader('GME', 'yahoo', start_date, end_date).reset_index()"
   ]
  },
  {
   "cell_type": "code",
   "execution_count": 60,
   "id": "smart-dressing",
   "metadata": {},
   "outputs": [],
   "source": [
    "dataset = panel_data.dropna()\n",
    "dataset = dataset[['Open', 'High', 'Low', 'Close']]"
   ]
  },
  {
   "cell_type": "code",
   "execution_count": 61,
   "id": "suitable-connectivity",
   "metadata": {},
   "outputs": [],
   "source": [
    "dataset['H-L'] = dataset['High'] - dataset['Low']\n",
    "dataset['O-C'] = dataset['Close'] - dataset['Open']\n",
    "dataset['3day MA'] = dataset['Close'].shift(1).rolling(window = 3).mean()\n",
    "dataset['10day MA'] = dataset['Close'].shift(1).rolling(window = 10).mean()\n",
    "dataset['30day MA'] = dataset['Close'].shift(1).rolling(window = 30).mean()\n",
    "dataset['Std_dev']= dataset['Close'].rolling(5).std()\n",
    "dataset['RSI'] = talib.RSI(dataset['Close'].values, timeperiod = 9)\n",
    "dataset['Williams %R'] = talib.WILLR(dataset['High'].values, dataset['Low'].values, dataset['Close'].values, 7)\n",
    "dataset['Price_Rise'] = np.where(dataset['Close'].shift(-1) > dataset['Close'], 1, 0)"
   ]
  },
  {
   "cell_type": "code",
   "execution_count": 62,
   "id": "fluid-reward",
   "metadata": {},
   "outputs": [],
   "source": [
    "#drop nan\n",
    "dataset = dataset.dropna()"
   ]
  },
  {
   "cell_type": "code",
   "execution_count": 63,
   "id": "disturbed-lawyer",
   "metadata": {},
   "outputs": [],
   "source": [
    "X = dataset.iloc[:, 4:-1]\n",
    "y = dataset.iloc[:, -1]"
   ]
  },
  {
   "cell_type": "code",
   "execution_count": 64,
   "id": "thousand-canvas",
   "metadata": {},
   "outputs": [],
   "source": [
    "#split the dataset\n",
    "split = int(len(dataset)*0.8)\n",
    "X_train, X_test, y_train, y_test = X[:split], X[split:], y[:split], y[split:]"
   ]
  },
  {
   "cell_type": "code",
   "execution_count": 65,
   "id": "unlikely-trick",
   "metadata": {},
   "outputs": [],
   "source": [
    "#Feature Scaling\n",
    "from sklearn.preprocessing import StandardScaler\n",
    "sc = StandardScaler()\n",
    "X_train = sc.fit_transform(X_train)\n",
    "X_test = sc.transform(X_test)"
   ]
  },
  {
   "cell_type": "code",
   "execution_count": 66,
   "id": "narrow-joining",
   "metadata": {},
   "outputs": [
    {
     "name": "stdout",
     "output_type": "stream",
     "text": [
      "Epoch 1/100\n",
      "4/4 [==============================] - 0s 488us/step - loss: 0.2501 - accuracy: 0.5000\n",
      "Epoch 2/100\n",
      "4/4 [==============================] - 0s 499us/step - loss: 0.2488 - accuracy: 0.5588\n",
      "Epoch 3/100\n",
      "4/4 [==============================] - 0s 249us/step - loss: 0.2479 - accuracy: 0.5882\n",
      "Epoch 4/100\n",
      "4/4 [==============================] - 0s 499us/step - loss: 0.2472 - accuracy: 0.5882\n",
      "Epoch 5/100\n",
      "4/4 [==============================] - 0s 499us/step - loss: 0.2460 - accuracy: 0.5882\n",
      "Epoch 6/100\n",
      "4/4 [==============================] - 0s 498us/step - loss: 0.2453 - accuracy: 0.6176\n",
      "Epoch 7/100\n",
      "4/4 [==============================] - 0s 499us/step - loss: 0.2443 - accuracy: 0.6471\n",
      "Epoch 8/100\n",
      "4/4 [==============================] - 0s 499us/step - loss: 0.2429 - accuracy: 0.6471\n",
      "Epoch 9/100\n",
      "4/4 [==============================] - 0s 499us/step - loss: 0.2418 - accuracy: 0.6471\n",
      "Epoch 10/100\n",
      "4/4 [==============================] - 0s 499us/step - loss: 0.2392 - accuracy: 0.6471\n",
      "Epoch 11/100\n",
      "4/4 [==============================] - 0s 499us/step - loss: 0.2380 - accuracy: 0.6471\n",
      "Epoch 12/100\n",
      "4/4 [==============================] - 0s 499us/step - loss: 0.2354 - accuracy: 0.6471\n",
      "Epoch 13/100\n",
      "4/4 [==============================] - 0s 499us/step - loss: 0.2331 - accuracy: 0.6471\n",
      "Epoch 14/100\n",
      "4/4 [==============================] - 0s 499us/step - loss: 0.2296 - accuracy: 0.6471\n",
      "Epoch 15/100\n",
      "4/4 [==============================] - 0s 499us/step - loss: 0.2258 - accuracy: 0.6471\n",
      "Epoch 16/100\n",
      "4/4 [==============================] - 0s 499us/step - loss: 0.2243 - accuracy: 0.6471\n",
      "Epoch 17/100\n",
      "4/4 [==============================] - 0s 499us/step - loss: 0.2192 - accuracy: 0.6471\n",
      "Epoch 18/100\n",
      "4/4 [==============================] - 0s 499us/step - loss: 0.2158 - accuracy: 0.6471\n",
      "Epoch 19/100\n",
      "4/4 [==============================] - 0s 249us/step - loss: 0.2120 - accuracy: 0.6471\n",
      "Epoch 20/100\n",
      "4/4 [==============================] - 0s 249us/step - loss: 0.2083 - accuracy: 0.6471\n",
      "Epoch 21/100\n",
      "4/4 [==============================] - 0s 498us/step - loss: 0.2052 - accuracy: 0.6765\n",
      "Epoch 22/100\n",
      "4/4 [==============================] - 0s 499us/step - loss: 0.2008 - accuracy: 0.6765\n",
      "Epoch 23/100\n",
      "4/4 [==============================] - 0s 249us/step - loss: 0.1979 - accuracy: 0.6765\n",
      "Epoch 24/100\n",
      "4/4 [==============================] - 0s 249us/step - loss: 0.1953 - accuracy: 0.6765\n",
      "Epoch 25/100\n",
      "4/4 [==============================] - 0s 249us/step - loss: 0.1918 - accuracy: 0.6765\n",
      "Epoch 26/100\n",
      "4/4 [==============================] - 0s 499us/step - loss: 0.1917 - accuracy: 0.6765\n",
      "Epoch 27/100\n",
      "4/4 [==============================] - 0s 499us/step - loss: 0.1843 - accuracy: 0.7059\n",
      "Epoch 28/100\n",
      "4/4 [==============================] - 0s 250us/step - loss: 0.1813 - accuracy: 0.7059\n",
      "Epoch 29/100\n",
      "4/4 [==============================] - 0s 249us/step - loss: 0.1785 - accuracy: 0.7059\n",
      "Epoch 30/100\n",
      "4/4 [==============================] - 0s 249us/step - loss: 0.1774 - accuracy: 0.6765\n",
      "Epoch 31/100\n",
      "4/4 [==============================] - 0s 249us/step - loss: 0.1734 - accuracy: 0.7059\n",
      "Epoch 32/100\n",
      "4/4 [==============================] - 0s 499us/step - loss: 0.1699 - accuracy: 0.7353\n",
      "Epoch 33/100\n",
      "4/4 [==============================] - 0s 632us/step - loss: 0.1683 - accuracy: 0.7353\n",
      "Epoch 34/100\n",
      "4/4 [==============================] - 0s 498us/step - loss: 0.1662 - accuracy: 0.7353\n",
      "Epoch 35/100\n",
      "4/4 [==============================] - 0s 250us/step - loss: 0.1628 - accuracy: 0.7353\n",
      "Epoch 36/100\n",
      "4/4 [==============================] - 0s 499us/step - loss: 0.1598 - accuracy: 0.7353\n",
      "Epoch 37/100\n",
      "4/4 [==============================] - 0s 249us/step - loss: 0.1591 - accuracy: 0.8235\n",
      "Epoch 38/100\n",
      "4/4 [==============================] - 0s 249us/step - loss: 0.1570 - accuracy: 0.7941\n",
      "Epoch 39/100\n",
      "4/4 [==============================] - 0s 499us/step - loss: 0.1559 - accuracy: 0.7941\n",
      "Epoch 40/100\n",
      "4/4 [==============================] - 0s 499us/step - loss: 0.1546 - accuracy: 0.8235\n",
      "Epoch 41/100\n",
      "4/4 [==============================] - 0s 499us/step - loss: 0.1506 - accuracy: 0.8235\n",
      "Epoch 42/100\n",
      "4/4 [==============================] - 0s 499us/step - loss: 0.1506 - accuracy: 0.8824\n",
      "Epoch 43/100\n",
      "4/4 [==============================] - 0s 499us/step - loss: 0.1445 - accuracy: 0.8824\n",
      "Epoch 44/100\n",
      "4/4 [==============================] - 0s 499us/step - loss: 0.1430 - accuracy: 0.7941\n",
      "Epoch 45/100\n",
      "4/4 [==============================] - 0s 498us/step - loss: 0.1466 - accuracy: 0.7941\n",
      "Epoch 46/100\n",
      "4/4 [==============================] - 0s 499us/step - loss: 0.1390 - accuracy: 0.7941\n",
      "Epoch 47/100\n",
      "4/4 [==============================] - 0s 499us/step - loss: 0.1399 - accuracy: 0.8529\n",
      "Epoch 48/100\n",
      "4/4 [==============================] - 0s 499us/step - loss: 0.1397 - accuracy: 0.8824\n",
      "Epoch 49/100\n",
      "4/4 [==============================] - 0s 498us/step - loss: 0.1369 - accuracy: 0.8529\n",
      "Epoch 50/100\n",
      "4/4 [==============================] - 0s 498us/step - loss: 0.1320 - accuracy: 0.8824\n",
      "Epoch 51/100\n",
      "4/4 [==============================] - 0s 250us/step - loss: 0.1314 - accuracy: 0.8235\n",
      "Epoch 52/100\n",
      "4/4 [==============================] - 0s 499us/step - loss: 0.1369 - accuracy: 0.7941\n",
      "Epoch 53/100\n",
      "4/4 [==============================] - 0s 250us/step - loss: 0.1357 - accuracy: 0.8235\n",
      "Epoch 54/100\n",
      "4/4 [==============================] - 0s 499us/step - loss: 0.1291 - accuracy: 0.8529\n",
      "Epoch 55/100\n",
      "4/4 [==============================] - 0s 499us/step - loss: 0.1261 - accuracy: 0.8529\n",
      "Epoch 56/100\n",
      "4/4 [==============================] - 0s 249us/step - loss: 0.1251 - accuracy: 0.8529\n",
      "Epoch 57/100\n",
      "4/4 [==============================] - 0s 250us/step - loss: 0.1239 - accuracy: 0.8824\n",
      "Epoch 58/100\n",
      "4/4 [==============================] - 0s 249us/step - loss: 0.1213 - accuracy: 0.8824\n",
      "Epoch 59/100\n",
      "4/4 [==============================] - 0s 249us/step - loss: 0.1211 - accuracy: 0.9118\n",
      "Epoch 60/100\n",
      "4/4 [==============================] - 0s 499us/step - loss: 0.1169 - accuracy: 0.8529\n",
      "Epoch 61/100\n",
      "4/4 [==============================] - 0s 499us/step - loss: 0.1181 - accuracy: 0.8529\n",
      "Epoch 62/100\n",
      "4/4 [==============================] - 0s 249us/step - loss: 0.1193 - accuracy: 0.8235\n",
      "Epoch 63/100\n",
      "4/4 [==============================] - 0s 499us/step - loss: 0.1198 - accuracy: 0.8235\n",
      "Epoch 64/100\n",
      "4/4 [==============================] - 0s 499us/step - loss: 0.1142 - accuracy: 0.8529\n",
      "Epoch 65/100\n",
      "4/4 [==============================] - 0s 499us/step - loss: 0.1110 - accuracy: 0.9118\n",
      "Epoch 66/100\n",
      "4/4 [==============================] - 0s 499us/step - loss: 0.1120 - accuracy: 0.8824\n",
      "Epoch 67/100\n",
      "4/4 [==============================] - 0s 249us/step - loss: 0.1147 - accuracy: 0.8529\n",
      "Epoch 68/100\n",
      "4/4 [==============================] - 0s 250us/step - loss: 0.1071 - accuracy: 0.8824\n",
      "Epoch 69/100\n",
      "4/4 [==============================] - 0s 249us/step - loss: 0.1062 - accuracy: 0.8824\n",
      "Epoch 70/100\n",
      "4/4 [==============================] - 0s 498us/step - loss: 0.1093 - accuracy: 0.8824\n",
      "Epoch 71/100\n",
      "4/4 [==============================] - 0s 499us/step - loss: 0.1094 - accuracy: 0.8529\n",
      "Epoch 72/100\n",
      "4/4 [==============================] - 0s 499us/step - loss: 0.1026 - accuracy: 0.8824\n",
      "Epoch 73/100\n",
      "4/4 [==============================] - 0s 499us/step - loss: 0.1037 - accuracy: 0.8824\n",
      "Epoch 74/100\n",
      "4/4 [==============================] - 0s 498us/step - loss: 0.1019 - accuracy: 0.9118\n",
      "Epoch 75/100\n",
      "4/4 [==============================] - 0s 499us/step - loss: 0.0991 - accuracy: 0.9118\n",
      "Epoch 76/100\n",
      "4/4 [==============================] - 0s 499us/step - loss: 0.0993 - accuracy: 0.8824\n",
      "Epoch 77/100\n",
      "4/4 [==============================] - 0s 499us/step - loss: 0.0973 - accuracy: 0.8824\n",
      "Epoch 78/100\n",
      "4/4 [==============================] - 0s 499us/step - loss: 0.0986 - accuracy: 0.8824\n",
      "Epoch 79/100\n",
      "4/4 [==============================] - 0s 250us/step - loss: 0.0971 - accuracy: 0.9118\n",
      "Epoch 80/100\n",
      "4/4 [==============================] - 0s 249us/step - loss: 0.0961 - accuracy: 0.9118\n",
      "Epoch 81/100\n",
      "4/4 [==============================] - 0s 499us/step - loss: 0.0951 - accuracy: 0.9118\n",
      "Epoch 82/100\n",
      "4/4 [==============================] - 0s 250us/step - loss: 0.0953 - accuracy: 0.8824\n",
      "Epoch 83/100\n"
     ]
    },
    {
     "name": "stdout",
     "output_type": "stream",
     "text": [
      "4/4 [==============================] - 0s 499us/step - loss: 0.0952 - accuracy: 0.9118\n",
      "Epoch 84/100\n",
      "4/4 [==============================] - 0s 249us/step - loss: 0.0940 - accuracy: 0.8824\n",
      "Epoch 85/100\n",
      "4/4 [==============================] - 0s 249us/step - loss: 0.0960 - accuracy: 0.8529\n",
      "Epoch 86/100\n",
      "4/4 [==============================] - 0s 249us/step - loss: 0.0935 - accuracy: 0.8824\n",
      "Epoch 87/100\n",
      "4/4 [==============================] - 0s 249us/step - loss: 0.0907 - accuracy: 0.9118\n",
      "Epoch 88/100\n",
      "4/4 [==============================] - 0s 499us/step - loss: 0.0974 - accuracy: 0.8824\n",
      "Epoch 89/100\n",
      "4/4 [==============================] - 0s 499us/step - loss: 0.0951 - accuracy: 0.8824\n",
      "Epoch 90/100\n",
      "4/4 [==============================] - 0s 499us/step - loss: 0.0904 - accuracy: 0.9118\n",
      "Epoch 91/100\n",
      "4/4 [==============================] - 0s 499us/step - loss: 0.0901 - accuracy: 0.8824\n",
      "Epoch 92/100\n",
      "4/4 [==============================] - 0s 499us/step - loss: 0.0910 - accuracy: 0.9118\n",
      "Epoch 93/100\n",
      "4/4 [==============================] - 0s 499us/step - loss: 0.0888 - accuracy: 0.8824\n",
      "Epoch 94/100\n",
      "4/4 [==============================] - 0s 499us/step - loss: 0.0897 - accuracy: 0.9118\n",
      "Epoch 95/100\n",
      "4/4 [==============================] - 0s 499us/step - loss: 0.0856 - accuracy: 0.9118\n",
      "Epoch 96/100\n",
      "4/4 [==============================] - 0s 250us/step - loss: 0.0878 - accuracy: 0.9118\n",
      "Epoch 97/100\n",
      "4/4 [==============================] - 0s 499us/step - loss: 0.0838 - accuracy: 0.9118\n",
      "Epoch 98/100\n",
      "4/4 [==============================] - 0s 499us/step - loss: 0.0845 - accuracy: 0.9118\n",
      "Epoch 99/100\n",
      "4/4 [==============================] - 0s 249us/step - loss: 0.0864 - accuracy: 0.9118\n",
      "Epoch 100/100\n",
      "4/4 [==============================] - 0s 499us/step - loss: 0.0836 - accuracy: 0.9118\n"
     ]
    },
    {
     "data": {
      "text/plain": [
       "<tensorflow.python.keras.callbacks.History at 0x1cec99508e0>"
      ]
     },
     "execution_count": 66,
     "metadata": {},
     "output_type": "execute_result"
    }
   ],
   "source": [
    "classifier = Sequential()\n",
    "classifier.add(Dense(units = 128, kernel_initializer = 'uniform', activation = 'relu', input_dim = X.shape[1]))\n",
    "classifier.add(Dense(units = 128, kernel_initializer = 'uniform', activation = 'relu'))\n",
    "classifier.add(Dense(units = 1, kernel_initializer = 'uniform', activation = 'sigmoid'))\n",
    "classifier.compile(optimizer = 'adam', loss = 'mean_squared_error', metrics = ['accuracy'])\n",
    "classifier.fit(X_train, y_train, batch_size = 10, epochs = 100)"
   ]
  },
  {
   "cell_type": "code",
   "execution_count": 67,
   "id": "southwest-jersey",
   "metadata": {},
   "outputs": [],
   "source": [
    "y_pred = classifier.predict(X_test)\n",
    "y_pred = (y_pred > 0.5)"
   ]
  },
  {
   "cell_type": "code",
   "execution_count": 68,
   "id": "democratic-smell",
   "metadata": {},
   "outputs": [],
   "source": [
    "dataset['y_pred'] = np.NaN\n",
    "dataset.iloc[(len(dataset) - len(y_pred)):,-1:] = y_pred\n",
    "trade_dataset = dataset.dropna()"
   ]
  },
  {
   "cell_type": "code",
   "execution_count": 69,
   "id": "horizontal-jurisdiction",
   "metadata": {},
   "outputs": [
    {
     "name": "stderr",
     "output_type": "stream",
     "text": [
      "<ipython-input-69-3098c58b4cf7>:1: SettingWithCopyWarning: \n",
      "A value is trying to be set on a copy of a slice from a DataFrame.\n",
      "Try using .loc[row_indexer,col_indexer] = value instead\n",
      "\n",
      "See the caveats in the documentation: https://pandas.pydata.org/pandas-docs/stable/user_guide/indexing.html#returning-a-view-versus-a-copy\n",
      "  trade_dataset['Tomorrows Returns'] = 0.\n",
      "<ipython-input-69-3098c58b4cf7>:2: SettingWithCopyWarning: \n",
      "A value is trying to be set on a copy of a slice from a DataFrame.\n",
      "Try using .loc[row_indexer,col_indexer] = value instead\n",
      "\n",
      "See the caveats in the documentation: https://pandas.pydata.org/pandas-docs/stable/user_guide/indexing.html#returning-a-view-versus-a-copy\n",
      "  trade_dataset['Tomorrows Returns'] = np.log(trade_dataset['Close']/trade_dataset['Close'].shift(1))\n",
      "<ipython-input-69-3098c58b4cf7>:3: SettingWithCopyWarning: \n",
      "A value is trying to be set on a copy of a slice from a DataFrame.\n",
      "Try using .loc[row_indexer,col_indexer] = value instead\n",
      "\n",
      "See the caveats in the documentation: https://pandas.pydata.org/pandas-docs/stable/user_guide/indexing.html#returning-a-view-versus-a-copy\n",
      "  trade_dataset['Tomorrows Returns'] = trade_dataset['Tomorrows Returns'].shift(-1)\n"
     ]
    }
   ],
   "source": [
    "trade_dataset['Tomorrows Returns'] = 0.\n",
    "trade_dataset['Tomorrows Returns'] = np.log(trade_dataset['Close']/trade_dataset['Close'].shift(1))\n",
    "trade_dataset['Tomorrows Returns'] = trade_dataset['Tomorrows Returns'].shift(-1)"
   ]
  },
  {
   "cell_type": "code",
   "execution_count": 70,
   "id": "comfortable-chess",
   "metadata": {},
   "outputs": [
    {
     "name": "stderr",
     "output_type": "stream",
     "text": [
      "<ipython-input-70-c8d278af7601>:1: SettingWithCopyWarning: \n",
      "A value is trying to be set on a copy of a slice from a DataFrame.\n",
      "Try using .loc[row_indexer,col_indexer] = value instead\n",
      "\n",
      "See the caveats in the documentation: https://pandas.pydata.org/pandas-docs/stable/user_guide/indexing.html#returning-a-view-versus-a-copy\n",
      "  trade_dataset['Strategy Returns'] = 0.\n",
      "<ipython-input-70-c8d278af7601>:2: SettingWithCopyWarning: \n",
      "A value is trying to be set on a copy of a slice from a DataFrame.\n",
      "Try using .loc[row_indexer,col_indexer] = value instead\n",
      "\n",
      "See the caveats in the documentation: https://pandas.pydata.org/pandas-docs/stable/user_guide/indexing.html#returning-a-view-versus-a-copy\n",
      "  trade_dataset['Strategy Returns'] = np.where(trade_dataset['y_pred'] == True, trade_dataset['Tomorrows Returns'], - trade_dataset['Tomorrows Returns'])\n"
     ]
    }
   ],
   "source": [
    "trade_dataset['Strategy Returns'] = 0.\n",
    "trade_dataset['Strategy Returns'] = np.where(trade_dataset['y_pred'] == True, trade_dataset['Tomorrows Returns'], - trade_dataset['Tomorrows Returns'])"
   ]
  },
  {
   "cell_type": "code",
   "execution_count": 71,
   "id": "alert-detection",
   "metadata": {},
   "outputs": [
    {
     "name": "stderr",
     "output_type": "stream",
     "text": [
      "<ipython-input-71-c41e1247ab30>:1: SettingWithCopyWarning: \n",
      "A value is trying to be set on a copy of a slice from a DataFrame.\n",
      "Try using .loc[row_indexer,col_indexer] = value instead\n",
      "\n",
      "See the caveats in the documentation: https://pandas.pydata.org/pandas-docs/stable/user_guide/indexing.html#returning-a-view-versus-a-copy\n",
      "  trade_dataset['Cumulative Market Returns'] = np.cumsum(trade_dataset['Tomorrows Returns'])\n",
      "<ipython-input-71-c41e1247ab30>:2: SettingWithCopyWarning: \n",
      "A value is trying to be set on a copy of a slice from a DataFrame.\n",
      "Try using .loc[row_indexer,col_indexer] = value instead\n",
      "\n",
      "See the caveats in the documentation: https://pandas.pydata.org/pandas-docs/stable/user_guide/indexing.html#returning-a-view-versus-a-copy\n",
      "  trade_dataset['Cumulative Strategy Returns'] = np.cumsum(trade_dataset['Strategy Returns'])\n"
     ]
    }
   ],
   "source": [
    "trade_dataset['Cumulative Market Returns'] = np.cumsum(trade_dataset['Tomorrows Returns'])\n",
    "trade_dataset['Cumulative Strategy Returns'] = np.cumsum(trade_dataset['Strategy Returns'])"
   ]
  },
  {
   "cell_type": "code",
   "execution_count": 74,
   "id": "welsh-static",
   "metadata": {},
   "outputs": [
    {
     "data": {
      "image/png": "[encoded data removed]",
      "text/plain": [
       "<Figure size 720x360 with 1 Axes>"
      ]
     },
     "metadata": {
      "needs_background": "light"
     },
     "output_type": "display_data"
    }
   ],
   "source": [
    "import matplotlib.pyplot as plt\n",
    "plt.figure(figsize=(10,5))\n",
    "plt.plot(trade_dataset['Cumulative Market Returns'], color='g', label='Cumulative Market Returns')\n",
    "plt.plot(trade_dataset['Cumulative Strategy Returns'], color='r', label='Cumulative Strategy Returns')\n",
    "plt.xlabel(\"Date\")\n",
    "plt.ylabel(\"Return\")\n",
    "plt.legend()\n",
    "plt.show()"
   ]
  },
  {
   "cell_type": "code",
   "execution_count": null,
   "id": "deadly-peace",
   "metadata": {},
   "outputs": [],
   "source": []
  },
  {
   "cell_type": "code",
   "execution_count": null,
   "id": "aware-arbor",
   "metadata": {},
   "outputs": [],
   "source": []
  }
 ],
 "metadata": {
  "kernelspec": {
   "display_name": "Python 3",
   "language": "python",
   "name": "python3"
  },
  "language_info": {
   "codemirror_mode": {
    "name": "ipython",
    "version": 3
   },
   "file_extension": ".py",
   "mimetype": "text/x-python",
   "name": "python",
   "nbconvert_exporter": "python",
   "pygments_lexer": "ipython3",
   "version": "3.8.8"
  }
 },
 "nbformat": 4,
 "nbformat_minor": 5
}
