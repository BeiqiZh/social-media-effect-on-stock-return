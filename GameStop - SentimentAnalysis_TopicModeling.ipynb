{
  "nbformat": 4,
  "nbformat_minor": 0,
  "metadata": {
    "colab": {
      "name": "SentimentAnalysis_TopicModeling.ipynb",
      "provenance": [],
      "collapsed_sections": []
    },
    "kernelspec": {
      "name": "python3",
      "display_name": "Python 3"
    },
    "language_info": {
      "name": "python"
    }
  },
  "cells": [
    {
      "cell_type": "markdown",
      "metadata": {
        "id": "cgDlZg79QrYv"
      },
      "source": [
        "# Sentiment Analysis and topic Modeling\n",
        "\n",
        "### This part includes the analysis of sentiment and topics on the Twitter data about GameStop between 2020-12-27 and 2021-02-26."
      ]
    },
    {
      "cell_type": "code",
      "metadata": {
        "colab": {
          "base_uri": "https://localhost:8080/"
        },
        "id": "zcwS3yC_0-w_",
        "outputId": "3dfc9e5f-2892-439b-8683-21ca0018c123"
      },
      "source": [
        "!pip install emoji\n",
        "!pip install gif"
      ],
      "execution_count": 2,
      "outputs": [
        {
          "output_type": "stream",
          "text": [
            "Collecting emoji\n",
            "\u001b[?25l  Downloading https://files.pythonhosted.org/packages/24/fa/b3368f41b95a286f8d300e323449ab4e86b85334c2e0b477e94422b8ed0f/emoji-1.2.0-py3-none-any.whl (131kB)\n",
            "\r\u001b[K     |██▌                             | 10kB 12.4MB/s eta 0:00:01\r\u001b[K     |█████                           | 20kB 16.6MB/s eta 0:00:01\r\u001b[K     |███████▌                        | 30kB 12.0MB/s eta 0:00:01\r\u001b[K     |██████████                      | 40kB 7.3MB/s eta 0:00:01\r\u001b[K     |████████████▌                   | 51kB 4.1MB/s eta 0:00:01\r\u001b[K     |███████████████                 | 61kB 4.6MB/s eta 0:00:01\r\u001b[K     |█████████████████▌              | 71kB 4.7MB/s eta 0:00:01\r\u001b[K     |████████████████████            | 81kB 5.1MB/s eta 0:00:01\r\u001b[K     |██████████████████████▌         | 92kB 5.4MB/s eta 0:00:01\r\u001b[K     |█████████████████████████       | 102kB 4.0MB/s eta 0:00:01\r\u001b[K     |███████████████████████████▌    | 112kB 4.0MB/s eta 0:00:01\r\u001b[K     |██████████████████████████████  | 122kB 4.0MB/s eta 0:00:01\r\u001b[K     |████████████████████████████████| 133kB 4.0MB/s \n",
            "\u001b[?25hInstalling collected packages: emoji\n",
            "Successfully installed emoji-1.2.0\n",
            "Collecting gif\n",
            "  Downloading https://files.pythonhosted.org/packages/58/41/a556a028c7c04dba76ced9bbfb321ef63df48d50153d18291b433a3d9a89/gif-3.0.0.tar.gz\n",
            "Requirement already satisfied: Pillow>=7.1.2 in /usr/local/lib/python3.7/dist-packages (from gif) (7.1.2)\n",
            "Building wheels for collected packages: gif\n",
            "  Building wheel for gif (setup.py) ... \u001b[?25l\u001b[?25hdone\n",
            "  Created wheel for gif: filename=gif-3.0.0-cp37-none-any.whl size=4817 sha256=4e1dd01868a91fb6b98c69c30f2f7e7f7b9514f685feb6b1d25743af5a5b8680\n",
            "  Stored in directory: /root/.cache/pip/wheels/33/1a/03/e7ccc13d5cbed82b0fda53a7792dfe372cf8baf691601d78d1\n",
            "Successfully built gif\n",
            "Installing collected packages: gif\n",
            "Successfully installed gif-3.0.0\n"
          ],
          "name": "stdout"
        }
      ]
    },
    {
      "cell_type": "code",
      "metadata": {
        "colab": {
          "base_uri": "https://localhost:8080/"
        },
        "id": "A7E_03Zo02wI",
        "outputId": "414e00eb-1cee-4db1-9b1c-06430a6d81a0"
      },
      "source": [
        "# libraries\n",
        "import pandas as pd\n",
        "from nltk.sentiment.vader import SentimentIntensityAnalyzer\n",
        "import nltk\n",
        "nltk.download('stopwords')\n",
        "nltk.download('vader_lexicon')\n",
        "from nltk.tokenize import RegexpTokenizer\n",
        "from nltk.corpus import stopwords\n",
        "import re\n",
        "from sklearn.feature_extraction.text import CountVectorizer\n",
        "from sklearn.decomposition import LatentDirichletAllocation\n",
        "import emoji\n",
        "import plotly.graph_objects as go\n",
        "import gif\n",
        "import plotly.offline as pyo\n",
        "import matplotlib.pyplot as plt"
      ],
      "execution_count": 3,
      "outputs": [
        {
          "output_type": "stream",
          "text": [
            "[nltk_data] Downloading package stopwords to /root/nltk_data...\n",
            "[nltk_data]   Package stopwords is already up-to-date!\n",
            "[nltk_data] Downloading package vader_lexicon to /root/nltk_data...\n",
            "[nltk_data]   Package vader_lexicon is already up-to-date!\n"
          ],
          "name": "stdout"
        }
      ]
    },
    {
      "cell_type": "code",
      "metadata": {
        "id": "0BYq6xER071O"
      },
      "source": [
        "# data\n",
        "df = pd.read_csv('gamestop_twitter.csv')\n",
        "\n",
        "# check duplicates\n",
        "df = df.drop_duplicates()"
      ],
      "execution_count": 4,
      "outputs": []
    },
    {
      "cell_type": "code",
      "metadata": {
        "id": "pRxLzL_I1Owk"
      },
      "source": [
        "# Df clean up\n",
        "my_stopwords = nltk.corpus.stopwords.words('english') + \\\n",
        "               ['like','would','see','la','de', 'que',\"'s\", \"’s\"]\n",
        "my_punctuation = '!\"$%&\\'()*+,-./:;<=>?[\\\\]^_`{|}~•@’'\n",
        "\n",
        "def clean_up(text):\n",
        "    text = text.lower()\n",
        "    # remove replied msg\n",
        "    if 'rt @' in text:\n",
        "        if len(text.split(\": \")) < 2:\n",
        "            text = text.split(\": \")[0]\n",
        "        else:\n",
        "            text = text.split(\": \")[1]\n",
        "    # remove the unnecessay URLs\n",
        "    if \"https\" in text:\n",
        "        text = text.split(\"https\")[0]\n",
        "    if \"@\" in text:\n",
        "        text = text.split(\" \")\n",
        "        # remove the strings with symbol @\n",
        "        text = [j for j in text if '@' not in j]\n",
        "        text = ' '.join(text)\n",
        "    # remove hashtag symbols\n",
        "    text = text.replace(\"#\", \"\")\n",
        "    text = text.replace(\"'s'\", \"\")\n",
        "    text = text.replace(\"’s'\", \"\")\n",
        "    text = re.sub('['+my_punctuation + ']+', ' ', text)# strip punctuation\n",
        "    text = re.sub('\\s+', ' ', text)#remove double spacing\n",
        "    text = re.sub('([0-9]+)', '', text) # remove numbers\n",
        "    text = emoji.get_emoji_regexp().sub(u'', text) # remove emoji\n",
        "    text = ' '.join([word for word in text.split(' ') if word not in my_stopwords]) # remove stopwords\n",
        "    return text"
      ],
      "execution_count": 5,
      "outputs": []
    },
    {
      "cell_type": "code",
      "metadata": {
        "id": "5E-VXB-V1Qgd"
      },
      "source": [
        "df['clean_tweet'] = df['Text'].map(clean_up)"
      ],
      "execution_count": 6,
      "outputs": []
    },
    {
      "cell_type": "code",
      "metadata": {
        "colab": {
          "base_uri": "https://localhost:8080/",
          "height": 204
        },
        "id": "dP5i24rI1YqC",
        "outputId": "f70800c1-96bd-497d-959a-a5df64ae242b"
      },
      "source": [
        "# Topic modeling\n",
        "\n",
        "vectorizer = CountVectorizer(max_df=0.9, min_df=25, token_pattern='\\w+|\\$[\\d\\.]+|\\S+')\n",
        "\n",
        "tf = vectorizer.fit_transform(df['clean_tweet']).toarray()\n",
        "\n",
        "tf_feature_names = vectorizer.get_feature_names()\n",
        "\n",
        "number_of_topics = 5\n",
        "\n",
        "model = LatentDirichletAllocation(n_components=number_of_topics, random_state=101)\n",
        "\n",
        "model.fit(tf)\n",
        "\n",
        "def display_topics(model, feature_names, no_top_words):\n",
        "    topic_dict = {}\n",
        "    for topic_idx, topic in enumerate(model.components_):\n",
        "        topic_dict[\"Topic %d words\" % (topic_idx)]= ['{}'.format(feature_names[i])\n",
        "                        for i in topic.argsort()[:-no_top_words - 1:-1]]\n",
        "    return pd.DataFrame(topic_dict)\n",
        "\n",
        "no_top_words = 5\n",
        "topcis = display_topics(model, tf_feature_names, no_top_words)\n",
        "topcis"
      ],
      "execution_count": 12,
      "outputs": [
        {
          "output_type": "execute_result",
          "data": {
            "text/html": [
              "<div>\n",
              "<style scoped>\n",
              "    .dataframe tbody tr th:only-of-type {\n",
              "        vertical-align: middle;\n",
              "    }\n",
              "\n",
              "    .dataframe tbody tr th {\n",
              "        vertical-align: top;\n",
              "    }\n",
              "\n",
              "    .dataframe thead th {\n",
              "        text-align: right;\n",
              "    }\n",
              "</style>\n",
              "<table border=\"1\" class=\"dataframe\">\n",
              "  <thead>\n",
              "    <tr style=\"text-align: right;\">\n",
              "      <th></th>\n",
              "      <th>Topic 0 words</th>\n",
              "      <th>Topic 1 words</th>\n",
              "      <th>Topic 2 words</th>\n",
              "      <th>Topic 3 words</th>\n",
              "      <th>Topic 4 words</th>\n",
              "    </tr>\n",
              "  </thead>\n",
              "  <tbody>\n",
              "    <tr>\n",
              "      <th>0</th>\n",
              "      <td>gme</td>\n",
              "      <td>ps</td>\n",
              "      <td>stock</td>\n",
              "      <td>en</td>\n",
              "      <td>hedge</td>\n",
              "    </tr>\n",
              "    <tr>\n",
              "      <th>1</th>\n",
              "      <td>amc</td>\n",
              "      <td>gt</td>\n",
              "      <td>gme</td>\n",
              "      <td>el</td>\n",
              "      <td>die</td>\n",
              "    </tr>\n",
              "    <tr>\n",
              "      <th>2</th>\n",
              "      <td>wallstreetbets</td>\n",
              "      <td>gme</td>\n",
              "      <td>market</td>\n",
              "      <td>reddit</td>\n",
              "      <td>people</td>\n",
              "    </tr>\n",
              "    <tr>\n",
              "      <th>3</th>\n",
              "      <td>gamestonk</td>\n",
              "      <td>link</td>\n",
              "      <td>reddit</td>\n",
              "      <td>street</td>\n",
              "      <td>und</td>\n",
              "    </tr>\n",
              "    <tr>\n",
              "      <th>4</th>\n",
              "      <td>robinhood</td>\n",
              "      <td>di</td>\n",
              "      <td>robinhood</td>\n",
              "      <td>wall</td>\n",
              "      <td>der</td>\n",
              "    </tr>\n",
              "  </tbody>\n",
              "</table>\n",
              "</div>"
            ],
            "text/plain": [
              "    Topic 0 words Topic 1 words Topic 2 words Topic 3 words Topic 4 words\n",
              "0             gme            ps         stock            en         hedge\n",
              "1             amc            gt           gme            el           die\n",
              "2  wallstreetbets           gme        market        reddit        people\n",
              "3       gamestonk          link        reddit        street           und\n",
              "4       robinhood            di     robinhood          wall           der"
            ]
          },
          "metadata": {
            "tags": []
          },
          "execution_count": 12
        }
      ]
    },
    {
      "cell_type": "code",
      "metadata": {
        "id": "T04kHFFU1hkE"
      },
      "source": [
        "# download the file for better visualization\n",
        "topcis.to_csv('topics_result.csv',index=False)"
      ],
      "execution_count": 13,
      "outputs": []
    },
    {
      "cell_type": "code",
      "metadata": {
        "colab": {
          "base_uri": "https://localhost:8080/",
          "height": 708
        },
        "id": "nzYh4UJ14otL",
        "outputId": "e26b0e13-75d6-40c2-ea51-7c4fc3be9750"
      },
      "source": [
        "# Topic modeling for each date\n",
        "\n",
        "\n",
        "\n",
        "df['Datetime'] = pd.to_datetime(df['Datetime'])\n",
        "df.info()\n",
        "df['Date'] = df['Datetime'].dt.date \n",
        "\n",
        "dates = df.Date.unique()\n",
        "topics_dates = pd.DataFrame()\n",
        "\n",
        "def display_topics(model, feature_names, no_top_words):\n",
        "    topic_dict = {}\n",
        "    for topic_idx, topic in enumerate(model.components_):\n",
        "        topic_dict[\"Topic %d words\" % (topic_idx)]= ['{}'.format(feature_names[i])\n",
        "                        for i in topic.argsort()[:-no_top_words - 1:-1]]\n",
        "    return pd.DataFrame(topic_dict)\n",
        "\n",
        "for i in dates:\n",
        "    vectorizer = CountVectorizer(max_df=0.9, min_df=25, token_pattern='\\w+|\\$[\\d\\.]+|\\S+')\n",
        "\n",
        "    tf = vectorizer.fit_transform(df[df['Date']==i]['clean_tweet']).toarray()\n",
        "    \n",
        "    tf_feature_names = vectorizer.get_feature_names()\n",
        "    \n",
        "    number_of_topics2 = 1\n",
        "    no_top_words2 = 1\n",
        "    \n",
        "    model2 = LatentDirichletAllocation(n_components=number_of_topics2, random_state=101)\n",
        "    \n",
        "    model2.fit(tf)\n",
        "    \n",
        "    \n",
        "    topics2 = display_topics(model2, tf_feature_names, no_top_words2)\n",
        "    topics2['Date']=i\n",
        "    \n",
        "    topics_dates = topics_dates.append(topics2)\n",
        "    \n",
        "topics_dates"
      ],
      "execution_count": 8,
      "outputs": [
        {
          "output_type": "stream",
          "text": [
            "<class 'pandas.core.frame.DataFrame'>\n",
            "Int64Index: 118423 entries, 0 to 118422\n",
            "Data columns (total 10 columns):\n",
            " #   Column          Non-Null Count   Dtype              \n",
            "---  ------          --------------   -----              \n",
            " 0   Unnamed: 0      118423 non-null  int64              \n",
            " 1   Datetime        118423 non-null  datetime64[ns, UTC]\n",
            " 2   Tweet Id        118423 non-null  int64              \n",
            " 3   Text            118423 non-null  object             \n",
            " 4   Username        118423 non-null  object             \n",
            " 5   user_mention    32816 non-null   object             \n",
            " 6   followersCount  118423 non-null  int64              \n",
            " 7   listedCount     118423 non-null  int64              \n",
            " 8   clean_tweet     118423 non-null  object             \n",
            " 9   Date            118423 non-null  object             \n",
            "dtypes: datetime64[ns, UTC](1), int64(4), object(5)\n",
            "memory usage: 9.9+ MB\n"
          ],
          "name": "stdout"
        },
        {
          "output_type": "execute_result",
          "data": {
            "text/html": [
              "<div>\n",
              "<style scoped>\n",
              "    .dataframe tbody tr th:only-of-type {\n",
              "        vertical-align: middle;\n",
              "    }\n",
              "\n",
              "    .dataframe tbody tr th {\n",
              "        vertical-align: top;\n",
              "    }\n",
              "\n",
              "    .dataframe thead th {\n",
              "        text-align: right;\n",
              "    }\n",
              "</style>\n",
              "<table border=\"1\" class=\"dataframe\">\n",
              "  <thead>\n",
              "    <tr style=\"text-align: right;\">\n",
              "      <th></th>\n",
              "      <th>Topic 0 words</th>\n",
              "      <th>Date</th>\n",
              "    </tr>\n",
              "  </thead>\n",
              "  <tbody>\n",
              "    <tr>\n",
              "      <th>0</th>\n",
              "      <td>gamestop</td>\n",
              "      <td>2021-02-26</td>\n",
              "    </tr>\n",
              "    <tr>\n",
              "      <th>0</th>\n",
              "      <td>gme</td>\n",
              "      <td>2021-02-25</td>\n",
              "    </tr>\n",
              "    <tr>\n",
              "      <th>0</th>\n",
              "      <td>gme</td>\n",
              "      <td>2021-02-24</td>\n",
              "    </tr>\n",
              "    <tr>\n",
              "      <th>0</th>\n",
              "      <td>gamestop</td>\n",
              "      <td>2021-02-23</td>\n",
              "    </tr>\n",
              "    <tr>\n",
              "      <th>0</th>\n",
              "      <td>gamestop</td>\n",
              "      <td>2021-02-22</td>\n",
              "    </tr>\n",
              "    <tr>\n",
              "      <th>...</th>\n",
              "      <td>...</td>\n",
              "      <td>...</td>\n",
              "    </tr>\n",
              "    <tr>\n",
              "      <th>0</th>\n",
              "      <td>shop</td>\n",
              "      <td>2020-12-31</td>\n",
              "    </tr>\n",
              "    <tr>\n",
              "      <th>0</th>\n",
              "      <td>shop</td>\n",
              "      <td>2020-12-30</td>\n",
              "    </tr>\n",
              "    <tr>\n",
              "      <th>0</th>\n",
              "      <td>shop</td>\n",
              "      <td>2020-12-29</td>\n",
              "    </tr>\n",
              "    <tr>\n",
              "      <th>0</th>\n",
              "      <td>shop</td>\n",
              "      <td>2020-12-28</td>\n",
              "    </tr>\n",
              "    <tr>\n",
              "      <th>0</th>\n",
              "      <td>shop</td>\n",
              "      <td>2020-12-27</td>\n",
              "    </tr>\n",
              "  </tbody>\n",
              "</table>\n",
              "<p>62 rows × 2 columns</p>\n",
              "</div>"
            ],
            "text/plain": [
              "   Topic 0 words        Date\n",
              "0       gamestop  2021-02-26\n",
              "0            gme  2021-02-25\n",
              "0            gme  2021-02-24\n",
              "0       gamestop  2021-02-23\n",
              "0       gamestop  2021-02-22\n",
              "..           ...         ...\n",
              "0           shop  2020-12-31\n",
              "0           shop  2020-12-30\n",
              "0           shop  2020-12-29\n",
              "0           shop  2020-12-28\n",
              "0           shop  2020-12-27\n",
              "\n",
              "[62 rows x 2 columns]"
            ]
          },
          "metadata": {
            "tags": []
          },
          "execution_count": 8
        }
      ]
    },
    {
      "cell_type": "code",
      "metadata": {
        "id": "I3aoLDIduohm"
      },
      "source": [
        "topics_dates.to_csv(\"Topic_dates.csv\",index=False)"
      ],
      "execution_count": 93,
      "outputs": []
    },
    {
      "cell_type": "code",
      "metadata": {
        "colab": {
          "base_uri": "https://localhost:8080/",
          "height": 419
        },
        "id": "GxKZBc_nypJJ",
        "outputId": "00af99a7-04b4-4b72-b0d8-38685e209605"
      },
      "source": [
        "# I save the data to avoid keeping the kernel stay connected.\n",
        "topics_dates = pd.read_csv(\"Topic_dates.csv\")\n",
        "\n",
        "topics_dates = topics_dates.sort_values('Date')\n",
        "topics_dates"
      ],
      "execution_count": 16,
      "outputs": [
        {
          "output_type": "execute_result",
          "data": {
            "text/html": [
              "<div>\n",
              "<style scoped>\n",
              "    .dataframe tbody tr th:only-of-type {\n",
              "        vertical-align: middle;\n",
              "    }\n",
              "\n",
              "    .dataframe tbody tr th {\n",
              "        vertical-align: top;\n",
              "    }\n",
              "\n",
              "    .dataframe thead th {\n",
              "        text-align: right;\n",
              "    }\n",
              "</style>\n",
              "<table border=\"1\" class=\"dataframe\">\n",
              "  <thead>\n",
              "    <tr style=\"text-align: right;\">\n",
              "      <th></th>\n",
              "      <th>Topic 0 words</th>\n",
              "      <th>Date</th>\n",
              "    </tr>\n",
              "  </thead>\n",
              "  <tbody>\n",
              "    <tr>\n",
              "      <th>0</th>\n",
              "      <td>shop</td>\n",
              "      <td>2020-12-27</td>\n",
              "    </tr>\n",
              "    <tr>\n",
              "      <th>1</th>\n",
              "      <td>shop</td>\n",
              "      <td>2020-12-28</td>\n",
              "    </tr>\n",
              "    <tr>\n",
              "      <th>2</th>\n",
              "      <td>shop</td>\n",
              "      <td>2020-12-29</td>\n",
              "    </tr>\n",
              "    <tr>\n",
              "      <th>3</th>\n",
              "      <td>shop</td>\n",
              "      <td>2020-12-30</td>\n",
              "    </tr>\n",
              "    <tr>\n",
              "      <th>4</th>\n",
              "      <td>shop</td>\n",
              "      <td>2020-12-31</td>\n",
              "    </tr>\n",
              "    <tr>\n",
              "      <th>...</th>\n",
              "      <td>...</td>\n",
              "      <td>...</td>\n",
              "    </tr>\n",
              "    <tr>\n",
              "      <th>57</th>\n",
              "      <td>gamestop</td>\n",
              "      <td>2021-02-22</td>\n",
              "    </tr>\n",
              "    <tr>\n",
              "      <th>58</th>\n",
              "      <td>gamestop</td>\n",
              "      <td>2021-02-23</td>\n",
              "    </tr>\n",
              "    <tr>\n",
              "      <th>59</th>\n",
              "      <td>gme</td>\n",
              "      <td>2021-02-24</td>\n",
              "    </tr>\n",
              "    <tr>\n",
              "      <th>60</th>\n",
              "      <td>gme</td>\n",
              "      <td>2021-02-25</td>\n",
              "    </tr>\n",
              "    <tr>\n",
              "      <th>61</th>\n",
              "      <td>gamestop</td>\n",
              "      <td>2021-02-26</td>\n",
              "    </tr>\n",
              "  </tbody>\n",
              "</table>\n",
              "<p>62 rows × 2 columns</p>\n",
              "</div>"
            ],
            "text/plain": [
              "   Topic 0 words        Date\n",
              "0           shop  2020-12-27\n",
              "1           shop  2020-12-28\n",
              "2           shop  2020-12-29\n",
              "3           shop  2020-12-30\n",
              "4           shop  2020-12-31\n",
              "..           ...         ...\n",
              "57      gamestop  2021-02-22\n",
              "58      gamestop  2021-02-23\n",
              "59           gme  2021-02-24\n",
              "60           gme  2021-02-25\n",
              "61      gamestop  2021-02-26\n",
              "\n",
              "[62 rows x 2 columns]"
            ]
          },
          "metadata": {
            "tags": []
          },
          "execution_count": 16
        }
      ]
    },
    {
      "cell_type": "code",
      "metadata": {
        "colab": {
          "base_uri": "https://localhost:8080/",
          "height": 235
        },
        "id": "c2rikhkFn46z",
        "outputId": "24ad1903-0c12-45b2-ef01-5a98cc16d1ad"
      },
      "source": [
        "topics_dates.groupby(['Topic 0 words']).count()"
      ],
      "execution_count": 96,
      "outputs": [
        {
          "output_type": "execute_result",
          "data": {
            "text/html": [
              "<div>\n",
              "<style scoped>\n",
              "    .dataframe tbody tr th:only-of-type {\n",
              "        vertical-align: middle;\n",
              "    }\n",
              "\n",
              "    .dataframe tbody tr th {\n",
              "        vertical-align: top;\n",
              "    }\n",
              "\n",
              "    .dataframe thead th {\n",
              "        text-align: right;\n",
              "    }\n",
              "</style>\n",
              "<table border=\"1\" class=\"dataframe\">\n",
              "  <thead>\n",
              "    <tr style=\"text-align: right;\">\n",
              "      <th></th>\n",
              "      <th>Date</th>\n",
              "    </tr>\n",
              "    <tr>\n",
              "      <th>Topic 0 words</th>\n",
              "      <th></th>\n",
              "    </tr>\n",
              "  </thead>\n",
              "  <tbody>\n",
              "    <tr>\n",
              "      <th>gamestop</th>\n",
              "      <td>35</td>\n",
              "    </tr>\n",
              "    <tr>\n",
              "      <th>gme</th>\n",
              "      <td>14</td>\n",
              "    </tr>\n",
              "    <tr>\n",
              "      <th>gt</th>\n",
              "      <td>3</td>\n",
              "    </tr>\n",
              "    <tr>\n",
              "      <th>ps</th>\n",
              "      <td>1</td>\n",
              "    </tr>\n",
              "    <tr>\n",
              "      <th>shop</th>\n",
              "      <td>9</td>\n",
              "    </tr>\n",
              "  </tbody>\n",
              "</table>\n",
              "</div>"
            ],
            "text/plain": [
              "               Date\n",
              "Topic 0 words      \n",
              "gamestop         35\n",
              "gme              14\n",
              "gt                3\n",
              "ps                1\n",
              "shop              9"
            ]
          },
          "metadata": {
            "tags": []
          },
          "execution_count": 96
        }
      ]
    },
    {
      "cell_type": "code",
      "metadata": {
        "id": "ZSvR0p09zfuN"
      },
      "source": [
        "# before 01/27\n",
        "topics_dates1 = topics_dates[topics_dates['Date']<'2021-01-27']\n",
        "topics_dates1_topics = topics_dates1.groupby(['Topic 0 words']).count() \n",
        "# after 01/27\n",
        "topics_dates2 = topics_dates[topics_dates['Date']>='2021-01-27']\n",
        "topics_dates2_topics = topics_dates2.groupby(['Topic 0 words']).count() "
      ],
      "execution_count": 19,
      "outputs": []
    },
    {
      "cell_type": "code",
      "metadata": {
        "colab": {
          "base_uri": "https://localhost:8080/",
          "height": 235
        },
        "id": "RKmvKvED0p93",
        "outputId": "300a0a81-a7a0-4c38-84b9-239114e6e15c"
      },
      "source": [
        "topics_dates1_topics"
      ],
      "execution_count": 20,
      "outputs": [
        {
          "output_type": "execute_result",
          "data": {
            "text/html": [
              "<div>\n",
              "<style scoped>\n",
              "    .dataframe tbody tr th:only-of-type {\n",
              "        vertical-align: middle;\n",
              "    }\n",
              "\n",
              "    .dataframe tbody tr th {\n",
              "        vertical-align: top;\n",
              "    }\n",
              "\n",
              "    .dataframe thead th {\n",
              "        text-align: right;\n",
              "    }\n",
              "</style>\n",
              "<table border=\"1\" class=\"dataframe\">\n",
              "  <thead>\n",
              "    <tr style=\"text-align: right;\">\n",
              "      <th></th>\n",
              "      <th>Date</th>\n",
              "    </tr>\n",
              "    <tr>\n",
              "      <th>Topic 0 words</th>\n",
              "      <th></th>\n",
              "    </tr>\n",
              "  </thead>\n",
              "  <tbody>\n",
              "    <tr>\n",
              "      <th>gamestop</th>\n",
              "      <td>15</td>\n",
              "    </tr>\n",
              "    <tr>\n",
              "      <th>gme</th>\n",
              "      <td>3</td>\n",
              "    </tr>\n",
              "    <tr>\n",
              "      <th>gt</th>\n",
              "      <td>3</td>\n",
              "    </tr>\n",
              "    <tr>\n",
              "      <th>ps</th>\n",
              "      <td>1</td>\n",
              "    </tr>\n",
              "    <tr>\n",
              "      <th>shop</th>\n",
              "      <td>9</td>\n",
              "    </tr>\n",
              "  </tbody>\n",
              "</table>\n",
              "</div>"
            ],
            "text/plain": [
              "               Date\n",
              "Topic 0 words      \n",
              "gamestop         15\n",
              "gme               3\n",
              "gt                3\n",
              "ps                1\n",
              "shop              9"
            ]
          },
          "metadata": {
            "tags": []
          },
          "execution_count": 20
        }
      ]
    },
    {
      "cell_type": "code",
      "metadata": {
        "colab": {
          "base_uri": "https://localhost:8080/",
          "height": 142
        },
        "id": "IeqYJQao0rkx",
        "outputId": "5e480eee-8f08-4263-9466-1996c4042399"
      },
      "source": [
        "topics_dates2_topics"
      ],
      "execution_count": 21,
      "outputs": [
        {
          "output_type": "execute_result",
          "data": {
            "text/html": [
              "<div>\n",
              "<style scoped>\n",
              "    .dataframe tbody tr th:only-of-type {\n",
              "        vertical-align: middle;\n",
              "    }\n",
              "\n",
              "    .dataframe tbody tr th {\n",
              "        vertical-align: top;\n",
              "    }\n",
              "\n",
              "    .dataframe thead th {\n",
              "        text-align: right;\n",
              "    }\n",
              "</style>\n",
              "<table border=\"1\" class=\"dataframe\">\n",
              "  <thead>\n",
              "    <tr style=\"text-align: right;\">\n",
              "      <th></th>\n",
              "      <th>Date</th>\n",
              "    </tr>\n",
              "    <tr>\n",
              "      <th>Topic 0 words</th>\n",
              "      <th></th>\n",
              "    </tr>\n",
              "  </thead>\n",
              "  <tbody>\n",
              "    <tr>\n",
              "      <th>gamestop</th>\n",
              "      <td>20</td>\n",
              "    </tr>\n",
              "    <tr>\n",
              "      <th>gme</th>\n",
              "      <td>11</td>\n",
              "    </tr>\n",
              "  </tbody>\n",
              "</table>\n",
              "</div>"
            ],
            "text/plain": [
              "               Date\n",
              "Topic 0 words      \n",
              "gamestop         20\n",
              "gme              11"
            ]
          },
          "metadata": {
            "tags": []
          },
          "execution_count": 21
        }
      ]
    },
    {
      "cell_type": "markdown",
      "metadata": {
        "id": "-ONBzXGD1FOj"
      },
      "source": [
        "# sentiment analysis by VADER\n"
      ]
    },
    {
      "cell_type": "code",
      "metadata": {
        "colab": {
          "base_uri": "https://localhost:8080/",
          "height": 295
        },
        "id": "swSXVqzE26dC",
        "outputId": "8f92939b-9dce-4711-d3c4-83bc786df819"
      },
      "source": [
        "analyzer = SentimentIntensityAnalyzer()\n",
        "\n",
        "VADER_score = []\n",
        "for i in df['clean_tweet']:\n",
        "    va = analyzer.polarity_scores(i)['compound']\n",
        "    VADER_score += [va]\n",
        "\n",
        "df['sentiment_score'] = VADER_score\n",
        "\n",
        "# sentiment analysis for each date\n",
        "\n",
        "sa_date = df.groupby('Date')['sentiment_score'].mean()\n",
        "sa_date.plot(figsize=(15, 4), title=\"Average Sentiment Score of Tweets Regarding to WallStreetBets between 2020-12-27 and 2021-02-26\")\n",
        "sa_date = sa_date.to_frame().reset_index()"
      ],
      "execution_count": 9,
      "outputs": [
        {
          "output_type": "display_data",
          "data": {
            "image/png": "[encoded data removed]",
            "text/plain": [
              "<Figure size 1080x288 with 1 Axes>"
            ]
          },
          "metadata": {
            "tags": [],
            "needs_background": "light"
          }
        }
      ]
    },
    {
      "cell_type": "code",
      "metadata": {
        "id": "4fmgMkcT4sPC"
      },
      "source": [
        "# download the file for better visualization\n",
        "sa_date.to_csv('Sentiment_analysis.csv',index=False)"
      ],
      "execution_count": 16,
      "outputs": []
    },
    {
      "cell_type": "code",
      "metadata": {
        "colab": {
          "base_uri": "https://localhost:8080/",
          "height": 432
        },
        "id": "SESd1fOf4cHn",
        "outputId": "bd92de63-6ec7-4a46-da43-78abbd8280a6"
      },
      "source": [
        "# stock data\n",
        "from pandas_datareader import data\n",
        "tickers = ['GME']\n",
        "\n",
        "# We would like all available data from 01/01/2000 until 12/31/2016.\n",
        "start_date = '2020-12-27'\n",
        "end_date = '2021-02-28'\n",
        "\n",
        "# User pandas_reader.data.DataReader to load the desired data. As simple as that.\n",
        "panel_data = data.DataReader('GME', 'yahoo', start_date, end_date).reset_index()\n",
        "\n",
        "\n",
        "GME_stock = panel_data[['Date','Close']]\n",
        "GME_stock['Date'] = GME_stock['Date'].dt.date\n",
        "GME_stock.plot(x='Date',figsize=(15, 4))"
      ],
      "execution_count": 29,
      "outputs": [
        {
          "output_type": "stream",
          "text": [
            "/usr/local/lib/python3.7/dist-packages/ipykernel_launcher.py:14: SettingWithCopyWarning:\n",
            "\n",
            "\n",
            "A value is trying to be set on a copy of a slice from a DataFrame.\n",
            "Try using .loc[row_indexer,col_indexer] = value instead\n",
            "\n",
            "See the caveats in the documentation: https://pandas.pydata.org/pandas-docs/stable/user_guide/indexing.html#returning-a-view-versus-a-copy\n",
            "\n"
          ],
          "name": "stderr"
        },
        {
          "output_type": "execute_result",
          "data": {
            "text/plain": [
              "<matplotlib.axes._subplots.AxesSubplot at 0x7f5acb464c90>"
            ]
          },
          "metadata": {
            "tags": []
          },
          "execution_count": 29
        },
        {
          "output_type": "display_data",
          "data": {
            "image/png": "[encoded data removed]",
            "text/plain": [
              "<Figure size 1080x288 with 1 Axes>"
            ]
          },
          "metadata": {
            "tags": [],
            "needs_background": "light"
          }
        }
      ]
    },
    {
      "cell_type": "code",
      "metadata": {
        "colab": {
          "base_uri": "https://localhost:8080/"
        },
        "id": "k4KT7z__NRle",
        "outputId": "a6f2aca1-cb76-4e64-b3d0-427740c10663"
      },
      "source": [
        "print(GME_stock[['Date']])\n",
        "# The GME stock data is not full because of we dont have stock info in the weekend"
      ],
      "execution_count": 28,
      "outputs": [
        {
          "output_type": "stream",
          "text": [
            "          Date\n",
            "0   2020-12-28\n",
            "1   2020-12-29\n",
            "2   2020-12-30\n",
            "3   2020-12-31\n",
            "4   2021-01-04\n",
            "5   2021-01-05\n",
            "6   2021-01-06\n",
            "7   2021-01-07\n",
            "8   2021-01-08\n",
            "9   2021-01-11\n",
            "10  2021-01-12\n",
            "11  2021-01-13\n",
            "12  2021-01-14\n",
            "13  2021-01-15\n",
            "14  2021-01-19\n",
            "15  2021-01-20\n",
            "16  2021-01-21\n",
            "17  2021-01-22\n",
            "18  2021-01-25\n",
            "19  2021-01-26\n",
            "20  2021-01-27\n",
            "21  2021-01-28\n",
            "22  2021-01-29\n",
            "23  2021-02-01\n",
            "24  2021-02-02\n",
            "25  2021-02-03\n",
            "26  2021-02-04\n",
            "27  2021-02-05\n",
            "28  2021-02-08\n",
            "29  2021-02-09\n",
            "30  2021-02-10\n",
            "31  2021-02-11\n",
            "32  2021-02-12\n",
            "33  2021-02-16\n",
            "34  2021-02-17\n",
            "35  2021-02-18\n",
            "36  2021-02-19\n",
            "37  2021-02-22\n",
            "38  2021-02-23\n",
            "39  2021-02-24\n",
            "40  2021-02-25\n",
            "41  2021-02-26\n"
          ],
          "name": "stdout"
        }
      ]
    },
    {
      "cell_type": "code",
      "metadata": {
        "colab": {
          "base_uri": "https://localhost:8080/",
          "height": 1000
        },
        "id": "hjrq7yrDNTMw",
        "outputId": "827a0dcd-cc15-4eec-9be3-729b78683092"
      },
      "source": [
        "stock_sa = pd.merge(GME_stock, sa_date, on='Date')\n",
        "stock_sa"
      ],
      "execution_count": 43,
      "outputs": [
        {
          "output_type": "execute_result",
          "data": {
            "text/html": [
              "<div>\n",
              "<style scoped>\n",
              "    .dataframe tbody tr th:only-of-type {\n",
              "        vertical-align: middle;\n",
              "    }\n",
              "\n",
              "    .dataframe tbody tr th {\n",
              "        vertical-align: top;\n",
              "    }\n",
              "\n",
              "    .dataframe thead th {\n",
              "        text-align: right;\n",
              "    }\n",
              "</style>\n",
              "<table border=\"1\" class=\"dataframe\">\n",
              "  <thead>\n",
              "    <tr style=\"text-align: right;\">\n",
              "      <th></th>\n",
              "      <th>Date</th>\n",
              "      <th>Close</th>\n",
              "      <th>sentiment_score</th>\n",
              "    </tr>\n",
              "  </thead>\n",
              "  <tbody>\n",
              "    <tr>\n",
              "      <th>0</th>\n",
              "      <td>2020-12-28</td>\n",
              "      <td>20.990000</td>\n",
              "      <td>0.289656</td>\n",
              "    </tr>\n",
              "    <tr>\n",
              "      <th>1</th>\n",
              "      <td>2020-12-29</td>\n",
              "      <td>19.379999</td>\n",
              "      <td>0.255024</td>\n",
              "    </tr>\n",
              "    <tr>\n",
              "      <th>2</th>\n",
              "      <td>2020-12-30</td>\n",
              "      <td>19.260000</td>\n",
              "      <td>0.517703</td>\n",
              "    </tr>\n",
              "    <tr>\n",
              "      <th>3</th>\n",
              "      <td>2020-12-31</td>\n",
              "      <td>18.840000</td>\n",
              "      <td>0.344452</td>\n",
              "    </tr>\n",
              "    <tr>\n",
              "      <th>4</th>\n",
              "      <td>2021-01-04</td>\n",
              "      <td>17.250000</td>\n",
              "      <td>0.290939</td>\n",
              "    </tr>\n",
              "    <tr>\n",
              "      <th>5</th>\n",
              "      <td>2021-01-05</td>\n",
              "      <td>17.370001</td>\n",
              "      <td>0.399937</td>\n",
              "    </tr>\n",
              "    <tr>\n",
              "      <th>6</th>\n",
              "      <td>2021-01-06</td>\n",
              "      <td>18.360001</td>\n",
              "      <td>0.366290</td>\n",
              "    </tr>\n",
              "    <tr>\n",
              "      <th>7</th>\n",
              "      <td>2021-01-07</td>\n",
              "      <td>18.080000</td>\n",
              "      <td>0.176947</td>\n",
              "    </tr>\n",
              "    <tr>\n",
              "      <th>8</th>\n",
              "      <td>2021-01-08</td>\n",
              "      <td>17.690001</td>\n",
              "      <td>0.232342</td>\n",
              "    </tr>\n",
              "    <tr>\n",
              "      <th>9</th>\n",
              "      <td>2021-01-11</td>\n",
              "      <td>19.940001</td>\n",
              "      <td>0.106474</td>\n",
              "    </tr>\n",
              "    <tr>\n",
              "      <th>10</th>\n",
              "      <td>2021-01-12</td>\n",
              "      <td>19.950001</td>\n",
              "      <td>0.233425</td>\n",
              "    </tr>\n",
              "    <tr>\n",
              "      <th>11</th>\n",
              "      <td>2021-01-13</td>\n",
              "      <td>31.400000</td>\n",
              "      <td>0.157749</td>\n",
              "    </tr>\n",
              "    <tr>\n",
              "      <th>12</th>\n",
              "      <td>2021-01-14</td>\n",
              "      <td>39.910000</td>\n",
              "      <td>0.170869</td>\n",
              "    </tr>\n",
              "    <tr>\n",
              "      <th>13</th>\n",
              "      <td>2021-01-15</td>\n",
              "      <td>35.500000</td>\n",
              "      <td>0.163879</td>\n",
              "    </tr>\n",
              "    <tr>\n",
              "      <th>14</th>\n",
              "      <td>2021-01-19</td>\n",
              "      <td>39.360001</td>\n",
              "      <td>0.210595</td>\n",
              "    </tr>\n",
              "    <tr>\n",
              "      <th>15</th>\n",
              "      <td>2021-01-20</td>\n",
              "      <td>39.119999</td>\n",
              "      <td>0.181149</td>\n",
              "    </tr>\n",
              "    <tr>\n",
              "      <th>16</th>\n",
              "      <td>2021-01-21</td>\n",
              "      <td>43.029999</td>\n",
              "      <td>0.110099</td>\n",
              "    </tr>\n",
              "    <tr>\n",
              "      <th>17</th>\n",
              "      <td>2021-01-22</td>\n",
              "      <td>65.010002</td>\n",
              "      <td>0.118930</td>\n",
              "    </tr>\n",
              "    <tr>\n",
              "      <th>18</th>\n",
              "      <td>2021-01-25</td>\n",
              "      <td>76.790001</td>\n",
              "      <td>0.047144</td>\n",
              "    </tr>\n",
              "    <tr>\n",
              "      <th>19</th>\n",
              "      <td>2021-01-26</td>\n",
              "      <td>147.979996</td>\n",
              "      <td>0.072201</td>\n",
              "    </tr>\n",
              "    <tr>\n",
              "      <th>20</th>\n",
              "      <td>2021-01-27</td>\n",
              "      <td>347.510010</td>\n",
              "      <td>0.034754</td>\n",
              "    </tr>\n",
              "    <tr>\n",
              "      <th>21</th>\n",
              "      <td>2021-01-28</td>\n",
              "      <td>193.600006</td>\n",
              "      <td>0.029287</td>\n",
              "    </tr>\n",
              "    <tr>\n",
              "      <th>22</th>\n",
              "      <td>2021-01-29</td>\n",
              "      <td>325.000000</td>\n",
              "      <td>0.068142</td>\n",
              "    </tr>\n",
              "    <tr>\n",
              "      <th>23</th>\n",
              "      <td>2021-02-01</td>\n",
              "      <td>225.000000</td>\n",
              "      <td>0.050697</td>\n",
              "    </tr>\n",
              "    <tr>\n",
              "      <th>24</th>\n",
              "      <td>2021-02-02</td>\n",
              "      <td>90.000000</td>\n",
              "      <td>0.105177</td>\n",
              "    </tr>\n",
              "    <tr>\n",
              "      <th>25</th>\n",
              "      <td>2021-02-03</td>\n",
              "      <td>92.410004</td>\n",
              "      <td>0.024552</td>\n",
              "    </tr>\n",
              "    <tr>\n",
              "      <th>26</th>\n",
              "      <td>2021-02-04</td>\n",
              "      <td>53.500000</td>\n",
              "      <td>0.060844</td>\n",
              "    </tr>\n",
              "    <tr>\n",
              "      <th>27</th>\n",
              "      <td>2021-02-05</td>\n",
              "      <td>63.770000</td>\n",
              "      <td>0.057998</td>\n",
              "    </tr>\n",
              "    <tr>\n",
              "      <th>28</th>\n",
              "      <td>2021-02-08</td>\n",
              "      <td>60.000000</td>\n",
              "      <td>0.061805</td>\n",
              "    </tr>\n",
              "    <tr>\n",
              "      <th>29</th>\n",
              "      <td>2021-02-09</td>\n",
              "      <td>50.310001</td>\n",
              "      <td>0.062115</td>\n",
              "    </tr>\n",
              "    <tr>\n",
              "      <th>30</th>\n",
              "      <td>2021-02-10</td>\n",
              "      <td>51.200001</td>\n",
              "      <td>0.070716</td>\n",
              "    </tr>\n",
              "    <tr>\n",
              "      <th>31</th>\n",
              "      <td>2021-02-11</td>\n",
              "      <td>51.099998</td>\n",
              "      <td>0.040980</td>\n",
              "    </tr>\n",
              "    <tr>\n",
              "      <th>32</th>\n",
              "      <td>2021-02-12</td>\n",
              "      <td>52.400002</td>\n",
              "      <td>-0.068939</td>\n",
              "    </tr>\n",
              "    <tr>\n",
              "      <th>33</th>\n",
              "      <td>2021-02-16</td>\n",
              "      <td>49.509998</td>\n",
              "      <td>0.058938</td>\n",
              "    </tr>\n",
              "    <tr>\n",
              "      <th>34</th>\n",
              "      <td>2021-02-17</td>\n",
              "      <td>45.939999</td>\n",
              "      <td>0.084697</td>\n",
              "    </tr>\n",
              "    <tr>\n",
              "      <th>35</th>\n",
              "      <td>2021-02-18</td>\n",
              "      <td>40.689999</td>\n",
              "      <td>0.033620</td>\n",
              "    </tr>\n",
              "    <tr>\n",
              "      <th>36</th>\n",
              "      <td>2021-02-19</td>\n",
              "      <td>40.590000</td>\n",
              "      <td>0.078142</td>\n",
              "    </tr>\n",
              "    <tr>\n",
              "      <th>37</th>\n",
              "      <td>2021-02-22</td>\n",
              "      <td>46.000000</td>\n",
              "      <td>0.079774</td>\n",
              "    </tr>\n",
              "    <tr>\n",
              "      <th>38</th>\n",
              "      <td>2021-02-23</td>\n",
              "      <td>44.970001</td>\n",
              "      <td>0.007130</td>\n",
              "    </tr>\n",
              "    <tr>\n",
              "      <th>39</th>\n",
              "      <td>2021-02-24</td>\n",
              "      <td>91.709999</td>\n",
              "      <td>0.032607</td>\n",
              "    </tr>\n",
              "    <tr>\n",
              "      <th>40</th>\n",
              "      <td>2021-02-25</td>\n",
              "      <td>108.730003</td>\n",
              "      <td>-0.058349</td>\n",
              "    </tr>\n",
              "    <tr>\n",
              "      <th>41</th>\n",
              "      <td>2021-02-26</td>\n",
              "      <td>101.739998</td>\n",
              "      <td>0.131318</td>\n",
              "    </tr>\n",
              "  </tbody>\n",
              "</table>\n",
              "</div>"
            ],
            "text/plain": [
              "          Date       Close  sentiment_score\n",
              "0   2020-12-28   20.990000         0.289656\n",
              "1   2020-12-29   19.379999         0.255024\n",
              "2   2020-12-30   19.260000         0.517703\n",
              "3   2020-12-31   18.840000         0.344452\n",
              "4   2021-01-04   17.250000         0.290939\n",
              "5   2021-01-05   17.370001         0.399937\n",
              "6   2021-01-06   18.360001         0.366290\n",
              "7   2021-01-07   18.080000         0.176947\n",
              "8   2021-01-08   17.690001         0.232342\n",
              "9   2021-01-11   19.940001         0.106474\n",
              "10  2021-01-12   19.950001         0.233425\n",
              "11  2021-01-13   31.400000         0.157749\n",
              "12  2021-01-14   39.910000         0.170869\n",
              "13  2021-01-15   35.500000         0.163879\n",
              "14  2021-01-19   39.360001         0.210595\n",
              "15  2021-01-20   39.119999         0.181149\n",
              "16  2021-01-21   43.029999         0.110099\n",
              "17  2021-01-22   65.010002         0.118930\n",
              "18  2021-01-25   76.790001         0.047144\n",
              "19  2021-01-26  147.979996         0.072201\n",
              "20  2021-01-27  347.510010         0.034754\n",
              "21  2021-01-28  193.600006         0.029287\n",
              "22  2021-01-29  325.000000         0.068142\n",
              "23  2021-02-01  225.000000         0.050697\n",
              "24  2021-02-02   90.000000         0.105177\n",
              "25  2021-02-03   92.410004         0.024552\n",
              "26  2021-02-04   53.500000         0.060844\n",
              "27  2021-02-05   63.770000         0.057998\n",
              "28  2021-02-08   60.000000         0.061805\n",
              "29  2021-02-09   50.310001         0.062115\n",
              "30  2021-02-10   51.200001         0.070716\n",
              "31  2021-02-11   51.099998         0.040980\n",
              "32  2021-02-12   52.400002        -0.068939\n",
              "33  2021-02-16   49.509998         0.058938\n",
              "34  2021-02-17   45.939999         0.084697\n",
              "35  2021-02-18   40.689999         0.033620\n",
              "36  2021-02-19   40.590000         0.078142\n",
              "37  2021-02-22   46.000000         0.079774\n",
              "38  2021-02-23   44.970001         0.007130\n",
              "39  2021-02-24   91.709999         0.032607\n",
              "40  2021-02-25  108.730003        -0.058349\n",
              "41  2021-02-26  101.739998         0.131318"
            ]
          },
          "metadata": {
            "tags": []
          },
          "execution_count": 43
        }
      ]
    },
    {
      "cell_type": "code",
      "metadata": {
        "id": "OWg8X4lruVoe"
      },
      "source": [
        "stock_sa.to_csv(\"stock_sa.csv\", index=False)"
      ],
      "execution_count": 66,
      "outputs": []
    },
    {
      "cell_type": "code",
      "metadata": {
        "colab": {
          "base_uri": "https://localhost:8080/",
          "height": 283
        },
        "id": "P0YFpyPnVxkj",
        "outputId": "16e9ac3d-102b-43b1-8b32-39321a9fabcf"
      },
      "source": [
        "fig,ax = plt.subplots(figsize=(15, 4))\n",
        "# make a plot\n",
        "ax.plot(stock_sa.Date, stock_sa.sentiment_score, color=\"orange\")\n",
        "# set x-axis label\n",
        "ax.set_xlabel(\"Date\",fontsize=14)\n",
        "# set y-axis label\n",
        "ax.set_ylabel(\"avg sentiment score\",color=\"orange\",fontsize=14)\n",
        "\n",
        "\n",
        "ax2=ax.twinx()\n",
        "ax2.plot(stock_sa.Date, stock_sa.Close,color=\"blue\")\n",
        "ax2.set_ylabel(\"Stock price\",color=\"blue\",fontsize=14)\n",
        "plt.show()\n",
        "# save the plot as a file\n",
        "#fig.savefig('two_different_y_axis_for_single_python_plot_with_twinx.jpg',\n",
        " #           format='jpeg',\n",
        " #           dpi=100,\n",
        " #           bbox_inches='tight')\n"
      ],
      "execution_count": 64,
      "outputs": [
        {
          "output_type": "display_data",
          "data": {
            "image/png": "[encoded data removed]",
            "text/plain": [
              "<Figure size 1080x288 with 2 Axes>"
            ]
          },
          "metadata": {
            "tags": [],
            "needs_background": "light"
          }
        }
      ]
    },
    {
      "cell_type": "code",
      "metadata": {
        "id": "Y5ERQ52OH5E-"
      },
      "source": [
        ""
      ],
      "execution_count": null,
      "outputs": []
    }
  ]
}