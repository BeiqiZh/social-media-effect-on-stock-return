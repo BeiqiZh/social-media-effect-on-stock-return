{
 "cells": [
  {
   "cell_type": "markdown",
   "metadata": {},
   "source": [
    "# Data Exploration & Preprocessing"
   ]
  },
  {
   "cell_type": "code",
   "execution_count": null,
   "metadata": {},
   "outputs": [],
   "source": [
    "import pandas as pd\n",
    "import numpy as np\n",
    "import seaborn as sns\n",
    "import matplotlib.pyplot as plt\n",
    "df = pd.read_csv(\"C:/Users/becky/OneDrive/Desktop/gamestop_twitter.csv\")\n",
    "df1 = pd.read_csv(\"C:/Users/becky/OneDrive/Desktop/gamestop_for_network.csv\")"
   ]
  },
  {
   "cell_type": "code",
   "execution_count": 2,
   "metadata": {},
   "outputs": [
    {
     "data": {
      "text/html": [
       "<div>\n",
       "<style scoped>\n",
       "    .dataframe tbody tr th:only-of-type {\n",
       "        vertical-align: middle;\n",
       "    }\n",
       "\n",
       "    .dataframe tbody tr th {\n",
       "        vertical-align: top;\n",
       "    }\n",
       "\n",
       "    .dataframe thead th {\n",
       "        text-align: right;\n",
       "    }\n",
       "</style>\n",
       "<table border=\"1\" class=\"dataframe\">\n",
       "  <thead>\n",
       "    <tr style=\"text-align: right;\">\n",
       "      <th></th>\n",
       "      <th>Datetime</th>\n",
       "      <th>Tweet Id</th>\n",
       "      <th>Text</th>\n",
       "      <th>Username</th>\n",
       "      <th>user_mention</th>\n",
       "      <th>followersCount</th>\n",
       "      <th>listedCount</th>\n",
       "    </tr>\n",
       "  </thead>\n",
       "  <tbody>\n",
       "    <tr>\n",
       "      <th>0</th>\n",
       "      <td>2021-02-26 23:57:25+00:00</td>\n",
       "      <td>1365450930120839172</td>\n",
       "      <td>This is what the hedgies are loosing to #games...</td>\n",
       "      <td>Tendie_Hunter</td>\n",
       "      <td>NaN</td>\n",
       "      <td>3</td>\n",
       "      <td>0</td>\n",
       "    </tr>\n",
       "    <tr>\n",
       "      <th>1</th>\n",
       "      <td>2021-02-26 23:56:24+00:00</td>\n",
       "      <td>1365450676298465288</td>\n",
       "      <td>While significant regulations and new legislat...</td>\n",
       "      <td>SullivanLaw</td>\n",
       "      <td>NaN</td>\n",
       "      <td>1384</td>\n",
       "      <td>134</td>\n",
       "    </tr>\n",
       "    <tr>\n",
       "      <th>2</th>\n",
       "      <td>2021-02-26 23:54:28+00:00</td>\n",
       "      <td>1365450187687264256</td>\n",
       "      <td>The regulator has routinely sought to remove m...</td>\n",
       "      <td>eelarson</td>\n",
       "      <td>NaN</td>\n",
       "      <td>2792</td>\n",
       "      <td>134</td>\n",
       "    </tr>\n",
       "    <tr>\n",
       "      <th>3</th>\n",
       "      <td>2021-02-26 23:53:35+00:00</td>\n",
       "      <td>1365449966282498049</td>\n",
       "      <td>If you missed out on GameStop Stonk then don’t...</td>\n",
       "      <td>tayloro57712914</td>\n",
       "      <td>NaN</td>\n",
       "      <td>0</td>\n",
       "      <td>0</td>\n",
       "    </tr>\n",
       "    <tr>\n",
       "      <th>4</th>\n",
       "      <td>2021-02-26 23:53:12+00:00</td>\n",
       "      <td>1365449869557702660</td>\n",
       "      <td>@barryoleary77 What do you think $AMC #AMC and...</td>\n",
       "      <td>NathanW97552101</td>\n",
       "      <td>barryoleary77</td>\n",
       "      <td>108</td>\n",
       "      <td>0</td>\n",
       "    </tr>\n",
       "  </tbody>\n",
       "</table>\n",
       "</div>"
      ],
      "text/plain": [
       "                    Datetime             Tweet Id  \\\n",
       "0  2021-02-26 23:57:25+00:00  1365450930120839172   \n",
       "1  2021-02-26 23:56:24+00:00  1365450676298465288   \n",
       "2  2021-02-26 23:54:28+00:00  1365450187687264256   \n",
       "3  2021-02-26 23:53:35+00:00  1365449966282498049   \n",
       "4  2021-02-26 23:53:12+00:00  1365449869557702660   \n",
       "\n",
       "                                                Text         Username  \\\n",
       "0  This is what the hedgies are loosing to #games...    Tendie_Hunter   \n",
       "1  While significant regulations and new legislat...      SullivanLaw   \n",
       "2  The regulator has routinely sought to remove m...         eelarson   \n",
       "3  If you missed out on GameStop Stonk then don’t...  tayloro57712914   \n",
       "4  @barryoleary77 What do you think $AMC #AMC and...  NathanW97552101   \n",
       "\n",
       "    user_mention  followersCount  listedCount  \n",
       "0            NaN               3            0  \n",
       "1            NaN            1384          134  \n",
       "2            NaN            2792          134  \n",
       "3            NaN               0            0  \n",
       "4  barryoleary77             108            0  "
      ]
     },
     "execution_count": 2,
     "metadata": {},
     "output_type": "execute_result"
    }
   ],
   "source": [
    "df = df.iloc[:,1:]\n",
    "df.head()"
   ]
  },
  {
   "cell_type": "code",
   "execution_count": 3,
   "metadata": {},
   "outputs": [
    {
     "data": {
      "text/plain": [
       "Index(['Datetime', 'Tweet Id', 'Text', 'Username', 'user_mention',\n",
       "       'followersCount', 'listedCount'],\n",
       "      dtype='object')"
      ]
     },
     "execution_count": 3,
     "metadata": {},
     "output_type": "execute_result"
    }
   ],
   "source": [
    "df.columns"
   ]
  },
  {
   "cell_type": "code",
   "execution_count": 17,
   "metadata": {},
   "outputs": [],
   "source": [
    "# check duplicates\n",
    "df = df.drop_duplicates()\n",
    "\n",
    "\n",
    "def clean_up(text):\n",
    "    text = text.lower()\n",
    "    # remove replied msg\n",
    "    if 'rt @' in text:\n",
    "        if len(text.split(\": \")) < 2:\n",
    "            text = text.split(\": \")[0]\n",
    "        else:\n",
    "            text = text.split(\": \")[1]\n",
    "    # remove the unnecessay URLs\n",
    "    if \"https\" in text:\n",
    "        text = text.split(\"https\")[0]\n",
    "    if \"@\" in text:\n",
    "        text = text.split(\" \")\n",
    "        # remove the strings with symbol @\n",
    "        text = [j for j in text if '@' not in j]\n",
    "        text = ' '.join(text)\n",
    "    # remove hashtag symbols\n",
    "    if \"#\" in text:\n",
    "        text = text.replace(\"#\", \"\")\n",
    "    return text\n",
    "\n",
    "df['clean_tweet'] = df['Text'].map(clean_up)"
   ]
  },
  {
   "cell_type": "code",
   "execution_count": 4,
   "metadata": {},
   "outputs": [
    {
     "data": {
      "text/html": [
       "<div>\n",
       "<style scoped>\n",
       "    .dataframe tbody tr th:only-of-type {\n",
       "        vertical-align: middle;\n",
       "    }\n",
       "\n",
       "    .dataframe tbody tr th {\n",
       "        vertical-align: top;\n",
       "    }\n",
       "\n",
       "    .dataframe thead th {\n",
       "        text-align: right;\n",
       "    }\n",
       "</style>\n",
       "<table border=\"1\" class=\"dataframe\">\n",
       "  <thead>\n",
       "    <tr style=\"text-align: right;\">\n",
       "      <th></th>\n",
       "      <th>Datetime</th>\n",
       "      <th>Tweet Id</th>\n",
       "      <th>Text</th>\n",
       "      <th>Username</th>\n",
       "      <th>user_mention</th>\n",
       "      <th>followersCount</th>\n",
       "      <th>listedCount</th>\n",
       "    </tr>\n",
       "  </thead>\n",
       "  <tbody>\n",
       "    <tr>\n",
       "      <th>0</th>\n",
       "      <td>2021-02-26 23:53:12+00:00</td>\n",
       "      <td>1365449869557702660</td>\n",
       "      <td>@barryoleary77 What do you think $AMC #AMC and...</td>\n",
       "      <td>NathanW97552101</td>\n",
       "      <td>barryoleary77</td>\n",
       "      <td>108</td>\n",
       "      <td>0</td>\n",
       "    </tr>\n",
       "    <tr>\n",
       "      <th>1</th>\n",
       "      <td>2021-02-26 23:49:20+00:00</td>\n",
       "      <td>1365448897158651905</td>\n",
       "      <td>The #Gamestop momentum might have saved @AMCTh...</td>\n",
       "      <td>PelletThomas</td>\n",
       "      <td>AMCTheatres</td>\n",
       "      <td>332</td>\n",
       "      <td>3</td>\n",
       "    </tr>\n",
       "    <tr>\n",
       "      <th>2</th>\n",
       "      <td>2021-02-26 23:47:20+00:00</td>\n",
       "      <td>1365448392113938436</td>\n",
       "      <td>@TradesTrey When are you releasing a new video...</td>\n",
       "      <td>TheDingoMang</td>\n",
       "      <td>TradesTrey</td>\n",
       "      <td>138</td>\n",
       "      <td>5</td>\n",
       "    </tr>\n",
       "    <tr>\n",
       "      <th>3</th>\n",
       "      <td>2021-02-26 23:45:06+00:00</td>\n",
       "      <td>1365447832979832832</td>\n",
       "      <td>Redditors, @RyanCohen Needs Your Help to Send ...</td>\n",
       "      <td>DanBuk4</td>\n",
       "      <td>ryancohen</td>\n",
       "      <td>1389</td>\n",
       "      <td>106</td>\n",
       "    </tr>\n",
       "    <tr>\n",
       "      <th>4</th>\n",
       "      <td>2021-02-26 23:45:06+00:00</td>\n",
       "      <td>1365447832979832832</td>\n",
       "      <td>Redditors, @RyanCohen Needs Your Help to Send ...</td>\n",
       "      <td>DanBuk4</td>\n",
       "      <td>chamath</td>\n",
       "      <td>1389</td>\n",
       "      <td>106</td>\n",
       "    </tr>\n",
       "  </tbody>\n",
       "</table>\n",
       "</div>"
      ],
      "text/plain": [
       "                    Datetime             Tweet Id  \\\n",
       "0  2021-02-26 23:53:12+00:00  1365449869557702660   \n",
       "1  2021-02-26 23:49:20+00:00  1365448897158651905   \n",
       "2  2021-02-26 23:47:20+00:00  1365448392113938436   \n",
       "3  2021-02-26 23:45:06+00:00  1365447832979832832   \n",
       "4  2021-02-26 23:45:06+00:00  1365447832979832832   \n",
       "\n",
       "                                                Text         Username  \\\n",
       "0  @barryoleary77 What do you think $AMC #AMC and...  NathanW97552101   \n",
       "1  The #Gamestop momentum might have saved @AMCTh...     PelletThomas   \n",
       "2  @TradesTrey When are you releasing a new video...     TheDingoMang   \n",
       "3  Redditors, @RyanCohen Needs Your Help to Send ...          DanBuk4   \n",
       "4  Redditors, @RyanCohen Needs Your Help to Send ...          DanBuk4   \n",
       "\n",
       "    user_mention  followersCount  listedCount  \n",
       "0  barryoleary77             108            0  \n",
       "1    AMCTheatres             332            3  \n",
       "2     TradesTrey             138            5  \n",
       "3      ryancohen            1389          106  \n",
       "4        chamath            1389          106  "
      ]
     },
     "execution_count": 4,
     "metadata": {},
     "output_type": "execute_result"
    }
   ],
   "source": [
    "df1 = df1.iloc[:,1:]\n",
    "df1.head()"
   ]
  },
  {
   "cell_type": "code",
   "execution_count": 5,
   "metadata": {},
   "outputs": [
    {
     "data": {
      "text/plain": [
       "Index(['Datetime', 'Tweet Id', 'Text', 'Username', 'user_mention',\n",
       "       'followersCount', 'listedCount'],\n",
       "      dtype='object')"
      ]
     },
     "execution_count": 5,
     "metadata": {},
     "output_type": "execute_result"
    }
   ],
   "source": [
    "df1.columns"
   ]
  },
  {
   "cell_type": "code",
   "execution_count": 6,
   "metadata": {},
   "outputs": [
    {
     "name": "stdout",
     "output_type": "stream",
     "text": [
      "The original dataset has 56838 rows of data;\n",
      "After removing the duplicates, there are 56218 rows of data\n"
     ]
    }
   ],
   "source": [
    "# clean the duplicates\n",
    "count_origin = df1.shape[0]\n",
    "df1 = df1.drop_duplicates()\n",
    "print(\"The original dataset has\", count_origin, 'rows of data;\\nAfter removing the duplicates, there are',\n",
    "      df1.shape[0], 'rows of data')"
   ]
  },
  {
   "cell_type": "code",
   "execution_count": 7,
   "metadata": {},
   "outputs": [
    {
     "data": {
      "text/plain": [
       "False"
      ]
     },
     "execution_count": 7,
     "metadata": {},
     "output_type": "execute_result"
    }
   ],
   "source": [
    "# check any NaN\n",
    "df1.isnull().values.any()"
   ]
  },
  {
   "cell_type": "code",
   "execution_count": 8,
   "metadata": {},
   "outputs": [
    {
     "name": "stdout",
     "output_type": "stream",
     "text": [
      "<class 'pandas.core.frame.DataFrame'>\n",
      "Int64Index: 56218 entries, 0 to 56837\n",
      "Data columns (total 7 columns):\n",
      " #   Column          Non-Null Count  Dtype \n",
      "---  ------          --------------  ----- \n",
      " 0   Datetime        56218 non-null  object\n",
      " 1   Tweet Id        56218 non-null  int64 \n",
      " 2   Text            56218 non-null  object\n",
      " 3   Username        56218 non-null  object\n",
      " 4   user_mention    56218 non-null  object\n",
      " 5   followersCount  56218 non-null  int64 \n",
      " 6   listedCount     56218 non-null  int64 \n",
      "dtypes: int64(3), object(4)\n",
      "memory usage: 3.4+ MB\n"
     ]
    }
   ],
   "source": [
    "df1.info()"
   ]
  },
  {
   "cell_type": "code",
   "execution_count": 9,
   "metadata": {},
   "outputs": [
    {
     "data": {
      "text/html": [
       "<div>\n",
       "<style scoped>\n",
       "    .dataframe tbody tr th:only-of-type {\n",
       "        vertical-align: middle;\n",
       "    }\n",
       "\n",
       "    .dataframe tbody tr th {\n",
       "        vertical-align: top;\n",
       "    }\n",
       "\n",
       "    .dataframe thead th {\n",
       "        text-align: right;\n",
       "    }\n",
       "</style>\n",
       "<table border=\"1\" class=\"dataframe\">\n",
       "  <thead>\n",
       "    <tr style=\"text-align: right;\">\n",
       "      <th></th>\n",
       "      <th>Tweet Id</th>\n",
       "      <th>followersCount</th>\n",
       "      <th>listedCount</th>\n",
       "    </tr>\n",
       "  </thead>\n",
       "  <tbody>\n",
       "    <tr>\n",
       "      <th>count</th>\n",
       "      <td>5.621800e+04</td>\n",
       "      <td>5.621800e+04</td>\n",
       "      <td>56218.000000</td>\n",
       "    </tr>\n",
       "    <tr>\n",
       "      <th>mean</th>\n",
       "      <td>1.356504e+18</td>\n",
       "      <td>1.435328e+04</td>\n",
       "      <td>126.767530</td>\n",
       "    </tr>\n",
       "    <tr>\n",
       "      <th>std</th>\n",
       "      <td>2.975119e+15</td>\n",
       "      <td>2.796844e+05</td>\n",
       "      <td>1108.586404</td>\n",
       "    </tr>\n",
       "    <tr>\n",
       "      <th>min</th>\n",
       "      <td>1.342992e+18</td>\n",
       "      <td>0.000000e+00</td>\n",
       "      <td>0.000000</td>\n",
       "    </tr>\n",
       "    <tr>\n",
       "      <th>25%</th>\n",
       "      <td>1.354825e+18</td>\n",
       "      <td>5.500000e+01</td>\n",
       "      <td>0.000000</td>\n",
       "    </tr>\n",
       "    <tr>\n",
       "      <th>50%</th>\n",
       "      <td>1.355443e+18</td>\n",
       "      <td>2.240000e+02</td>\n",
       "      <td>2.000000</td>\n",
       "    </tr>\n",
       "    <tr>\n",
       "      <th>75%</th>\n",
       "      <td>1.356962e+18</td>\n",
       "      <td>1.202000e+03</td>\n",
       "      <td>25.000000</td>\n",
       "    </tr>\n",
       "    <tr>\n",
       "      <th>max</th>\n",
       "      <td>1.365450e+18</td>\n",
       "      <td>1.673655e+07</td>\n",
       "      <td>59119.000000</td>\n",
       "    </tr>\n",
       "  </tbody>\n",
       "</table>\n",
       "</div>"
      ],
      "text/plain": [
       "           Tweet Id  followersCount   listedCount\n",
       "count  5.621800e+04    5.621800e+04  56218.000000\n",
       "mean   1.356504e+18    1.435328e+04    126.767530\n",
       "std    2.975119e+15    2.796844e+05   1108.586404\n",
       "min    1.342992e+18    0.000000e+00      0.000000\n",
       "25%    1.354825e+18    5.500000e+01      0.000000\n",
       "50%    1.355443e+18    2.240000e+02      2.000000\n",
       "75%    1.356962e+18    1.202000e+03     25.000000\n",
       "max    1.365450e+18    1.673655e+07  59119.000000"
      ]
     },
     "execution_count": 9,
     "metadata": {},
     "output_type": "execute_result"
    }
   ],
   "source": [
    "df1.describe()"
   ]
  },
  {
   "cell_type": "code",
   "execution_count": 10,
   "metadata": {},
   "outputs": [
    {
     "data": {
      "image/png": "[encoded data removed]",
      "text/plain": [
       "<Figure size 720x504 with 4 Axes>"
      ]
     },
     "metadata": {
      "needs_background": "light"
     },
     "output_type": "display_data"
    }
   ],
   "source": [
    "df1.hist(bins=70, figsize=(10,7))\n",
    "plt.show()"
   ]
  },
  {
   "cell_type": "code",
   "execution_count": 11,
   "metadata": {},
   "outputs": [
    {
     "data": {
      "image/png": "[encoded data removed]",
      "text/plain": [
       "<Figure size 864x648 with 2 Axes>"
      ]
     },
     "metadata": {
      "needs_background": "light"
     },
     "output_type": "display_data"
    }
   ],
   "source": [
    "# Correlation\n",
    "corrmat = df1.corr()\n",
    "f, ax = plt.subplots(figsize=(12, 9))\n",
    "sns.heatmap(corrmat, square=True, annot=True)\n",
    "ax.set_title('Correaltion Map')\n",
    "plt.show()"
   ]
  },
  {
   "cell_type": "code",
   "execution_count": 12,
   "metadata": {},
   "outputs": [],
   "source": [
    "import networkx as nx\n",
    "\n",
    "G = nx.DiGraph()\n",
    "lst=list()\n",
    "column1=df1['Username']\n",
    "column2=df1['user_mention']\n",
    "i=0\n",
    "for (a,b) in zip(column1, column2):\n",
    "    \n",
    "    lst.append((a,b))\n",
    "    G.add_edges_from(lst)\n",
    "closeness_centrality=pd.DataFrame.from_dict(nx.closeness_centrality(G), orient='index').reset_index()\n",
    "betweenness_centrality=pd.DataFrame.from_dict(nx.betweenness_centrality(G), orient='index').reset_index()\n",
    "degree=pd.DataFrame.from_dict(nx.degree_centrality(G), orient='index').reset_index()"
   ]
  },
  {
   "cell_type": "code",
   "execution_count": 13,
   "metadata": {},
   "outputs": [
    {
     "data": {
      "text/html": [
       "<div>\n",
       "<style scoped>\n",
       "    .dataframe tbody tr th:only-of-type {\n",
       "        vertical-align: middle;\n",
       "    }\n",
       "\n",
       "    .dataframe tbody tr th {\n",
       "        vertical-align: top;\n",
       "    }\n",
       "\n",
       "    .dataframe thead th {\n",
       "        text-align: right;\n",
       "    }\n",
       "</style>\n",
       "<table border=\"1\" class=\"dataframe\">\n",
       "  <thead>\n",
       "    <tr style=\"text-align: right;\">\n",
       "      <th></th>\n",
       "      <th>index</th>\n",
       "      <th>0</th>\n",
       "    </tr>\n",
       "  </thead>\n",
       "  <tbody>\n",
       "    <tr>\n",
       "      <th>0</th>\n",
       "      <td>NathanW97552101</td>\n",
       "      <td>0.000000</td>\n",
       "    </tr>\n",
       "    <tr>\n",
       "      <th>1</th>\n",
       "      <td>barryoleary77</td>\n",
       "      <td>0.000057</td>\n",
       "    </tr>\n",
       "    <tr>\n",
       "      <th>2</th>\n",
       "      <td>PelletThomas</td>\n",
       "      <td>0.000000</td>\n",
       "    </tr>\n",
       "    <tr>\n",
       "      <th>3</th>\n",
       "      <td>AMCTheatres</td>\n",
       "      <td>0.003437</td>\n",
       "    </tr>\n",
       "    <tr>\n",
       "      <th>4</th>\n",
       "      <td>TheDingoMang</td>\n",
       "      <td>0.000000</td>\n",
       "    </tr>\n",
       "    <tr>\n",
       "      <th>...</th>\n",
       "      <td>...</td>\n",
       "      <td>...</td>\n",
       "    </tr>\n",
       "    <tr>\n",
       "      <th>35219</th>\n",
       "      <td>Toadsnob</td>\n",
       "      <td>0.000000</td>\n",
       "    </tr>\n",
       "    <tr>\n",
       "      <th>35220</th>\n",
       "      <td>UTBOERG</td>\n",
       "      <td>0.000000</td>\n",
       "    </tr>\n",
       "    <tr>\n",
       "      <th>35221</th>\n",
       "      <td>Rainbow6Game</td>\n",
       "      <td>0.000028</td>\n",
       "    </tr>\n",
       "    <tr>\n",
       "      <th>35222</th>\n",
       "      <td>Y2kCustomPCs</td>\n",
       "      <td>0.000000</td>\n",
       "    </tr>\n",
       "    <tr>\n",
       "      <th>35223</th>\n",
       "      <td>NormandoNormie</td>\n",
       "      <td>0.000000</td>\n",
       "    </tr>\n",
       "  </tbody>\n",
       "</table>\n",
       "<p>35224 rows × 2 columns</p>\n",
       "</div>"
      ],
      "text/plain": [
       "                 index         0\n",
       "0      NathanW97552101  0.000000\n",
       "1        barryoleary77  0.000057\n",
       "2         PelletThomas  0.000000\n",
       "3          AMCTheatres  0.003437\n",
       "4         TheDingoMang  0.000000\n",
       "...                ...       ...\n",
       "35219         Toadsnob  0.000000\n",
       "35220          UTBOERG  0.000000\n",
       "35221     Rainbow6Game  0.000028\n",
       "35222     Y2kCustomPCs  0.000000\n",
       "35223   NormandoNormie  0.000000\n",
       "\n",
       "[35224 rows x 2 columns]"
      ]
     },
     "execution_count": 13,
     "metadata": {},
     "output_type": "execute_result"
    }
   ],
   "source": [
    "closeness_centrality"
   ]
  },
  {
   "cell_type": "code",
   "execution_count": 14,
   "metadata": {},
   "outputs": [],
   "source": [
    "df1[\"closeness_centrality\"] = closeness_centrality[0]\n",
    "df1[\"betweenness_centrality\"] = betweenness_centrality[0]\n",
    "df1[\"degree_centrality\"] = degree[0]"
   ]
  },
  {
   "cell_type": "code",
   "execution_count": 15,
   "metadata": {},
   "outputs": [
    {
     "data": {
      "image/png": "[encoded data removed]",
      "text/plain": [
       "<Figure size 864x648 with 2 Axes>"
      ]
     },
     "metadata": {
      "needs_background": "light"
     },
     "output_type": "display_data"
    }
   ],
   "source": [
    "# Correlation'\n",
    "corrmat = df1.corr()\n",
    "f, ax = plt.subplots(figsize=(12, 9))\n",
    "sns.heatmap(corrmat, square=True, annot=True)\n",
    "ax.set_title('Correaltion Map')\n",
    "plt.show()"
   ]
  },
  {
   "cell_type": "code",
   "execution_count": 16,
   "metadata": {},
   "outputs": [
    {
     "data": {
      "image/png": "[encoded data removed]",
      "text/plain": [
       "<Figure size 720x504 with 6 Axes>"
      ]
     },
     "metadata": {
      "needs_background": "light"
     },
     "output_type": "display_data"
    }
   ],
   "source": [
    "df1.hist(bins=70, figsize=(10,7))\n",
    "plt.show()"
   ]
  },
  {
   "cell_type": "code",
   "execution_count": null,
   "metadata": {},
   "outputs": [],
   "source": []
  },
  {
   "cell_type": "code",
   "execution_count": null,
   "metadata": {},
   "outputs": [],
   "source": []
  },
  {
   "cell_type": "code",
   "execution_count": null,
   "metadata": {},
   "outputs": [],
   "source": []
  },
  {
   "cell_type": "code",
   "execution_count": null,
   "metadata": {},
   "outputs": [],
   "source": []
  },
  {
   "cell_type": "code",
   "execution_count": null,
   "metadata": {},
   "outputs": [],
   "source": []
  }
 ],
 "metadata": {
  "kernelspec": {
   "display_name": "Python 3",
   "language": "python",
   "name": "python3"
  },
  "language_info": {
   "codemirror_mode": {
    "name": "ipython",
    "version": 3
   },
   "file_extension": ".py",
   "mimetype": "text/x-python",
   "name": "python",
   "nbconvert_exporter": "python",
   "pygments_lexer": "ipython3",
   "version": "3.7.6"
  }
 },
 "nbformat": 4,
 "nbformat_minor": 5
}
